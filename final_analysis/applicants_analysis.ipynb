{
 "cells": [
  {
   "cell_type": "code",
   "execution_count": 1,
   "metadata": {
    "collapsed": true
   },
   "outputs": [],
   "source": [
    "import pandas as pd\n",
    "import numpy as np\n",
    "import seaborn as sns\n",
    "import matplotlib.pyplot as plt\n",
    "%matplotlib inline"
   ]
  },
  {
   "cell_type": "code",
   "execution_count": 2,
   "metadata": {
    "collapsed": true
   },
   "outputs": [],
   "source": [
    "offers = pd.read_csv(\"../data/laraData/offer_events.csv\", sep = ';')\n",
    "applications = pd.read_csv(\"../data/laraData/application_events.csv\", sep = ';')\n",
    "workitems = pd.read_csv(\"../data/laraData/workitem_events.csv\", sep = ';')\n",
    "events = pd.read_csv(\"../data/laraData/events.csv\", sep = ';', low_memory = False)"
   ]
  },
  {
   "cell_type": "code",
   "execution_count": 3,
   "metadata": {},
   "outputs": [
    {
     "data": {
      "text/html": [
       "<div>\n",
       "<style scoped>\n",
       "    .dataframe tbody tr th:only-of-type {\n",
       "        vertical-align: middle;\n",
       "    }\n",
       "\n",
       "    .dataframe tbody tr th {\n",
       "        vertical-align: top;\n",
       "    }\n",
       "\n",
       "    .dataframe thead th {\n",
       "        text-align: right;\n",
       "    }\n",
       "</style>\n",
       "<table border=\"1\" class=\"dataframe\">\n",
       "  <thead>\n",
       "    <tr style=\"text-align: right;\">\n",
       "      <th></th>\n",
       "      <th>A_ID</th>\n",
       "      <th>WI_HIST_ID</th>\n",
       "      <th>WI_HIST_DT_CREATED</th>\n",
       "      <th>WI_ID</th>\n",
       "      <th>WI_USER_CREATED</th>\n",
       "      <th>WI_ACTION</th>\n",
       "      <th>WI_ACTION_DESC</th>\n",
       "      <th>WI_QUEUE</th>\n",
       "      <th>WI_QUEUE_DESC</th>\n",
       "      <th>event</th>\n",
       "      <th>...</th>\n",
       "      <th>NUMBER_OF_CHILDREN</th>\n",
       "      <th>MARITAL_STATUS</th>\n",
       "      <th>SEX</th>\n",
       "      <th>HOUSING_TYPE</th>\n",
       "      <th>INCOMEAMOUNT_YEAR</th>\n",
       "      <th>SCE_CREDITSCORE</th>\n",
       "      <th>SCE_ACCEPTED</th>\n",
       "      <th>SCE_ACCEPTED_OVERRIDE</th>\n",
       "      <th>SCE_MAX_AMOUNT</th>\n",
       "      <th>SCE_MAX_AMOUNT_OVERRIDE</th>\n",
       "    </tr>\n",
       "  </thead>\n",
       "  <tbody>\n",
       "    <tr>\n",
       "      <th>0</th>\n",
       "      <td>719696</td>\n",
       "      <td>2756085</td>\n",
       "      <td>4/1/2017 19:18:29,800000</td>\n",
       "      <td>512175</td>\n",
       "      <td>USER_31</td>\n",
       "      <td>944</td>\n",
       "      <td>Verkregen</td>\n",
       "      <td>25</td>\n",
       "      <td>Nabellen incomplete dossiers</td>\n",
       "      <td>W_Call incomplete files</td>\n",
       "      <td>...</td>\n",
       "      <td>0.0</td>\n",
       "      <td>Samenwonend</td>\n",
       "      <td>Vrouw</td>\n",
       "      <td>Koophuis</td>\n",
       "      <td>41088.0</td>\n",
       "      <td>784.0</td>\n",
       "      <td>1.0</td>\n",
       "      <td>1.0</td>\n",
       "      <td>49340.0</td>\n",
       "      <td>49340.0</td>\n",
       "    </tr>\n",
       "    <tr>\n",
       "      <th>1</th>\n",
       "      <td>719696</td>\n",
       "      <td>2754294</td>\n",
       "      <td>4/1/2017 13:07:45,692000</td>\n",
       "      <td>512175</td>\n",
       "      <td>USER_100</td>\n",
       "      <td>944</td>\n",
       "      <td>Verkregen</td>\n",
       "      <td>25</td>\n",
       "      <td>Nabellen incomplete dossiers</td>\n",
       "      <td>W_Call incomplete files</td>\n",
       "      <td>...</td>\n",
       "      <td>0.0</td>\n",
       "      <td>Samenwonend</td>\n",
       "      <td>Vrouw</td>\n",
       "      <td>Koophuis</td>\n",
       "      <td>41088.0</td>\n",
       "      <td>784.0</td>\n",
       "      <td>1.0</td>\n",
       "      <td>1.0</td>\n",
       "      <td>49340.0</td>\n",
       "      <td>49340.0</td>\n",
       "    </tr>\n",
       "    <tr>\n",
       "      <th>2</th>\n",
       "      <td>719696</td>\n",
       "      <td>2757702</td>\n",
       "      <td>5/1/2017 11:15:24,925000</td>\n",
       "      <td>512842</td>\n",
       "      <td>USER_119</td>\n",
       "      <td>942</td>\n",
       "      <td>Aangemaakt</td>\n",
       "      <td>24</td>\n",
       "      <td>Valideren aanvraag</td>\n",
       "      <td>W_Validate application</td>\n",
       "      <td>...</td>\n",
       "      <td>0.0</td>\n",
       "      <td>Samenwonend</td>\n",
       "      <td>Vrouw</td>\n",
       "      <td>Koophuis</td>\n",
       "      <td>41088.0</td>\n",
       "      <td>784.0</td>\n",
       "      <td>1.0</td>\n",
       "      <td>1.0</td>\n",
       "      <td>49340.0</td>\n",
       "      <td>49340.0</td>\n",
       "    </tr>\n",
       "    <tr>\n",
       "      <th>3</th>\n",
       "      <td>719696</td>\n",
       "      <td>2761252</td>\n",
       "      <td>6/1/2017 10:17:19,545000</td>\n",
       "      <td>512842</td>\n",
       "      <td>USER_100</td>\n",
       "      <td>943</td>\n",
       "      <td>Verwijderd</td>\n",
       "      <td>24</td>\n",
       "      <td>Valideren aanvraag</td>\n",
       "      <td>W_Validate application</td>\n",
       "      <td>...</td>\n",
       "      <td>0.0</td>\n",
       "      <td>Samenwonend</td>\n",
       "      <td>Vrouw</td>\n",
       "      <td>Koophuis</td>\n",
       "      <td>41088.0</td>\n",
       "      <td>784.0</td>\n",
       "      <td>1.0</td>\n",
       "      <td>1.0</td>\n",
       "      <td>49340.0</td>\n",
       "      <td>49340.0</td>\n",
       "    </tr>\n",
       "    <tr>\n",
       "      <th>4</th>\n",
       "      <td>719696</td>\n",
       "      <td>2757704</td>\n",
       "      <td>5/1/2017 11:15:50,183000</td>\n",
       "      <td>512842</td>\n",
       "      <td>USER_119</td>\n",
       "      <td>945</td>\n",
       "      <td>Vrijgeven</td>\n",
       "      <td>24</td>\n",
       "      <td>Valideren aanvraag</td>\n",
       "      <td>W_Validate application</td>\n",
       "      <td>...</td>\n",
       "      <td>0.0</td>\n",
       "      <td>Samenwonend</td>\n",
       "      <td>Vrouw</td>\n",
       "      <td>Koophuis</td>\n",
       "      <td>41088.0</td>\n",
       "      <td>784.0</td>\n",
       "      <td>1.0</td>\n",
       "      <td>1.0</td>\n",
       "      <td>49340.0</td>\n",
       "      <td>49340.0</td>\n",
       "    </tr>\n",
       "  </tbody>\n",
       "</table>\n",
       "<p>5 rows × 23 columns</p>\n",
       "</div>"
      ],
      "text/plain": [
       "     A_ID  WI_HIST_ID        WI_HIST_DT_CREATED   WI_ID WI_USER_CREATED  \\\n",
       "0  719696     2756085  4/1/2017 19:18:29,800000  512175         USER_31   \n",
       "1  719696     2754294  4/1/2017 13:07:45,692000  512175        USER_100   \n",
       "2  719696     2757702  5/1/2017 11:15:24,925000  512842        USER_119   \n",
       "3  719696     2761252  6/1/2017 10:17:19,545000  512842        USER_100   \n",
       "4  719696     2757704  5/1/2017 11:15:50,183000  512842        USER_119   \n",
       "\n",
       "   WI_ACTION WI_ACTION_DESC  WI_QUEUE                 WI_QUEUE_DESC  \\\n",
       "0        944      Verkregen        25  Nabellen incomplete dossiers   \n",
       "1        944      Verkregen        25  Nabellen incomplete dossiers   \n",
       "2        942     Aangemaakt        24            Valideren aanvraag   \n",
       "3        943     Verwijderd        24            Valideren aanvraag   \n",
       "4        945      Vrijgeven        24            Valideren aanvraag   \n",
       "\n",
       "                     event           ...             NUMBER_OF_CHILDREN  \\\n",
       "0  W_Call incomplete files           ...                            0.0   \n",
       "1  W_Call incomplete files           ...                            0.0   \n",
       "2   W_Validate application           ...                            0.0   \n",
       "3   W_Validate application           ...                            0.0   \n",
       "4   W_Validate application           ...                            0.0   \n",
       "\n",
       "   MARITAL_STATUS    SEX  HOUSING_TYPE INCOMEAMOUNT_YEAR SCE_CREDITSCORE  \\\n",
       "0     Samenwonend  Vrouw      Koophuis           41088.0           784.0   \n",
       "1     Samenwonend  Vrouw      Koophuis           41088.0           784.0   \n",
       "2     Samenwonend  Vrouw      Koophuis           41088.0           784.0   \n",
       "3     Samenwonend  Vrouw      Koophuis           41088.0           784.0   \n",
       "4     Samenwonend  Vrouw      Koophuis           41088.0           784.0   \n",
       "\n",
       "  SCE_ACCEPTED  SCE_ACCEPTED_OVERRIDE  SCE_MAX_AMOUNT  SCE_MAX_AMOUNT_OVERRIDE  \n",
       "0          1.0                    1.0         49340.0                  49340.0  \n",
       "1          1.0                    1.0         49340.0                  49340.0  \n",
       "2          1.0                    1.0         49340.0                  49340.0  \n",
       "3          1.0                    1.0         49340.0                  49340.0  \n",
       "4          1.0                    1.0         49340.0                  49340.0  \n",
       "\n",
       "[5 rows x 23 columns]"
      ]
     },
     "execution_count": 3,
     "metadata": {},
     "output_type": "execute_result"
    }
   ],
   "source": [
    "workitems.head()"
   ]
  },
  {
   "cell_type": "code",
   "execution_count": 4,
   "metadata": {},
   "outputs": [
    {
     "data": {
      "text/html": [
       "<div>\n",
       "<style scoped>\n",
       "    .dataframe tbody tr th:only-of-type {\n",
       "        vertical-align: middle;\n",
       "    }\n",
       "\n",
       "    .dataframe tbody tr th {\n",
       "        vertical-align: top;\n",
       "    }\n",
       "\n",
       "    .dataframe thead th {\n",
       "        text-align: right;\n",
       "    }\n",
       "</style>\n",
       "<table border=\"1\" class=\"dataframe\">\n",
       "  <thead>\n",
       "    <tr style=\"text-align: right;\">\n",
       "      <th></th>\n",
       "      <th>A_ID</th>\n",
       "      <th>A_DT_CREATED</th>\n",
       "      <th>A_INIT_REQ_AMT</th>\n",
       "      <th>A_USER_CREATED</th>\n",
       "      <th>A_APPLICATIONTYPE</th>\n",
       "      <th>A_APPLICATIONTYPE_DESC</th>\n",
       "      <th>A_LOANGOALTYPE</th>\n",
       "      <th>A_LOANGOALTYPE_DESC</th>\n",
       "      <th>AS_ID</th>\n",
       "      <th>AS_APPLICATIONSTATE</th>\n",
       "      <th>...</th>\n",
       "      <th>NUMBER_OF_CHILDREN</th>\n",
       "      <th>MARITAL_STATUS</th>\n",
       "      <th>SEX</th>\n",
       "      <th>HOUSING_TYPE</th>\n",
       "      <th>SCE_CREDITSCORE</th>\n",
       "      <th>SCE_ACCEPTED</th>\n",
       "      <th>SCE_ACCEPTED_OVERRIDE</th>\n",
       "      <th>SCE_MAX_AMOUNT</th>\n",
       "      <th>SCE_MAX_AMOUNT_OVERRIDE</th>\n",
       "      <th>INCOMEAMOUNT_YEAR</th>\n",
       "    </tr>\n",
       "  </thead>\n",
       "  <tbody>\n",
       "    <tr>\n",
       "      <th>0</th>\n",
       "      <td>719696</td>\n",
       "      <td>1/1/2017 2:42:29,064000</td>\n",
       "      <td>29000.0</td>\n",
       "      <td>USER_1</td>\n",
       "      <td>520</td>\n",
       "      <td>Nieuw krediet</td>\n",
       "      <td>866.0</td>\n",
       "      <td>Auto</td>\n",
       "      <td>1453642</td>\n",
       "      <td>511</td>\n",
       "      <td>...</td>\n",
       "      <td>0.0</td>\n",
       "      <td>Samenwonend</td>\n",
       "      <td>Vrouw</td>\n",
       "      <td>Koophuis</td>\n",
       "      <td>784.0</td>\n",
       "      <td>1.0</td>\n",
       "      <td>1.0</td>\n",
       "      <td>49340.0</td>\n",
       "      <td>49340.0</td>\n",
       "      <td>41088.0</td>\n",
       "    </tr>\n",
       "    <tr>\n",
       "      <th>1</th>\n",
       "      <td>719696</td>\n",
       "      <td>1/1/2017 2:42:29,064000</td>\n",
       "      <td>29000.0</td>\n",
       "      <td>USER_1</td>\n",
       "      <td>520</td>\n",
       "      <td>Nieuw krediet</td>\n",
       "      <td>866.0</td>\n",
       "      <td>Auto</td>\n",
       "      <td>1454067</td>\n",
       "      <td>513</td>\n",
       "      <td>...</td>\n",
       "      <td>0.0</td>\n",
       "      <td>Samenwonend</td>\n",
       "      <td>Vrouw</td>\n",
       "      <td>Koophuis</td>\n",
       "      <td>784.0</td>\n",
       "      <td>1.0</td>\n",
       "      <td>1.0</td>\n",
       "      <td>49340.0</td>\n",
       "      <td>49340.0</td>\n",
       "      <td>41088.0</td>\n",
       "    </tr>\n",
       "    <tr>\n",
       "      <th>2</th>\n",
       "      <td>719696</td>\n",
       "      <td>1/1/2017 2:42:29,064000</td>\n",
       "      <td>29000.0</td>\n",
       "      <td>USER_1</td>\n",
       "      <td>520</td>\n",
       "      <td>Nieuw krediet</td>\n",
       "      <td>866.0</td>\n",
       "      <td>Auto</td>\n",
       "      <td>1458788</td>\n",
       "      <td>517</td>\n",
       "      <td>...</td>\n",
       "      <td>0.0</td>\n",
       "      <td>Samenwonend</td>\n",
       "      <td>Vrouw</td>\n",
       "      <td>Koophuis</td>\n",
       "      <td>784.0</td>\n",
       "      <td>1.0</td>\n",
       "      <td>1.0</td>\n",
       "      <td>49340.0</td>\n",
       "      <td>49340.0</td>\n",
       "      <td>41088.0</td>\n",
       "    </tr>\n",
       "    <tr>\n",
       "      <th>3</th>\n",
       "      <td>719696</td>\n",
       "      <td>1/1/2017 2:42:29,064000</td>\n",
       "      <td>29000.0</td>\n",
       "      <td>USER_1</td>\n",
       "      <td>520</td>\n",
       "      <td>Nieuw krediet</td>\n",
       "      <td>866.0</td>\n",
       "      <td>Auto</td>\n",
       "      <td>1456650</td>\n",
       "      <td>516</td>\n",
       "      <td>...</td>\n",
       "      <td>0.0</td>\n",
       "      <td>Samenwonend</td>\n",
       "      <td>Vrouw</td>\n",
       "      <td>Koophuis</td>\n",
       "      <td>784.0</td>\n",
       "      <td>1.0</td>\n",
       "      <td>1.0</td>\n",
       "      <td>49340.0</td>\n",
       "      <td>49340.0</td>\n",
       "      <td>41088.0</td>\n",
       "    </tr>\n",
       "    <tr>\n",
       "      <th>4</th>\n",
       "      <td>719696</td>\n",
       "      <td>1/1/2017 2:42:29,064000</td>\n",
       "      <td>29000.0</td>\n",
       "      <td>USER_1</td>\n",
       "      <td>520</td>\n",
       "      <td>Nieuw krediet</td>\n",
       "      <td>866.0</td>\n",
       "      <td>Auto</td>\n",
       "      <td>1453643</td>\n",
       "      <td>512</td>\n",
       "      <td>...</td>\n",
       "      <td>0.0</td>\n",
       "      <td>Samenwonend</td>\n",
       "      <td>Vrouw</td>\n",
       "      <td>Koophuis</td>\n",
       "      <td>784.0</td>\n",
       "      <td>1.0</td>\n",
       "      <td>1.0</td>\n",
       "      <td>49340.0</td>\n",
       "      <td>49340.0</td>\n",
       "      <td>41088.0</td>\n",
       "    </tr>\n",
       "  </tbody>\n",
       "</table>\n",
       "<p>5 rows × 27 columns</p>\n",
       "</div>"
      ],
      "text/plain": [
       "     A_ID             A_DT_CREATED  A_INIT_REQ_AMT A_USER_CREATED  \\\n",
       "0  719696  1/1/2017 2:42:29,064000         29000.0         USER_1   \n",
       "1  719696  1/1/2017 2:42:29,064000         29000.0         USER_1   \n",
       "2  719696  1/1/2017 2:42:29,064000         29000.0         USER_1   \n",
       "3  719696  1/1/2017 2:42:29,064000         29000.0         USER_1   \n",
       "4  719696  1/1/2017 2:42:29,064000         29000.0         USER_1   \n",
       "\n",
       "   A_APPLICATIONTYPE A_APPLICATIONTYPE_DESC  A_LOANGOALTYPE  \\\n",
       "0                520          Nieuw krediet           866.0   \n",
       "1                520          Nieuw krediet           866.0   \n",
       "2                520          Nieuw krediet           866.0   \n",
       "3                520          Nieuw krediet           866.0   \n",
       "4                520          Nieuw krediet           866.0   \n",
       "\n",
       "  A_LOANGOALTYPE_DESC    AS_ID  AS_APPLICATIONSTATE        ...         \\\n",
       "0                Auto  1453642                  511        ...          \n",
       "1                Auto  1454067                  513        ...          \n",
       "2                Auto  1458788                  517        ...          \n",
       "3                Auto  1456650                  516        ...          \n",
       "4                Auto  1453643                  512        ...          \n",
       "\n",
       "  NUMBER_OF_CHILDREN MARITAL_STATUS    SEX HOUSING_TYPE  SCE_CREDITSCORE  \\\n",
       "0                0.0    Samenwonend  Vrouw     Koophuis            784.0   \n",
       "1                0.0    Samenwonend  Vrouw     Koophuis            784.0   \n",
       "2                0.0    Samenwonend  Vrouw     Koophuis            784.0   \n",
       "3                0.0    Samenwonend  Vrouw     Koophuis            784.0   \n",
       "4                0.0    Samenwonend  Vrouw     Koophuis            784.0   \n",
       "\n",
       "   SCE_ACCEPTED SCE_ACCEPTED_OVERRIDE  SCE_MAX_AMOUNT SCE_MAX_AMOUNT_OVERRIDE  \\\n",
       "0           1.0                   1.0         49340.0                 49340.0   \n",
       "1           1.0                   1.0         49340.0                 49340.0   \n",
       "2           1.0                   1.0         49340.0                 49340.0   \n",
       "3           1.0                   1.0         49340.0                 49340.0   \n",
       "4           1.0                   1.0         49340.0                 49340.0   \n",
       "\n",
       "  INCOMEAMOUNT_YEAR  \n",
       "0           41088.0  \n",
       "1           41088.0  \n",
       "2           41088.0  \n",
       "3           41088.0  \n",
       "4           41088.0  \n",
       "\n",
       "[5 rows x 27 columns]"
      ]
     },
     "execution_count": 4,
     "metadata": {},
     "output_type": "execute_result"
    }
   ],
   "source": [
    "applications.head()"
   ]
  },
  {
   "cell_type": "code",
   "execution_count": 5,
   "metadata": {},
   "outputs": [
    {
     "name": "stdout",
     "output_type": "stream",
     "text": [
      "25467\n",
      "25467\n",
      "54709\n",
      "54709\n",
      "45679\n",
      "45678\n"
     ]
    }
   ],
   "source": [
    "created = applications.loc[applications.event == \"A_Create Application\"]\n",
    "print(created.shape[0])\n",
    "print(len(list(set(created.A_ID))))\n",
    "\n",
    "submitted = applications.loc[applications.event == \"A_Submitted\"]\n",
    "print(submitted.shape[0])\n",
    "print(len(list(set(submitted.A_ID))))\n",
    "\n",
    "concept = applications.loc[applications.event == \"A_Concept\"]\n",
    "print(concept.shape[0])\n",
    "print(len(list(set(concept.A_ID))))"
   ]
  },
  {
   "cell_type": "markdown",
   "metadata": {},
   "source": [
    "A_Concept denotes the first automatic check that is done online. Let's have a look at the applications that fail this particular test."
   ]
  },
  {
   "cell_type": "markdown",
   "metadata": {},
   "source": [
    "<font color='red'><i>Critical step: Since we are dealing with timestamped data, it can happen that there applications whose A_Concept event is in the given dataset, while its A_Submitted event is not in the given dataset</i></font>"
   ]
  },
  {
   "cell_type": "code",
   "execution_count": 6,
   "metadata": {},
   "outputs": [
    {
     "name": "stdout",
     "output_type": "stream",
     "text": [
      "34095\n"
     ]
    },
    {
     "data": {
      "text/plain": [
       "20614"
      ]
     },
     "execution_count": 6,
     "metadata": {},
     "output_type": "execute_result"
    }
   ],
   "source": [
    "applications_submitted = list(submitted.A_ID)\n",
    "applications_concept = list(set(applications_submitted).intersection(set(concept.A_ID)))\n",
    "print(len(applications_concept))\n",
    "applications_fail_test = list(set(applications_submitted).difference(set(applications_concept)))\n",
    "len(applications_fail_test)"
   ]
  },
  {
   "cell_type": "code",
   "execution_count": 7,
   "metadata": {
    "scrolled": false
   },
   "outputs": [
    {
     "data": {
      "text/plain": [
       "0"
      ]
     },
     "execution_count": 7,
     "metadata": {},
     "output_type": "execute_result"
    }
   ],
   "source": [
    "came_through = list(set(applications.loc[applications.event == 'A_Pending'].A_ID))\n",
    "len(set(applications_fail_test).intersection(set(came_through)))# just to double-check"
   ]
  },
  {
   "cell_type": "code",
   "execution_count": 8,
   "metadata": {},
   "outputs": [
    {
     "data": {
      "text/plain": [
       "20614"
      ]
     },
     "execution_count": 8,
     "metadata": {},
     "output_type": "execute_result"
    }
   ],
   "source": [
    "fail = applications.loc[applications.A_ID.isin(applications_fail_test)]\n",
    "fail = fail.drop_duplicates(subset='A_ID', keep=\"last\")\n",
    "fail.shape[0]"
   ]
  },
  {
   "cell_type": "code",
   "execution_count": 9,
   "metadata": {},
   "outputs": [
    {
     "data": {
      "text/plain": [
       "45678"
      ]
     },
     "execution_count": 9,
     "metadata": {},
     "output_type": "execute_result"
    }
   ],
   "source": [
    "success = applications.loc[~applications.A_ID.isin(applications_fail_test)]\n",
    "success = success.drop_duplicates(subset='A_ID', keep=\"last\")\n",
    "success.shape[0]"
   ]
  },
  {
   "cell_type": "code",
   "execution_count": 10,
   "metadata": {},
   "outputs": [
    {
     "data": {
      "text/plain": [
       "((13571, 27), 13571)"
      ]
     },
     "execution_count": 10,
     "metadata": {},
     "output_type": "execute_result"
    }
   ],
   "source": [
    "accept = applications.loc[applications.event == 'A_Pending']\n",
    "accept.shape, len(set(accept.A_ID)) # obviously no need to drop duplicates"
   ]
  },
  {
   "cell_type": "markdown",
   "metadata": {},
   "source": [
    "<font color='red'><i>Since we want to compare the applications/applicants who fail the initial tests, we have to remove these applications from the 'reject-controlgroup'. This is due to the fact that the applications that are immediately rejected, also get an event record with the 'A_Denied'/'A_Cancelled' label.</i></font>"
   ]
  },
  {
   "cell_type": "code",
   "execution_count": 11,
   "metadata": {},
   "outputs": [
    {
     "data": {
      "text/plain": [
       "(31733, 27)"
      ]
     },
     "execution_count": 11,
     "metadata": {},
     "output_type": "execute_result"
    }
   ],
   "source": [
    "reject = applications.loc[applications.event.isin(['A_Denied', 'A_Cancelled']) & ~applications.A_ID.isin(applications_fail_test)]\n",
    "reject.shape"
   ]
  },
  {
   "cell_type": "markdown",
   "metadata": {},
   "source": [
    "Candidate attributes for applicant comparisons:\n",
    "\n",
    "* A_APPLICATIONTYPE_DESC\n",
    "* A_LOANGOALTYPE_DESC\n",
    "* BIRTHYEAR\n",
    "* CITY\n",
    "* MARITAL_STATUS  \n",
    "* NUMBER_OF_CHILDREN  \n",
    "* SEX \n",
    "* HOUSING_TYPE\n",
    "* A_INIT_REQ_AMT\n",
    "* INCOMEAMOUNT_YEAR"
   ]
  },
  {
   "cell_type": "code",
   "execution_count": 109,
   "metadata": {},
   "outputs": [],
   "source": [
    "categorical = ['A_APPLICATIONTYPE_DESC', 'A_LOANGOALTYPE_DESC', 'MARITAL_STATUS', 'SEX', 'HOUSING_TYPE']\n",
    "numeric = ['A_INIT_REQ_AMT', 'NUMBER_OF_CHILDREN', 'INCOMEAMOUNT_YEAR']\n",
    "need_bucketizing = ['BIRTHYEAR', 'CITY', 'INCOMEAMOUNT_YEAR', 'A_INIT_REQ_AMT']"
   ]
  },
  {
   "cell_type": "code",
   "execution_count": 33,
   "metadata": {},
   "outputs": [
    {
     "data": {
      "application/javascript": [
       "IPython.OutputArea.prototype._should_scroll = function(lines) {\n",
       "    // return true;\n",
       "}"
      ],
      "text/plain": [
       "<IPython.core.display.Javascript object>"
      ]
     },
     "metadata": {},
     "output_type": "display_data"
    }
   ],
   "source": [
    "%%javascript\n",
    "IPython.OutputArea.prototype._should_scroll = function(lines) {\n",
    "    // return true;\n",
    "}"
   ]
  },
  {
   "cell_type": "code",
   "execution_count": 32,
   "metadata": {},
   "outputs": [
    {
     "name": "stdout",
     "output_type": "stream",
     "text": [
      "Applicants rejected immediately by the system:\n"
     ]
    },
    {
     "data": {
      "image/png": "[encoded data removed]",
      "text/plain": [
       "<matplotlib.figure.Figure at 0x1e403721128>"
      ]
     },
     "metadata": {},
     "output_type": "display_data"
    },
    {
     "name": "stdout",
     "output_type": "stream",
     "text": [
      "Applicants accepted (initially) by the system:\n"
     ]
    },
    {
     "data": {
      "image/png": "[encoded data removed]",
      "text/plain": [
       "<matplotlib.figure.Figure at 0x1e4035170b8>"
      ]
     },
     "metadata": {},
     "output_type": "display_data"
    },
    {
     "name": "stdout",
     "output_type": "stream",
     "text": [
      "Applicants accepted offer\n"
     ]
    },
    {
     "data": {
      "image/png": "[encoded data removed]",
      "text/plain": [
       "<matplotlib.figure.Figure at 0x1e4036df710>"
      ]
     },
     "metadata": {},
     "output_type": "display_data"
    },
    {
     "name": "stdout",
     "output_type": "stream",
     "text": [
      "Denied applicants / cancelled offers\n"
     ]
    },
    {
     "data": {
      "image/png": "[encoded data removed]",
      "text/plain": [
       "<matplotlib.figure.Figure at 0x1e40378a5f8>"
      ]
     },
     "metadata": {},
     "output_type": "display_data"
    },
    {
     "name": "stdout",
     "output_type": "stream",
     "text": [
      "Applicants rejected immediately by the system:\n"
     ]
    },
    {
     "data": {
      "image/png": "[encoded data removed]",
      "text/plain": [
       "<matplotlib.figure.Figure at 0x1e40388e710>"
      ]
     },
     "metadata": {},
     "output_type": "display_data"
    },
    {
     "name": "stdout",
     "output_type": "stream",
     "text": [
      "Applicants accepted (initially) by the system:\n"
     ]
    },
    {
     "data": {
      "image/png": "[encoded data removed]",
      "text/plain": [
       "<matplotlib.figure.Figure at 0x1e4039ad588>"
      ]
     },
     "metadata": {},
     "output_type": "display_data"
    },
    {
     "name": "stdout",
     "output_type": "stream",
     "text": [
      "Applicants accepted offer\n"
     ]
    },
    {
     "data": {
      "image/png": "[encoded data removed]",
      "text/plain": [
       "<matplotlib.figure.Figure at 0x1e4036a1278>"
      ]
     },
     "metadata": {},
     "output_type": "display_data"
    },
    {
     "name": "stdout",
     "output_type": "stream",
     "text": [
      "Denied applicants / cancelled offers\n"
     ]
    },
    {
     "data": {
      "image/png": "[encoded data removed]",
      "text/plain": [
       "<matplotlib.figure.Figure at 0x1e40393f048>"
      ]
     },
     "metadata": {},
     "output_type": "display_data"
    },
    {
     "name": "stdout",
     "output_type": "stream",
     "text": [
      "Applicants rejected immediately by the system:\n"
     ]
    },
    {
     "data": {
      "image/png": "[encoded data removed]",
      "text/plain": [
       "<matplotlib.figure.Figure at 0x1e4038f02b0>"
      ]
     },
     "metadata": {},
     "output_type": "display_data"
    },
    {
     "name": "stdout",
     "output_type": "stream",
     "text": [
      "Applicants accepted (initially) by the system:\n"
     ]
    },
    {
     "data": {
      "image/png": "[encoded data removed]",
      "text/plain": [
       "<matplotlib.figure.Figure at 0x1e40393f240>"
      ]
     },
     "metadata": {},
     "output_type": "display_data"
    },
    {
     "name": "stdout",
     "output_type": "stream",
     "text": [
      "Applicants accepted offer\n"
     ]
    },
    {
     "data": {
      "image/png": "[encoded data removed]",
      "text/plain": [
       "<matplotlib.figure.Figure at 0x1e4036bc9e8>"
      ]
     },
     "metadata": {},
     "output_type": "display_data"
    },
    {
     "name": "stdout",
     "output_type": "stream",
     "text": [
      "Denied applicants / cancelled offers\n"
     ]
    },
    {
     "data": {
      "image/png": "[encoded data removed]",
      "text/plain": [
       "<matplotlib.figure.Figure at 0x1e4036df080>"
      ]
     },
     "metadata": {},
     "output_type": "display_data"
    },
    {
     "name": "stdout",
     "output_type": "stream",
     "text": [
      "Applicants rejected immediately by the system:\n"
     ]
    },
    {
     "data": {
      "image/png": "[encoded data removed]",
      "text/plain": [
       "<matplotlib.figure.Figure at 0x1e4039a8320>"
      ]
     },
     "metadata": {},
     "output_type": "display_data"
    },
    {
     "name": "stdout",
     "output_type": "stream",
     "text": [
      "Applicants accepted (initially) by the system:\n"
     ]
    },
    {
     "data": {
      "image/png": "[encoded data removed]",
      "text/plain": [
       "<matplotlib.figure.Figure at 0x1e4039dda90>"
      ]
     },
     "metadata": {},
     "output_type": "display_data"
    },
    {
     "name": "stdout",
     "output_type": "stream",
     "text": [
      "Applicants accepted offer\n"
     ]
    },
    {
     "data": {
      "image/png": "[encoded data removed]",
      "text/plain": [
       "<matplotlib.figure.Figure at 0x1e403824c50>"
      ]
     },
     "metadata": {},
     "output_type": "display_data"
    },
    {
     "name": "stdout",
     "output_type": "stream",
     "text": [
      "Denied applicants / cancelled offers\n"
     ]
    },
    {
     "data": {
      "image/png": "[encoded data removed]",
      "text/plain": [
       "<matplotlib.figure.Figure at 0x1e40373d0b8>"
      ]
     },
     "metadata": {},
     "output_type": "display_data"
    },
    {
     "name": "stdout",
     "output_type": "stream",
     "text": [
      "Applicants rejected immediately by the system:\n"
     ]
    },
    {
     "data": {
      "image/png": "[encoded data removed]",
      "text/plain": [
       "<matplotlib.figure.Figure at 0x1e40386ecf8>"
      ]
     },
     "metadata": {},
     "output_type": "display_data"
    },
    {
     "name": "stdout",
     "output_type": "stream",
     "text": [
      "Applicants accepted (initially) by the system:\n"
     ]
    },
    {
     "data": {
      "image/png": "[encoded data removed]",
      "text/plain": [
       "<matplotlib.figure.Figure at 0x1e40358f8d0>"
      ]
     },
     "metadata": {},
     "output_type": "display_data"
    },
    {
     "name": "stdout",
     "output_type": "stream",
     "text": [
      "Applicants accepted offer\n"
     ]
    },
    {
     "data": {
      "image/png": "[encoded data removed]",
      "text/plain": [
       "<matplotlib.figure.Figure at 0x1e4036776d8>"
      ]
     },
     "metadata": {},
     "output_type": "display_data"
    },
    {
     "name": "stdout",
     "output_type": "stream",
     "text": [
      "Denied applicants / cancelled offers\n"
     ]
    },
    {
     "data": {
      "image/png": "[encoded data removed]",
      "text/plain": [
       "<matplotlib.figure.Figure at 0x1e403727a58>"
      ]
     },
     "metadata": {},
     "output_type": "display_data"
    }
   ],
   "source": [
    "for attribute in categorical:\n",
    "    print(\"Applicants rejected immediately by the system:\")\n",
    "    fail[attribute].value_counts().plot(kind = 'bar')\n",
    "    plt.show()\n",
    "    \n",
    "    print(\"Applicants accepted (initially) by the system:\")\n",
    "    success[attribute].value_counts().plot(kind = 'bar')\n",
    "    plt.show()\n",
    "    \n",
    "    print(\"Applicants accepted offer\")\n",
    "    accept[attribute].value_counts().plot(kind = 'bar')\n",
    "    plt.show()\n",
    "    \n",
    "    print(\"Denied applicants / cancelled offers\")\n",
    "    reject[attribute].value_counts().plot(kind = 'bar')\n",
    "    plt.show()"
   ]
  },
  {
   "cell_type": "markdown",
   "metadata": {},
   "source": [
    "<font color='red'>First of all, note that we should be careful by making conclusions based on thes results, since there are differences in sizes between the groups</font>"
   ]
  },
  {
   "cell_type": "markdown",
   "metadata": {},
   "source": [
    "<font color='green'>We can, however, immediately see that applications that get rejected immediately are always for 'Nieuw krediet' loans'</font>"
   ]
  },
  {
   "cell_type": "code",
   "execution_count": 108,
   "metadata": {},
   "outputs": [
    {
     "data": {
      "text/plain": [
       "'\\nfor attribute in categorical:\\n    print(\"Applicants rejected immediately by the system:\")\\n    unique_values = list(set(fail[attribute].values))\\n    for val in unique_values:\\n        abs_val = fail.loc[fail[attribute] == val].shape[0]\\n        print(\"percentage of\", val, \"in rejected applications is: \", (abs_val / fail.shape[0]) * 100, \"%\")\\n    print()\\n    \\n    print(\"Applicants accepted (initially) by the system:\")\\n    unique_values = list(set(success[attribute].values))\\n    for val in unique_values:\\n        abs_val = success.loc[success[attribute] == val].shape[0]\\n        print(\"percentage of\", val, \"in (initially) accepted applications is: \", (abs_val / success.shape[0]) * 100, \"%\")\\n    print()\\n    \\n    print(\"Applicants accepted offer\")\\n    unique_values = list(set(accept[attribute].values))\\n    for val in unique_values:\\n        abs_val = accept.loc[accept[attribute] == val].shape[0]\\n        print(\"percentage of\", val, \"in applications with an accepted offer is: \", (abs_val / accept.shape[0]) * 100, \"%\")\\n    print()\\n    \\n    print(\"Denied applicants / cancelled offers\")\\n    unique_values = list(set(reject[attribute].values))\\n    for val in unique_values:\\n        abs_val = reject.loc[reject[attribute] == val].shape[0]\\n        print(\"percentage of\", val, \"in denied applications/cancelled offers offer is: \", (abs_val / reject.shape[0]) * 100, \"%\")\\n    print(\"\\n\\n\\n\") # empty line '"
      ]
     },
     "execution_count": 108,
     "metadata": {},
     "output_type": "execute_result"
    }
   ],
   "source": [
    "'''\n",
    "for attribute in categorical:\n",
    "    print(\"Applicants rejected immediately by the system:\")\n",
    "    unique_values = list(set(fail[attribute].values))\n",
    "    for val in unique_values:\n",
    "        abs_val = fail.loc[fail[attribute] == val].shape[0]\n",
    "        print(\"percentage of\", val, \"in rejected applications is: \", (abs_val / fail.shape[0]) * 100, \"%\")\n",
    "    print()\n",
    "    \n",
    "    print(\"Applicants accepted (initially) by the system:\")\n",
    "    unique_values = list(set(success[attribute].values))\n",
    "    for val in unique_values:\n",
    "        abs_val = success.loc[success[attribute] == val].shape[0]\n",
    "        print(\"percentage of\", val, \"in (initially) accepted applications is: \", (abs_val / success.shape[0]) * 100, \"%\")\n",
    "    print()\n",
    "    \n",
    "    print(\"Applicants accepted offer\")\n",
    "    unique_values = list(set(accept[attribute].values))\n",
    "    for val in unique_values:\n",
    "        abs_val = accept.loc[accept[attribute] == val].shape[0]\n",
    "        print(\"percentage of\", val, \"in applications with an accepted offer is: \", (abs_val / accept.shape[0]) * 100, \"%\")\n",
    "    print()\n",
    "    \n",
    "    print(\"Denied applicants / cancelled offers\")\n",
    "    unique_values = list(set(reject[attribute].values))\n",
    "    for val in unique_values:\n",
    "        abs_val = reject.loc[reject[attribute] == val].shape[0]\n",
    "        print(\"percentage of\", val, \"in denied applications/cancelled offers offer is: \", (abs_val / reject.shape[0]) * 100, \"%\")\n",
    "    print(\"\\n\\n\\n\") # empty line '''"
   ]
  },
  {
   "cell_type": "code",
   "execution_count": 107,
   "metadata": {},
   "outputs": [
    {
     "name": "stdout",
     "output_type": "stream",
     "text": [
      "Comparison of  A_APPLICATIONTYPE_DESC  across different groups\n",
      "---------------------------------------------------------------\n",
      "percentage of Limietverhoging in rejected applications is:  0.0 %\n",
      "percentage of Limietverhoging in (initially) accepted applications is:  7.136914926222689 %\n",
      "percentage of Limietverhoging in applications with an accepted offer is:  12.637241176037136 %\n",
      "percentage of Limietverhoging in denied applications/cancelled offers offer is:  4.830933098036744 %\n",
      "\n",
      "percentage of Nieuw krediet in rejected applications is:  100.0 %\n",
      "percentage of Nieuw krediet in (initially) accepted applications is:  92.86308507377731 %\n",
      "percentage of Nieuw krediet in applications with an accepted offer is:  87.36275882396286 %\n",
      "percentage of Nieuw krediet in denied applications/cancelled offers offer is:  95.16906690196325 %\n",
      "\n",
      "\n",
      "\n",
      "\n",
      "\n",
      "Comparison of  A_LOANGOALTYPE_DESC  across different groups\n",
      "---------------------------------------------------------------\n",
      "percentage of Zakelijk doel (no go) in rejected applications is:  0.0 %\n",
      "percentage of Zakelijk doel (no go) in (initially) accepted applications is:  0.47725382021979945 %\n",
      "percentage of Zakelijk doel (no go) in applications with an accepted offer is:  0.04421192248176258 %\n",
      "percentage of Zakelijk doel (no go) in denied applications/cancelled offers offer is:  0.668074244477358 %\n",
      "\n",
      "percentage of Anders, zie toelichting in rejected applications is:  0.019404288347724848 %\n",
      "percentage of Anders, zie toelichting in (initially) accepted applications is:  7.651385787468803 %\n",
      "percentage of Anders, zie toelichting in applications with an accepted offer is:  9.461351411097192 %\n",
      "percentage of Anders, zie toelichting in denied applications/cancelled offers offer is:  6.85406359310497 %\n",
      "\n",
      "percentage of Kosten koper/Kosten notaris (no go) in rejected applications is:  0.0 %\n",
      "percentage of Kosten koper/Kosten notaris (no go) in (initially) accepted applications is:  0.08538027058978065 %\n",
      "percentage of Kosten koper/Kosten notaris (no go) in applications with an accepted offer is:  0.0 %\n",
      "percentage of Kosten koper/Kosten notaris (no go) in denied applications/cancelled offers offer is:  0.12290045063498567 %\n",
      "\n",
      "percentage of Extra Bestedingsruimte in rejected applications is:  0.004851072086931212 %\n",
      "percentage of Extra Bestedingsruimte in (initially) accepted applications is:  2.2702395026051927 %\n",
      "percentage of Extra Bestedingsruimte in applications with an accepted offer is:  2.247439392822931 %\n",
      "percentage of Extra Bestedingsruimte in denied applications/cancelled offers offer is:  2.281536570762298 %\n",
      "\n",
      "percentage of Verbouwing aan het huis in rejected applications is:  0.004851072086931212 %\n",
      "percentage of Verbouwing aan het huis in (initially) accepted applications is:  7.964446779631332 %\n",
      "percentage of Verbouwing aan het huis in applications with an accepted offer is:  13.388843858227101 %\n",
      "percentage of Verbouwing aan het huis in denied applications/cancelled offers offer is:  5.565184508240633 %\n",
      "\n",
      "percentage of Verbouwing aan tuin in rejected applications is:  0.0 %\n",
      "percentage of Verbouwing aan tuin in (initially) accepted applications is:  0.5210385743684048 %\n",
      "percentage of Verbouwing aan tuin in applications with an accepted offer is:  0.9726622945987768 %\n",
      "percentage of Verbouwing aan tuin in denied applications/cancelled offers offer is:  0.3214319478145779 %\n",
      "\n",
      "percentage of Tourcaravan / camper in rejected applications is:  0.0 %\n",
      "percentage of Tourcaravan / camper in (initially) accepted applications is:  0.9610753535618898 %\n",
      "percentage of Tourcaravan / camper in applications with an accepted offer is:  1.6947903618008993 %\n",
      "percentage of Tourcaravan / camper in denied applications/cancelled offers offer is:  0.6491664828412064 %\n",
      "\n",
      "percentage of verbouwing meubels/interieur in rejected applications is:  0.0 %\n",
      "percentage of verbouwing meubels/interieur in (initially) accepted applications is:  1.5105740181268883 %\n",
      "percentage of verbouwing meubels/interieur in applications with an accepted offer is:  1.5179426718738487 %\n",
      "percentage of verbouwing meubels/interieur in denied applications/cancelled offers offer is:  1.4937131692559795 %\n",
      "\n",
      "percentage of Restschuld woning in rejected applications is:  0.0 %\n",
      "percentage of Restschuld woning in (initially) accepted applications is:  1.8608520513157318 %\n",
      "percentage of Restschuld woning in applications with an accepted offer is:  2.6011347726770317 %\n",
      "percentage of Restschuld woning in denied applications/cancelled offers offer is:  1.5283773989222575 %\n",
      "\n",
      "percentage of Onderhandse lening in rejected applications is:  0.0 %\n",
      "percentage of Onderhandse lening in (initially) accepted applications is:  0.13354350015324665 %\n",
      "percentage of Onderhandse lening in applications with an accepted offer is:  0.19895365116793162 %\n",
      "percentage of Onderhandse lening in denied applications/cancelled offers offer is:  0.0945388081807582 %\n",
      "\n",
      "percentage of Overname lopende leningen in rejected applications is:  0.033957504608518485 %\n",
      "percentage of Overname lopende leningen in (initially) accepted applications is:  11.986076448180743 %\n",
      "percentage of Overname lopende leningen in applications with an accepted offer is:  15.92366074718149 %\n",
      "percentage of Overname lopende leningen in denied applications/cancelled offers offer is:  10.273217155642392 %\n",
      "\n",
      "percentage of Zakelijk pand (no go) in rejected applications is:  0.0 %\n",
      "percentage of Zakelijk pand (no go) in (initially) accepted applications is:  0.04159551644117518 %\n",
      "percentage of Zakelijk pand (no go) in applications with an accepted offer is:  0.0 %\n",
      "percentage of Zakelijk pand (no go) in denied applications/cancelled offers offer is:  0.05987457851448019 %\n",
      "\n",
      "percentage of Belastingbetalingen in rejected applications is:  0.0 %\n",
      "percentage of Belastingbetalingen in (initially) accepted applications is:  0.4247121152414729 %\n",
      "percentage of Belastingbetalingen in applications with an accepted offer is:  0.4494878785645863 %\n",
      "percentage of Belastingbetalingen in denied applications/cancelled offers offer is:  0.41281946238931083 %\n",
      "\n",
      "percentage of Niet gespecificeerd in rejected applications is:  99.88842534200059 %\n",
      "percentage of Niet gespecificeerd in (initially) accepted applications is:  24.617978020053418 %\n",
      "percentage of Niet gespecificeerd in applications with an accepted offer is:  1.8569007442340284 %\n",
      "percentage of Niet gespecificeerd in denied applications/cancelled offers offer is:  34.213594680616396 %\n",
      "\n",
      "percentage of Schuldsanering (no go) in rejected applications is:  0.0 %\n",
      "percentage of Schuldsanering (no go) in (initially) accepted applications is:  0.01532466395201191 %\n",
      "percentage of Schuldsanering (no go) in applications with an accepted offer is:  0.0 %\n",
      "percentage of Schuldsanering (no go) in denied applications/cancelled offers offer is:  0.022059055242176915 %\n",
      "\n",
      "percentage of Auto in rejected applications is:  0.038808576695449695 %\n",
      "percentage of Auto in (initially) accepted applications is:  22.511931345505495 %\n",
      "percentage of Auto in applications with an accepted offer is:  28.995652494289292 %\n",
      "percentage of Auto in denied applications/cancelled offers offer is:  19.771216084202564 %\n",
      "\n",
      "percentage of Achterstanden (no go) in rejected applications is:  0.0 %\n",
      "percentage of Achterstanden (no go) in (initially) accepted applications is:  0.14667892639782829 %\n",
      "percentage of Achterstanden (no go) in applications with an accepted offer is:  0.0 %\n",
      "percentage of Achterstanden (no go) in denied applications/cancelled offers offer is:  0.21113667160369332 %\n",
      "\n",
      "percentage of Motor in rejected applications is:  0.0 %\n",
      "percentage of Motor in (initially) accepted applications is:  0.6808529270108148 %\n",
      "percentage of Motor in applications with an accepted offer is:  0.9137130646230933 %\n",
      "percentage of Motor in denied applications/cancelled offers offer is:  0.5861406107207009 %\n",
      "\n",
      "percentage of Woningverbetering in rejected applications is:  0.009702144173862424 %\n",
      "percentage of Woningverbetering in (initially) accepted applications is:  9.22325846140374 %\n",
      "percentage of Woningverbetering in applications with an accepted offer is:  14.339400191584998 %\n",
      "percentage of Woningverbetering in denied applications/cancelled offers offer is:  7.153436485677371 %\n",
      "\n",
      "percentage of Boot in rejected applications is:  0.0 %\n",
      "percentage of Boot in (initially) accepted applications is:  0.4706861070975087 %\n",
      "percentage of Boot in applications with an accepted offer is:  0.5894922997568344 %\n",
      "percentage of Boot in denied applications/cancelled offers offer is:  0.4254246368134119 %\n",
      "\n",
      "\n",
      "\n",
      "\n",
      "\n",
      "Comparison of  MARITAL_STATUS  across different groups\n",
      "---------------------------------------------------------------\n",
      "percentage of Gehuwd in rejected applications is:  18.97254293198797 %\n",
      "percentage of Gehuwd in (initially) accepted applications is:  36.223127107141295 %\n",
      "percentage of Gehuwd in applications with an accepted offer is:  47.66045243534006 %\n",
      "percentage of Gehuwd in denied applications/cancelled offers offer is:  31.3963381968298 %\n",
      "\n",
      "percentage of Geregistreerd partnerschap in rejected applications is:  1.3777044726884642 %\n",
      "percentage of Geregistreerd partnerschap in (initially) accepted applications is:  2.955470905030868 %\n",
      "percentage of Geregistreerd partnerschap in applications with an accepted offer is:  3.7727507184437403 %\n",
      "percentage of Geregistreerd partnerschap in denied applications/cancelled offers offer is:  2.59981722497085 %\n",
      "\n",
      "percentage of Samenwonend in rejected applications is:  23.159018143009604 %\n",
      "percentage of Samenwonend in (initially) accepted applications is:  18.702657734576817 %\n",
      "percentage of Samenwonend in applications with an accepted offer is:  18.561638788593324 %\n",
      "percentage of Samenwonend in denied applications/cancelled offers offer is:  18.765953423880504 %\n",
      "\n",
      "percentage of Alleenstaand in rejected applications is:  56.49073445231396 %\n",
      "percentage of Alleenstaand in (initially) accepted applications is:  41.96768685143833 %\n",
      "percentage of Alleenstaand in applications with an accepted offer is:  30.00515805762287 %\n",
      "percentage of Alleenstaand in denied applications/cancelled offers offer is:  47.0204518955031 %\n",
      "\n",
      "\n",
      "\n",
      "\n",
      "\n",
      "Comparison of  SEX  across different groups\n",
      "---------------------------------------------------------------\n",
      "percentage of Vrouw in rejected applications is:  41.539730280391964 %\n",
      "percentage of Vrouw in (initially) accepted applications is:  39.48728052891983 %\n",
      "percentage of Vrouw in applications with an accepted offer is:  43.158204995947244 %\n",
      "percentage of Vrouw in denied applications/cancelled offers offer is:  37.859641382787636 %\n",
      "\n",
      "percentage of Man in rejected applications is:  58.460269719608036 %\n",
      "percentage of Man in (initially) accepted applications is:  60.50615175795788 %\n",
      "percentage of Man in applications with an accepted offer is:  56.84179500405276 %\n",
      "percentage of Man in denied applications/cancelled offers offer is:  62.130904736394285 %\n",
      "\n",
      "\n",
      "\n",
      "\n",
      "\n",
      "Comparison of  HOUSING_TYPE  across different groups\n",
      "---------------------------------------------------------------\n",
      "percentage of Thuiswonend/ Inwonend in rejected applications is:  27.32608906568352 %\n",
      "percentage of Thuiswonend/ Inwonend in (initially) accepted applications is:  11.445334734445465 %\n",
      "percentage of Thuiswonend/ Inwonend in applications with an accepted offer is:  3.9864416771055926 %\n",
      "percentage of Thuiswonend/ Inwonend in denied applications/cancelled offers offer is:  14.584186808684965 %\n",
      "\n",
      "percentage of Huurhuis / Kamers in rejected applications is:  52.289706025031535 %\n",
      "percentage of Huurhuis / Kamers in (initially) accepted applications is:  27.985025614081177 %\n",
      "percentage of Huurhuis / Kamers in applications with an accepted offer is:  14.38361211406676 %\n",
      "percentage of Huurhuis / Kamers in denied applications/cancelled offers offer is:  33.79447263101503 %\n",
      "\n",
      "percentage of Koophuis in rejected applications is:  20.384204909284954 %\n",
      "percentage of Koophuis in (initially) accepted applications is:  59.40058671570559 %\n",
      "percentage of Koophuis in applications with an accepted offer is:  81.62994620882765 %\n",
      "percentage of Koophuis in denied applications/cancelled offers offer is:  49.89443166419815 %\n",
      "\n",
      "\n",
      "\n",
      "\n",
      "\n"
     ]
    }
   ],
   "source": [
    "for attribute in categorical:\n",
    "    print(\"Comparison of \", attribute, \" across different groups\")\n",
    "    print('---------------------------------------------------------------')\n",
    "    all_values = set(list(fail[attribute].values) + list(success[attribute].values) +\n",
    "                     list(accept[attribute].values) + list(reject[attribute].values))\n",
    "    if (np.nan in all_values):\n",
    "        all_values.remove(np.nan)\n",
    "    \n",
    "    for val in all_values:\n",
    "        abs_val = fail.loc[fail[attribute] == val].shape[0]\n",
    "        print(\"percentage of\", val, \"in rejected applications is: \", (abs_val / fail.shape[0]) * 100, \"%\")\n",
    "        \n",
    "        abs_val = success.loc[success[attribute] == val].shape[0]\n",
    "        print(\"percentage of\", val, \"in (initially) accepted applications is: \", (abs_val / success.shape[0]) * 100, \"%\")\n",
    "        \n",
    "        abs_val = accept.loc[accept[attribute] == val].shape[0]\n",
    "        print(\"percentage of\", val, \"in applications with an accepted offer is: \", (abs_val / accept.shape[0]) * 100, \"%\")\n",
    "        \n",
    "        abs_val = reject.loc[reject[attribute] == val].shape[0]\n",
    "        print(\"percentage of\", val, \"in denied applications/cancelled offers offer is: \", (abs_val / reject.shape[0]) * 100, \"%\")\n",
    "        print()\n",
    "    \n",
    "    print(\"\\n\\n\\n\") # empty line\n",
    "        "
   ]
  },
  {
   "cell_type": "code",
   "execution_count": 224,
   "metadata": {},
   "outputs": [
    {
     "name": "stdout",
     "output_type": "stream",
     "text": [
      "Nieuw krediet:  95.08236287938213 %\n",
      "Alleenstaand:  46.48373861099378 %\n",
      "Sex:  59.86996922705605 %\n",
      "Huurkuis/kamers:  35.542750256441195 %\n"
     ]
    }
   ],
   "source": [
    "stats = applications.drop_duplicates(subset='A_ID', keep=\"last\")\n",
    "print(\"Nieuw krediet: \", stats.loc[stats.A_APPLICATIONTYPE_DESC == 'Nieuw krediet'].shape[0] / stats.shape[0] * 100, \"%\")\n",
    "print(\"Alleenstaand: \", stats.loc[stats.MARITAL_STATUS == 'Alleenstaand'].shape[0] / stats.shape[0] * 100, \"%\")\n",
    "print(\"Sex: \", stats.loc[stats.SEX == 'Man'].shape[0] / stats.shape[0] * 100, \"%\")\n",
    "print(\"Huurkuis/kamers: \", stats.loc[stats.HOUSING_TYPE == 'Huurhuis / Kamers'].shape[0] / stats.shape[0] * 100, \"%\")"
   ]
  },
  {
   "cell_type": "markdown",
   "metadata": {},
   "source": [
    "### <font color='darkgreen'>Difference between the groups that fail/succeed in the first automated test</font>\n",
    "#### Interesting observations (which can be visualized)\n",
    "* <b>A_APPLICATIONTYPE_DESC:</b> <i>All applications which are rejected immediately by the system, are applications of the type 'Nieuw Krediet'</i> <font color='red'>In the online application process there is no option to specify the loan type, so it can be the case that the system just classifies it as 'nieuw krediet' and it is only changed to 'limietsverhoging' in the subsequent phone calls.</font>\n",
    "<br>\n",
    "\n",
    "* <b>A_LOANGOALTYPE_DESC:</b> <i>Nothing interesting here. The loangoal is not specified in the part of the process. The loan goal is probably identified during the subsequent phone calls</i>\n",
    "<br>\n",
    "\n",
    "* <b>MARITAL_STATUS:</b> <i>Applicants whom are single, are relatively more dominant than maried applicants in the group that is rejected immediately.</i>\n",
    "<br>\n",
    "\n",
    "* <b>SEX:</b> <i>Nothing interesting here. No significant differences in the distributions of the groups.</i>\n",
    "<br>\n",
    "\n",
    "* <b>HOUSING_TYPE:</b> <i>Applicants who belong to the groups \"Thuiswonend/inwonend\" or \"Huurhuis/Kamers\" are more dominant than applicants belonging to the \"Koophuis\" group in the group that is rejected immediately.</i>\n",
    "<br>"
   ]
  },
  {
   "cell_type": "markdown",
   "metadata": {},
   "source": [
    "### <font color='darkgreen'>Most dominant groups in the immediately rejected applications</font>\n",
    "* <b>A_APPLICATIONTYPE_DESC:</b> <i>Nieuw Krediet:</i> 100% (vs. 95% in total)\n",
    "<br>\n",
    "\n",
    "* <b>A_LOANGOALTYPE_DESC:</b> <i>Not specified: </i> 99.9% <font color='red'>(not possible at this stage in the application process)</font>\n",
    "<br>\n",
    "\n",
    "* <b>MARITAL_STATUS:</b> <i>Alleenstaand: </i> 56.5% (vs. 46.5% in total)\n",
    "<br>\n",
    "\n",
    "* <b>SEX:</b> <i>Man: </i> 58.5% (vs. 59.9% in total)\n",
    "<br>\n",
    "\n",
    "* <b>HOUSING_TYPE:</b> <i>Huurhuis / Kamers: </i> 52.3% (vs. 35.5%)\n",
    "<br>"
   ]
  },
  {
   "cell_type": "markdown",
   "metadata": {},
   "source": [
    "### <font color='darkgreen'>Difference between the applications that convert into an offer / get denied or cancelled</font>\n",
    "#### Interesting observations (which can be visualized)\n",
    "* <b>A_APPLICATIONTYPE_DESC:</b> <i>Applications of the type \"Limietsverhoging\" seem to convert better than the \"Nieuw-krediet\"-applications (on average)</i> \n",
    "\n",
    "* <b>A_LOANGOALTYPE_DESC:</b> <i>\"Overname lopende leningen\", \"Auto\" and \"Woningverbetering\" related applications seem to covert better than other loan-goal types <font color='red'>(when comparing their relative presence in the different groups)</font></i>\n",
    "<br>\n",
    "\n",
    "* <b>MARITAL_STATUS:</b> <i>Applicants whom are married, convert relatively better than single applicants.</i>\n",
    "<br>\n",
    "\n",
    "* <b>SEX:</b> <i>Nothing interesting here. No significant differences in the distributions of the groups.</i>\n",
    "<br>\n",
    "\n",
    "* <b>HOUSING_TYPE:</b><i>Applicants who belong to the group \"Koophuis\"s seem to convert better than applicants belonging to the \"Thuiswonend/inwonend\" or \"Huurhuis/Kamers\" groups.</i>\n",
    "<br>"
   ]
  },
  {
   "cell_type": "markdown",
   "metadata": {},
   "source": [
    "### Bucketizing of numeric attributes"
   ]
  },
  {
   "cell_type": "code",
   "execution_count": 118,
   "metadata": {},
   "outputs": [
    {
     "data": {
      "text/plain": [
       "['BIRTHYEAR', 'CITY', 'INCOMEAMOUNT_YEAR', 'A_INIT_REQ_AMT']"
      ]
     },
     "execution_count": 118,
     "metadata": {},
     "output_type": "execute_result"
    }
   ],
   "source": [
    "need_bucketizing"
   ]
  },
  {
   "cell_type": "code",
   "execution_count": 203,
   "metadata": {},
   "outputs": [],
   "source": [
    "eigtheen_twentyfive = list(range(1993, max(applications.BIRTHYEAR) + 1))\n",
    "twentyfive_forty = list(range(1978, 1993))\n",
    "forty_fiftyfive = list(range(1963, 1978))\n",
    "fiftyfive_older = list(range(min(applications.BIRTHYEAR), 1978))"
   ]
  },
  {
   "cell_type": "code",
   "execution_count": 204,
   "metadata": {
    "collapsed": true
   },
   "outputs": [],
   "source": [
    "def age_label(birthyear):\n",
    "    if birthyear in eigtheen_twentyfive:\n",
    "        return '18-25'\n",
    "    elif birthyear in twentyfive_forty:\n",
    "        return '25-40'\n",
    "    elif birthyear in forty_fiftyfive:\n",
    "        return '40-55'\n",
    "    else: \n",
    "        return '55+'"
   ]
  },
  {
   "cell_type": "code",
   "execution_count": 205,
   "metadata": {},
   "outputs": [],
   "source": [
    "applications['age_group'] = applications.apply(lambda row: age_label(row.BIRTHYEAR), axis = 1)"
   ]
  },
  {
   "cell_type": "code",
   "execution_count": 206,
   "metadata": {},
   "outputs": [],
   "source": [
    "zero_tenK = (0, 10000)\n",
    "tenK_twentyK = (10000, 20000)\n",
    "twentyK_thirtyfourK = (20000, 34000)\n",
    "thirthyfourK_sixtyeightK = (34000, 68000)\n",
    "sixtyeightK_hundredK = (68000, 100000)\n",
    "hundredK_plus = (100000, max(applications.INCOMEAMOUNT_YEAR))"
   ]
  },
  {
   "cell_type": "code",
   "execution_count": 207,
   "metadata": {
    "collapsed": true
   },
   "outputs": [],
   "source": [
    "def income_label(income):\n",
    "    if zero_tenK[0] <= income < zero_tenK[1]:\n",
    "        return '0-10K'\n",
    "    elif tenK_twentyK[0] <= income < tenK_twentyK[1]:\n",
    "        return '10K-20K'\n",
    "    elif twentyK_thirtyfourK[0] <= income < twentyK_thirtyfourK[1]:\n",
    "        return '20K-34K'\n",
    "    elif thirthyfourK_sixtyeightK[0] <= income < thirthyfourK_sixtyeightK[1]:\n",
    "        return '34K-68K'\n",
    "    elif sixtyeightK_hundredK[0] <= income < sixtyeightK_hundredK[1]:\n",
    "        return '68K-100K'\n",
    "    else: \n",
    "        return '100K+'"
   ]
  },
  {
   "cell_type": "code",
   "execution_count": 208,
   "metadata": {
    "collapsed": true
   },
   "outputs": [],
   "source": [
    "applications['income_group'] = applications.apply(lambda row: income_label(row.INCOMEAMOUNT_YEAR), axis = 1)"
   ]
  },
  {
   "cell_type": "code",
   "execution_count": 209,
   "metadata": {},
   "outputs": [],
   "source": [
    "zero_fiveK = (0, 5000)\n",
    "fiveK_tenK = (5000, 10000)\n",
    "tenK_twentyK = (10000, 20000)\n",
    "twentyK_fortyK = (20000, 40000)\n",
    "fortyK_plus = (40000, max(applications.A_INIT_REQ_AMT))"
   ]
  },
  {
   "cell_type": "code",
   "execution_count": 210,
   "metadata": {
    "collapsed": true
   },
   "outputs": [],
   "source": [
    "def req_amount_label(amount):\n",
    "    if zero_fiveK[0] <= amount < zero_fiveK[1]:\n",
    "        return '0-5K'\n",
    "    elif fiveK_tenK[0] <= amount < fiveK_tenK[1]:\n",
    "        return '5K-10K'\n",
    "    elif tenK_twentyK[0] <= amount < tenK_twentyK[1]:\n",
    "        return '10K-20K'\n",
    "    elif twentyK_fortyK[0] <= amount < twentyK_fortyK[1]:\n",
    "        return '20K-40K'\n",
    "    else: \n",
    "        return '40K+'"
   ]
  },
  {
   "cell_type": "code",
   "execution_count": 211,
   "metadata": {
    "collapsed": true
   },
   "outputs": [],
   "source": [
    "applications['req_amount_group'] = applications.apply(lambda row: req_amount_label(row.A_INIT_REQ_AMT), axis = 1)"
   ]
  },
  {
   "cell_type": "code",
   "execution_count": 212,
   "metadata": {
    "collapsed": true
   },
   "outputs": [],
   "source": [
    "fail = applications.loc[applications.A_ID.isin(applications_fail_test)]\n",
    "fail = fail.drop_duplicates(subset='A_ID', keep=\"last\")\n",
    "\n",
    "success = applications.loc[~applications.A_ID.isin(applications_fail_test)]\n",
    "success = success.drop_duplicates(subset='A_ID', keep=\"last\")\n",
    "\n",
    "accept = applications.loc[applications.event == 'A_Pending']\n",
    "accept.shape, len(set(accept.A_ID)) # obviously no need to drop duplicates\n",
    "\n",
    "reject = applications.loc[applications.event.isin(['A_Denied', 'A_Cancelled']) & ~applications.A_ID.isin(applications_fail_test)]"
   ]
  },
  {
   "cell_type": "code",
   "execution_count": 214,
   "metadata": {},
   "outputs": [],
   "source": [
    "bucketized = ['age_group', 'income_group', 'req_amount_group']"
   ]
  },
  {
   "cell_type": "code",
   "execution_count": 215,
   "metadata": {},
   "outputs": [
    {
     "name": "stdout",
     "output_type": "stream",
     "text": [
      "Comparison of  age_group  across different groups\n",
      "---------------------------------------------------------------\n",
      "percentage of 25-40 in rejected applications is:  45.9736101678471 %\n",
      "percentage of 25-40 in (initially) accepted applications is:  44.90126537939489 %\n",
      "percentage of 25-40 in applications with an accepted offer is:  40.181268882175225 %\n",
      "percentage of 25-40 in denied applications/cancelled offers offer is:  46.881794976837995 %\n",
      "\n",
      "percentage of 55+ in rejected applications is:  7.926651790045599 %\n",
      "percentage of 55+ in (initially) accepted applications is:  13.586409212312272 %\n",
      "percentage of 55+ in applications with an accepted offer is:  16.844742465551544 %\n",
      "percentage of 55+ in denied applications/cancelled offers offer is:  12.271137301862414 %\n",
      "\n",
      "percentage of 40-55 in rejected applications is:  22.445910546230717 %\n",
      "percentage of 40-55 in (initially) accepted applications is:  33.000569201803934 %\n",
      "percentage of 40-55 in applications with an accepted offer is:  40.43180310957188 %\n",
      "percentage of 40-55 in denied applications/cancelled offers offer is:  29.852204329877413 %\n",
      "\n",
      "percentage of 18-25 in rejected applications is:  23.65382749587659 %\n",
      "percentage of 18-25 in (initially) accepted applications is:  8.5117562064889 %\n",
      "percentage of 18-25 in applications with an accepted offer is:  2.542185542701348 %\n",
      "percentage of 18-25 in denied applications/cancelled offers offer is:  10.994863391422179 %\n",
      "\n",
      "\n",
      "\n",
      "\n",
      "\n",
      "Comparison of  income_group  across different groups\n",
      "---------------------------------------------------------------\n",
      "percentage of 34K-68K in rejected applications is:  19.001649364509557 %\n",
      "percentage of 34K-68K in (initially) accepted applications is:  37.75340426463505 %\n",
      "percentage of 34K-68K in applications with an accepted offer is:  55.463856753371154 %\n",
      "percentage of 34K-68K in denied applications/cancelled offers offer is:  30.161031103267895 %\n",
      "\n",
      "percentage of 68K-100K in rejected applications is:  1.9355777626855535 %\n",
      "percentage of 68K-100K in (initially) accepted applications is:  2.631463724331188 %\n",
      "percentage of 68K-100K in applications with an accepted offer is:  3.0727286124824995 %\n",
      "percentage of 68K-100K in denied applications/cancelled offers offer is:  2.4264960766394608 %\n",
      "\n",
      "percentage of 10K-20K in rejected applications is:  38.00814980110604 %\n",
      "percentage of 10K-20K in (initially) accepted applications is:  10.744778668067777 %\n",
      "percentage of 10K-20K in applications with an accepted offer is:  2.2990199690516544 %\n",
      "percentage of 10K-20K in denied applications/cancelled offers offer is:  14.338385907414994 %\n",
      "\n",
      "percentage of 100K+ in rejected applications is:  1.9937906277287283 %\n",
      "percentage of 100K+ in (initially) accepted applications is:  2.379701387976706 %\n",
      "percentage of 100K+ in applications with an accepted offer is:  0.42738191732370495 %\n",
      "percentage of 100K+ in denied applications/cancelled offers offer is:  3.2899505246903855 %\n",
      "\n",
      "percentage of 0-10K in rejected applications is:  7.1650334723974005 %\n",
      "percentage of 0-10K in (initially) accepted applications is:  0.27584395113621435 %\n",
      "percentage of 0-10K in applications with an accepted offer is:  0.0 %\n",
      "percentage of 0-10K in denied applications/cancelled offers offer is:  0.3970629943591844 %\n",
      "\n",
      "percentage of 20K-34K in rejected applications is:  31.89579897157272 %\n",
      "percentage of 20K-34K in (initially) accepted applications is:  46.21480800385306 %\n",
      "percentage of 20K-34K in applications with an accepted offer is:  38.73701274777098 %\n",
      "percentage of 20K-34K in denied applications/cancelled offers offer is:  49.387073393628086 %\n",
      "\n",
      "\n",
      "\n",
      "\n",
      "\n",
      "Comparison of  req_amount_group  across different groups\n",
      "---------------------------------------------------------------\n",
      "percentage of 20K-40K in rejected applications is:  11.196274376637238 %\n",
      "percentage of 20K-40K in (initially) accepted applications is:  21.785104426638643 %\n",
      "percentage of 20K-40K in applications with an accepted offer is:  28.553533269471664 %\n",
      "percentage of 20K-40K in denied applications/cancelled offers offer is:  18.863643525667285 %\n",
      "\n",
      "percentage of 5K-10K in rejected applications is:  57.703502474046765 %\n",
      "percentage of 5K-10K in (initially) accepted applications is:  31.91908577433338 %\n",
      "percentage of 5K-10K in applications with an accepted offer is:  19.210080318325844 %\n",
      "percentage of 5K-10K in denied applications/cancelled offers offer is:  37.267198184854884 %\n",
      "\n",
      "percentage of 10K-20K in rejected applications is:  27.18055690307558 %\n",
      "percentage of 10K-20K in (initially) accepted applications is:  32.18617277463987 %\n",
      "percentage of 10K-20K in applications with an accepted offer is:  37.771719106919164 %\n",
      "percentage of 10K-20K in denied applications/cancelled offers offer is:  29.77657328333281 %\n",
      "\n",
      "percentage of 40K+ in rejected applications is:  3.919666246240419 %\n",
      "percentage of 40K+ in (initially) accepted applications is:  14.074609221069224 %\n",
      "percentage of 40K+ in applications with an accepted offer is:  14.413086729054603 %\n",
      "percentage of 40K+ in denied applications/cancelled offers offer is:  14.064223363690795 %\n",
      "\n",
      "percentage of 0-5K in rejected applications is:  0.0 %\n",
      "percentage of 0-5K in (initially) accepted applications is:  0.03502780331888437 %\n",
      "percentage of 0-5K in applications with an accepted offer is:  0.051580576228723016 %\n",
      "percentage of 0-5K in denied applications/cancelled offers offer is:  0.02836164245422746 %\n",
      "\n",
      "\n",
      "\n",
      "\n",
      "\n"
     ]
    }
   ],
   "source": [
    "for attribute in bucketized:\n",
    "    print(\"Comparison of \", attribute, \" across different groups\")\n",
    "    print('---------------------------------------------------------------')\n",
    "    all_values = set(list(fail[attribute].values) + list(success[attribute].values) +\n",
    "                     list(accept[attribute].values) + list(reject[attribute].values))\n",
    "    if (np.nan in all_values):\n",
    "        all_values.remove(np.nan)\n",
    "    \n",
    "    for val in all_values:\n",
    "        abs_val = fail.loc[fail[attribute] == val].shape[0]\n",
    "        print(\"percentage of\", val, \"in rejected applications is: \", (abs_val / fail.shape[0]) * 100, \"%\")\n",
    "        \n",
    "        abs_val = success.loc[success[attribute] == val].shape[0]\n",
    "        print(\"percentage of\", val, \"in (initially) accepted applications is: \", (abs_val / success.shape[0]) * 100, \"%\")\n",
    "        \n",
    "        abs_val = accept.loc[accept[attribute] == val].shape[0]\n",
    "        print(\"percentage of\", val, \"in applications with an accepted offer is: \", (abs_val / accept.shape[0]) * 100, \"%\")\n",
    "        \n",
    "        abs_val = reject.loc[reject[attribute] == val].shape[0]\n",
    "        print(\"percentage of\", val, \"in denied applications/cancelled offers offer is: \", (abs_val / reject.shape[0]) * 100, \"%\")\n",
    "        print()\n",
    "    \n",
    "    print(\"\\n\\n\\n\") # empty line\n",
    "        "
   ]
  },
  {
   "cell_type": "code",
   "execution_count": 227,
   "metadata": {},
   "outputs": [
    {
     "name": "stdout",
     "output_type": "stream",
     "text": [
      "age_group:  45.23471912146262 %\n",
      "income_group:  19.222530622096183 %\n",
      "req_amount_group:  39.9369456344657 %\n"
     ]
    }
   ],
   "source": [
    "stats = applications.drop_duplicates(subset='A_ID', keep=\"last\")\n",
    "print(\"age_group: \", stats.loc[stats.age_group == '25-40'].shape[0] / stats.shape[0] * 100, \"%\")\n",
    "print(\"income_group: \", stats.loc[stats.income_group == '10K-20K'].shape[0] / stats.shape[0] * 100, \"%\")\n",
    "print(\"req_amount_group: \", stats.loc[stats.req_amount_group == '5K-10K'].shape[0] / stats.shape[0] * 100, \"%\")"
   ]
  },
  {
   "cell_type": "markdown",
   "metadata": {},
   "source": [
    "### <font color='darkgreen'>Most dominant groups in the immediately rejected applications</font>\n",
    "* <b>age_group:</b> <i>25-40:</i> 46.0% (vs. 45.2% in total)\n",
    "<br>\n",
    "\n",
    "* <b>income_group:</b> <i>10-20K: </i> 38.0% (vs. 19.2% in total)\n",
    "<br>\n",
    "\n",
    "* <b>req_amount_group:</b> <i>5-10K: </i> 57.7% (vs. 39.9% in total)\n",
    "<br>"
   ]
  }
 ],
 "metadata": {
  "kernelspec": {
   "display_name": "Python 3",
   "language": "python",
   "name": "python3"
  },
  "language_info": {
   "codemirror_mode": {
    "name": "ipython",
    "version": 3
   },
   "file_extension": ".py",
   "mimetype": "text/x-python",
   "name": "python",
   "nbconvert_exporter": "python",
   "pygments_lexer": "ipython3",
   "version": "3.6.3"
  }
 },
 "nbformat": 4,
 "nbformat_minor": 2
}
