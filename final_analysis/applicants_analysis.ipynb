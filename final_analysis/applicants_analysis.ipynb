{
 "cells": [
  {
   "cell_type": "code",
   "execution_count": 1,
   "metadata": {
    "collapsed": true
   },
   "outputs": [],
   "source": [
    "import pandas as pd\n",
    "import numpy as np\n",
    "import seaborn as sns\n",
    "import matplotlib.pyplot as plt\n",
    "%matplotlib inline"
   ]
  },
  {
   "cell_type": "code",
   "execution_count": 2,
   "metadata": {},
   "outputs": [],
   "source": [
    "offers = pd.read_csv(\"../data/laraData/offer_events.csv\", sep = ';')\n",
    "applications = pd.read_csv(\"../data/laraData/application_events.csv\", sep = ';')\n",
    "workitems = pd.read_csv(\"../data/laraData/workitem_events.csv\", sep = ';')\n",
    "events = pd.read_csv(\"../data/laraData/events.csv\", sep = ';', low_memory = False)"
   ]
  },
  {
   "cell_type": "code",
   "execution_count": 3,
   "metadata": {},
   "outputs": [
    {
     "data": {
      "text/html": [
       "<div>\n",
       "<style scoped>\n",
       "    .dataframe tbody tr th:only-of-type {\n",
       "        vertical-align: middle;\n",
       "    }\n",
       "\n",
       "    .dataframe tbody tr th {\n",
       "        vertical-align: top;\n",
       "    }\n",
       "\n",
       "    .dataframe thead th {\n",
       "        text-align: right;\n",
       "    }\n",
       "</style>\n",
       "<table border=\"1\" class=\"dataframe\">\n",
       "  <thead>\n",
       "    <tr style=\"text-align: right;\">\n",
       "      <th></th>\n",
       "      <th>A_ID</th>\n",
       "      <th>WI_HIST_ID</th>\n",
       "      <th>WI_HIST_DT_CREATED</th>\n",
       "      <th>WI_ID</th>\n",
       "      <th>WI_USER_CREATED</th>\n",
       "      <th>WI_ACTION</th>\n",
       "      <th>WI_ACTION_DESC</th>\n",
       "      <th>WI_QUEUE</th>\n",
       "      <th>WI_QUEUE_DESC</th>\n",
       "      <th>event</th>\n",
       "      <th>...</th>\n",
       "      <th>NUMBER_OF_CHILDREN</th>\n",
       "      <th>MARITAL_STATUS</th>\n",
       "      <th>SEX</th>\n",
       "      <th>HOUSING_TYPE</th>\n",
       "      <th>INCOMEAMOUNT_YEAR</th>\n",
       "      <th>SCE_CREDITSCORE</th>\n",
       "      <th>SCE_ACCEPTED</th>\n",
       "      <th>SCE_ACCEPTED_OVERRIDE</th>\n",
       "      <th>SCE_MAX_AMOUNT</th>\n",
       "      <th>SCE_MAX_AMOUNT_OVERRIDE</th>\n",
       "    </tr>\n",
       "  </thead>\n",
       "  <tbody>\n",
       "    <tr>\n",
       "      <th>0</th>\n",
       "      <td>719696</td>\n",
       "      <td>2756085</td>\n",
       "      <td>4/1/2017 19:18:29,800000</td>\n",
       "      <td>512175</td>\n",
       "      <td>USER_31</td>\n",
       "      <td>944</td>\n",
       "      <td>Verkregen</td>\n",
       "      <td>25</td>\n",
       "      <td>Nabellen incomplete dossiers</td>\n",
       "      <td>W_Call incomplete files</td>\n",
       "      <td>...</td>\n",
       "      <td>0.0</td>\n",
       "      <td>Samenwonend</td>\n",
       "      <td>Vrouw</td>\n",
       "      <td>Koophuis</td>\n",
       "      <td>41088.0</td>\n",
       "      <td>784.0</td>\n",
       "      <td>1.0</td>\n",
       "      <td>1.0</td>\n",
       "      <td>49340.0</td>\n",
       "      <td>49340.0</td>\n",
       "    </tr>\n",
       "    <tr>\n",
       "      <th>1</th>\n",
       "      <td>719696</td>\n",
       "      <td>2754294</td>\n",
       "      <td>4/1/2017 13:07:45,692000</td>\n",
       "      <td>512175</td>\n",
       "      <td>USER_100</td>\n",
       "      <td>944</td>\n",
       "      <td>Verkregen</td>\n",
       "      <td>25</td>\n",
       "      <td>Nabellen incomplete dossiers</td>\n",
       "      <td>W_Call incomplete files</td>\n",
       "      <td>...</td>\n",
       "      <td>0.0</td>\n",
       "      <td>Samenwonend</td>\n",
       "      <td>Vrouw</td>\n",
       "      <td>Koophuis</td>\n",
       "      <td>41088.0</td>\n",
       "      <td>784.0</td>\n",
       "      <td>1.0</td>\n",
       "      <td>1.0</td>\n",
       "      <td>49340.0</td>\n",
       "      <td>49340.0</td>\n",
       "    </tr>\n",
       "    <tr>\n",
       "      <th>2</th>\n",
       "      <td>719696</td>\n",
       "      <td>2757702</td>\n",
       "      <td>5/1/2017 11:15:24,925000</td>\n",
       "      <td>512842</td>\n",
       "      <td>USER_119</td>\n",
       "      <td>942</td>\n",
       "      <td>Aangemaakt</td>\n",
       "      <td>24</td>\n",
       "      <td>Valideren aanvraag</td>\n",
       "      <td>W_Validate application</td>\n",
       "      <td>...</td>\n",
       "      <td>0.0</td>\n",
       "      <td>Samenwonend</td>\n",
       "      <td>Vrouw</td>\n",
       "      <td>Koophuis</td>\n",
       "      <td>41088.0</td>\n",
       "      <td>784.0</td>\n",
       "      <td>1.0</td>\n",
       "      <td>1.0</td>\n",
       "      <td>49340.0</td>\n",
       "      <td>49340.0</td>\n",
       "    </tr>\n",
       "    <tr>\n",
       "      <th>3</th>\n",
       "      <td>719696</td>\n",
       "      <td>2761252</td>\n",
       "      <td>6/1/2017 10:17:19,545000</td>\n",
       "      <td>512842</td>\n",
       "      <td>USER_100</td>\n",
       "      <td>943</td>\n",
       "      <td>Verwijderd</td>\n",
       "      <td>24</td>\n",
       "      <td>Valideren aanvraag</td>\n",
       "      <td>W_Validate application</td>\n",
       "      <td>...</td>\n",
       "      <td>0.0</td>\n",
       "      <td>Samenwonend</td>\n",
       "      <td>Vrouw</td>\n",
       "      <td>Koophuis</td>\n",
       "      <td>41088.0</td>\n",
       "      <td>784.0</td>\n",
       "      <td>1.0</td>\n",
       "      <td>1.0</td>\n",
       "      <td>49340.0</td>\n",
       "      <td>49340.0</td>\n",
       "    </tr>\n",
       "    <tr>\n",
       "      <th>4</th>\n",
       "      <td>719696</td>\n",
       "      <td>2757704</td>\n",
       "      <td>5/1/2017 11:15:50,183000</td>\n",
       "      <td>512842</td>\n",
       "      <td>USER_119</td>\n",
       "      <td>945</td>\n",
       "      <td>Vrijgeven</td>\n",
       "      <td>24</td>\n",
       "      <td>Valideren aanvraag</td>\n",
       "      <td>W_Validate application</td>\n",
       "      <td>...</td>\n",
       "      <td>0.0</td>\n",
       "      <td>Samenwonend</td>\n",
       "      <td>Vrouw</td>\n",
       "      <td>Koophuis</td>\n",
       "      <td>41088.0</td>\n",
       "      <td>784.0</td>\n",
       "      <td>1.0</td>\n",
       "      <td>1.0</td>\n",
       "      <td>49340.0</td>\n",
       "      <td>49340.0</td>\n",
       "    </tr>\n",
       "  </tbody>\n",
       "</table>\n",
       "<p>5 rows × 23 columns</p>\n",
       "</div>"
      ],
      "text/plain": [
       "     A_ID  WI_HIST_ID        WI_HIST_DT_CREATED   WI_ID WI_USER_CREATED  \\\n",
       "0  719696     2756085  4/1/2017 19:18:29,800000  512175         USER_31   \n",
       "1  719696     2754294  4/1/2017 13:07:45,692000  512175        USER_100   \n",
       "2  719696     2757702  5/1/2017 11:15:24,925000  512842        USER_119   \n",
       "3  719696     2761252  6/1/2017 10:17:19,545000  512842        USER_100   \n",
       "4  719696     2757704  5/1/2017 11:15:50,183000  512842        USER_119   \n",
       "\n",
       "   WI_ACTION WI_ACTION_DESC  WI_QUEUE                 WI_QUEUE_DESC  \\\n",
       "0        944      Verkregen        25  Nabellen incomplete dossiers   \n",
       "1        944      Verkregen        25  Nabellen incomplete dossiers   \n",
       "2        942     Aangemaakt        24            Valideren aanvraag   \n",
       "3        943     Verwijderd        24            Valideren aanvraag   \n",
       "4        945      Vrijgeven        24            Valideren aanvraag   \n",
       "\n",
       "                     event           ...             NUMBER_OF_CHILDREN  \\\n",
       "0  W_Call incomplete files           ...                            0.0   \n",
       "1  W_Call incomplete files           ...                            0.0   \n",
       "2   W_Validate application           ...                            0.0   \n",
       "3   W_Validate application           ...                            0.0   \n",
       "4   W_Validate application           ...                            0.0   \n",
       "\n",
       "   MARITAL_STATUS    SEX  HOUSING_TYPE INCOMEAMOUNT_YEAR SCE_CREDITSCORE  \\\n",
       "0     Samenwonend  Vrouw      Koophuis           41088.0           784.0   \n",
       "1     Samenwonend  Vrouw      Koophuis           41088.0           784.0   \n",
       "2     Samenwonend  Vrouw      Koophuis           41088.0           784.0   \n",
       "3     Samenwonend  Vrouw      Koophuis           41088.0           784.0   \n",
       "4     Samenwonend  Vrouw      Koophuis           41088.0           784.0   \n",
       "\n",
       "  SCE_ACCEPTED  SCE_ACCEPTED_OVERRIDE  SCE_MAX_AMOUNT  SCE_MAX_AMOUNT_OVERRIDE  \n",
       "0          1.0                    1.0         49340.0                  49340.0  \n",
       "1          1.0                    1.0         49340.0                  49340.0  \n",
       "2          1.0                    1.0         49340.0                  49340.0  \n",
       "3          1.0                    1.0         49340.0                  49340.0  \n",
       "4          1.0                    1.0         49340.0                  49340.0  \n",
       "\n",
       "[5 rows x 23 columns]"
      ]
     },
     "execution_count": 3,
     "metadata": {},
     "output_type": "execute_result"
    }
   ],
   "source": [
    "workitems.head()"
   ]
  },
  {
   "cell_type": "code",
   "execution_count": 4,
   "metadata": {},
   "outputs": [
    {
     "data": {
      "text/html": [
       "<div>\n",
       "<style scoped>\n",
       "    .dataframe tbody tr th:only-of-type {\n",
       "        vertical-align: middle;\n",
       "    }\n",
       "\n",
       "    .dataframe tbody tr th {\n",
       "        vertical-align: top;\n",
       "    }\n",
       "\n",
       "    .dataframe thead th {\n",
       "        text-align: right;\n",
       "    }\n",
       "</style>\n",
       "<table border=\"1\" class=\"dataframe\">\n",
       "  <thead>\n",
       "    <tr style=\"text-align: right;\">\n",
       "      <th></th>\n",
       "      <th>A_ID</th>\n",
       "      <th>A_DT_CREATED</th>\n",
       "      <th>A_INIT_REQ_AMT</th>\n",
       "      <th>A_USER_CREATED</th>\n",
       "      <th>A_APPLICATIONTYPE</th>\n",
       "      <th>A_APPLICATIONTYPE_DESC</th>\n",
       "      <th>A_LOANGOALTYPE</th>\n",
       "      <th>A_LOANGOALTYPE_DESC</th>\n",
       "      <th>AS_ID</th>\n",
       "      <th>AS_APPLICATIONSTATE</th>\n",
       "      <th>...</th>\n",
       "      <th>NUMBER_OF_CHILDREN</th>\n",
       "      <th>MARITAL_STATUS</th>\n",
       "      <th>SEX</th>\n",
       "      <th>HOUSING_TYPE</th>\n",
       "      <th>SCE_CREDITSCORE</th>\n",
       "      <th>SCE_ACCEPTED</th>\n",
       "      <th>SCE_ACCEPTED_OVERRIDE</th>\n",
       "      <th>SCE_MAX_AMOUNT</th>\n",
       "      <th>SCE_MAX_AMOUNT_OVERRIDE</th>\n",
       "      <th>INCOMEAMOUNT_YEAR</th>\n",
       "    </tr>\n",
       "  </thead>\n",
       "  <tbody>\n",
       "    <tr>\n",
       "      <th>0</th>\n",
       "      <td>719696</td>\n",
       "      <td>1/1/2017 2:42:29,064000</td>\n",
       "      <td>29000.0</td>\n",
       "      <td>USER_1</td>\n",
       "      <td>520</td>\n",
       "      <td>Nieuw krediet</td>\n",
       "      <td>866.0</td>\n",
       "      <td>Auto</td>\n",
       "      <td>1453642</td>\n",
       "      <td>511</td>\n",
       "      <td>...</td>\n",
       "      <td>0.0</td>\n",
       "      <td>Samenwonend</td>\n",
       "      <td>Vrouw</td>\n",
       "      <td>Koophuis</td>\n",
       "      <td>784.0</td>\n",
       "      <td>1.0</td>\n",
       "      <td>1.0</td>\n",
       "      <td>49340.0</td>\n",
       "      <td>49340.0</td>\n",
       "      <td>41088.0</td>\n",
       "    </tr>\n",
       "    <tr>\n",
       "      <th>1</th>\n",
       "      <td>719696</td>\n",
       "      <td>1/1/2017 2:42:29,064000</td>\n",
       "      <td>29000.0</td>\n",
       "      <td>USER_1</td>\n",
       "      <td>520</td>\n",
       "      <td>Nieuw krediet</td>\n",
       "      <td>866.0</td>\n",
       "      <td>Auto</td>\n",
       "      <td>1454067</td>\n",
       "      <td>513</td>\n",
       "      <td>...</td>\n",
       "      <td>0.0</td>\n",
       "      <td>Samenwonend</td>\n",
       "      <td>Vrouw</td>\n",
       "      <td>Koophuis</td>\n",
       "      <td>784.0</td>\n",
       "      <td>1.0</td>\n",
       "      <td>1.0</td>\n",
       "      <td>49340.0</td>\n",
       "      <td>49340.0</td>\n",
       "      <td>41088.0</td>\n",
       "    </tr>\n",
       "    <tr>\n",
       "      <th>2</th>\n",
       "      <td>719696</td>\n",
       "      <td>1/1/2017 2:42:29,064000</td>\n",
       "      <td>29000.0</td>\n",
       "      <td>USER_1</td>\n",
       "      <td>520</td>\n",
       "      <td>Nieuw krediet</td>\n",
       "      <td>866.0</td>\n",
       "      <td>Auto</td>\n",
       "      <td>1458788</td>\n",
       "      <td>517</td>\n",
       "      <td>...</td>\n",
       "      <td>0.0</td>\n",
       "      <td>Samenwonend</td>\n",
       "      <td>Vrouw</td>\n",
       "      <td>Koophuis</td>\n",
       "      <td>784.0</td>\n",
       "      <td>1.0</td>\n",
       "      <td>1.0</td>\n",
       "      <td>49340.0</td>\n",
       "      <td>49340.0</td>\n",
       "      <td>41088.0</td>\n",
       "    </tr>\n",
       "    <tr>\n",
       "      <th>3</th>\n",
       "      <td>719696</td>\n",
       "      <td>1/1/2017 2:42:29,064000</td>\n",
       "      <td>29000.0</td>\n",
       "      <td>USER_1</td>\n",
       "      <td>520</td>\n",
       "      <td>Nieuw krediet</td>\n",
       "      <td>866.0</td>\n",
       "      <td>Auto</td>\n",
       "      <td>1456650</td>\n",
       "      <td>516</td>\n",
       "      <td>...</td>\n",
       "      <td>0.0</td>\n",
       "      <td>Samenwonend</td>\n",
       "      <td>Vrouw</td>\n",
       "      <td>Koophuis</td>\n",
       "      <td>784.0</td>\n",
       "      <td>1.0</td>\n",
       "      <td>1.0</td>\n",
       "      <td>49340.0</td>\n",
       "      <td>49340.0</td>\n",
       "      <td>41088.0</td>\n",
       "    </tr>\n",
       "    <tr>\n",
       "      <th>4</th>\n",
       "      <td>719696</td>\n",
       "      <td>1/1/2017 2:42:29,064000</td>\n",
       "      <td>29000.0</td>\n",
       "      <td>USER_1</td>\n",
       "      <td>520</td>\n",
       "      <td>Nieuw krediet</td>\n",
       "      <td>866.0</td>\n",
       "      <td>Auto</td>\n",
       "      <td>1453643</td>\n",
       "      <td>512</td>\n",
       "      <td>...</td>\n",
       "      <td>0.0</td>\n",
       "      <td>Samenwonend</td>\n",
       "      <td>Vrouw</td>\n",
       "      <td>Koophuis</td>\n",
       "      <td>784.0</td>\n",
       "      <td>1.0</td>\n",
       "      <td>1.0</td>\n",
       "      <td>49340.0</td>\n",
       "      <td>49340.0</td>\n",
       "      <td>41088.0</td>\n",
       "    </tr>\n",
       "  </tbody>\n",
       "</table>\n",
       "<p>5 rows × 27 columns</p>\n",
       "</div>"
      ],
      "text/plain": [
       "     A_ID             A_DT_CREATED  A_INIT_REQ_AMT A_USER_CREATED  \\\n",
       "0  719696  1/1/2017 2:42:29,064000         29000.0         USER_1   \n",
       "1  719696  1/1/2017 2:42:29,064000         29000.0         USER_1   \n",
       "2  719696  1/1/2017 2:42:29,064000         29000.0         USER_1   \n",
       "3  719696  1/1/2017 2:42:29,064000         29000.0         USER_1   \n",
       "4  719696  1/1/2017 2:42:29,064000         29000.0         USER_1   \n",
       "\n",
       "   A_APPLICATIONTYPE A_APPLICATIONTYPE_DESC  A_LOANGOALTYPE  \\\n",
       "0                520          Nieuw krediet           866.0   \n",
       "1                520          Nieuw krediet           866.0   \n",
       "2                520          Nieuw krediet           866.0   \n",
       "3                520          Nieuw krediet           866.0   \n",
       "4                520          Nieuw krediet           866.0   \n",
       "\n",
       "  A_LOANGOALTYPE_DESC    AS_ID  AS_APPLICATIONSTATE        ...         \\\n",
       "0                Auto  1453642                  511        ...          \n",
       "1                Auto  1454067                  513        ...          \n",
       "2                Auto  1458788                  517        ...          \n",
       "3                Auto  1456650                  516        ...          \n",
       "4                Auto  1453643                  512        ...          \n",
       "\n",
       "  NUMBER_OF_CHILDREN MARITAL_STATUS    SEX HOUSING_TYPE  SCE_CREDITSCORE  \\\n",
       "0                0.0    Samenwonend  Vrouw     Koophuis            784.0   \n",
       "1                0.0    Samenwonend  Vrouw     Koophuis            784.0   \n",
       "2                0.0    Samenwonend  Vrouw     Koophuis            784.0   \n",
       "3                0.0    Samenwonend  Vrouw     Koophuis            784.0   \n",
       "4                0.0    Samenwonend  Vrouw     Koophuis            784.0   \n",
       "\n",
       "   SCE_ACCEPTED SCE_ACCEPTED_OVERRIDE  SCE_MAX_AMOUNT SCE_MAX_AMOUNT_OVERRIDE  \\\n",
       "0           1.0                   1.0         49340.0                 49340.0   \n",
       "1           1.0                   1.0         49340.0                 49340.0   \n",
       "2           1.0                   1.0         49340.0                 49340.0   \n",
       "3           1.0                   1.0         49340.0                 49340.0   \n",
       "4           1.0                   1.0         49340.0                 49340.0   \n",
       "\n",
       "  INCOMEAMOUNT_YEAR  \n",
       "0           41088.0  \n",
       "1           41088.0  \n",
       "2           41088.0  \n",
       "3           41088.0  \n",
       "4           41088.0  \n",
       "\n",
       "[5 rows x 27 columns]"
      ]
     },
     "execution_count": 4,
     "metadata": {},
     "output_type": "execute_result"
    }
   ],
   "source": [
    "applications.head()"
   ]
  },
  {
   "cell_type": "code",
   "execution_count": 5,
   "metadata": {},
   "outputs": [
    {
     "name": "stdout",
     "output_type": "stream",
     "text": [
      "25467\n",
      "25467\n",
      "54709\n",
      "54709\n",
      "45679\n",
      "45678\n"
     ]
    }
   ],
   "source": [
    "created = applications.loc[applications.event == \"A_Create Application\"]\n",
    "print(created.shape[0])\n",
    "print(len(list(set(created.A_ID))))\n",
    "\n",
    "submitted = applications.loc[applications.event == \"A_Submitted\"]\n",
    "print(submitted.shape[0])\n",
    "print(len(list(set(submitted.A_ID))))\n",
    "\n",
    "concept = applications.loc[applications.event == \"A_Concept\"]\n",
    "print(concept.shape[0])\n",
    "print(len(list(set(concept.A_ID))))"
   ]
  },
  {
   "cell_type": "markdown",
   "metadata": {},
   "source": [
    "A_Concept denotes the first automatic check that is done online. Let's have a look at the applications that fail this particular test."
   ]
  },
  {
   "cell_type": "markdown",
   "metadata": {},
   "source": [
    "<font color='red'><i>Critical step: Since we are dealing with timestamped data, it can happen that there applications whose A_Concept event is in the given dataset, while its A_Submitted event is not in the given dataset</i></font>"
   ]
  },
  {
   "cell_type": "code",
   "execution_count": 6,
   "metadata": {},
   "outputs": [
    {
     "name": "stdout",
     "output_type": "stream",
     "text": [
      "34095\n"
     ]
    },
    {
     "data": {
      "text/plain": [
       "20614"
      ]
     },
     "execution_count": 6,
     "metadata": {},
     "output_type": "execute_result"
    }
   ],
   "source": [
    "applications_submitted = list(submitted.A_ID)\n",
    "applications_concept = list(set(applications_submitted).intersection(set(concept.A_ID)))\n",
    "print(len(applications_concept))\n",
    "applications_fail_test = list(set(applications_submitted).difference(set(applications_concept)))\n",
    "len(applications_fail_test)"
   ]
  },
  {
   "cell_type": "code",
   "execution_count": 7,
   "metadata": {
    "scrolled": false
   },
   "outputs": [
    {
     "data": {
      "text/plain": [
       "0"
      ]
     },
     "execution_count": 7,
     "metadata": {},
     "output_type": "execute_result"
    }
   ],
   "source": [
    "came_through = list(set(applications.loc[applications.event == 'A_Pending'].A_ID))\n",
    "len(set(applications_fail_test).intersection(set(came_through)))# just to double-check"
   ]
  },
  {
   "cell_type": "code",
   "execution_count": 8,
   "metadata": {},
   "outputs": [
    {
     "data": {
      "text/plain": [
       "20614"
      ]
     },
     "execution_count": 8,
     "metadata": {},
     "output_type": "execute_result"
    }
   ],
   "source": [
    "fail = applications.loc[applications.A_ID.isin(applications_fail_test)]\n",
    "fail = fail.drop_duplicates(subset='A_ID', keep=\"last\")\n",
    "fail.shape[0]"
   ]
  },
  {
   "cell_type": "code",
   "execution_count": 9,
   "metadata": {},
   "outputs": [
    {
     "data": {
      "text/plain": [
       "45678"
      ]
     },
     "execution_count": 9,
     "metadata": {},
     "output_type": "execute_result"
    }
   ],
   "source": [
    "success = applications.loc[~applications.A_ID.isin(applications_fail_test)]\n",
    "success = success.drop_duplicates(subset='A_ID', keep=\"last\")\n",
    "success.shape[0]"
   ]
  },
  {
   "cell_type": "code",
   "execution_count": 10,
   "metadata": {},
   "outputs": [
    {
     "data": {
      "text/plain": [
       "((13571, 27), 13571)"
      ]
     },
     "execution_count": 10,
     "metadata": {},
     "output_type": "execute_result"
    }
   ],
   "source": [
    "accept = applications.loc[applications.event == 'A_Pending']\n",
    "accept.shape, len(set(accept.A_ID)) # obviously no need to drop duplicates"
   ]
  },
  {
   "cell_type": "markdown",
   "metadata": {},
   "source": [
    "<font color='red'><i>Since we want to compare the applications/applicants who fail the initial tests, we have to remove these applications from the 'reject-controlgroup'. This is due to the fact that the applications that are immediately rejected, also get an event record with the 'A_Denied'/'A_Cancelled' label.</i></font>"
   ]
  },
  {
   "cell_type": "code",
   "execution_count": 11,
   "metadata": {},
   "outputs": [
    {
     "data": {
      "text/plain": [
       "(31733, 27)"
      ]
     },
     "execution_count": 11,
     "metadata": {},
     "output_type": "execute_result"
    }
   ],
   "source": [
    "reject = applications.loc[applications.event.isin(['A_Denied', 'A_Cancelled']) & ~applications.A_ID.isin(applications_fail_test)]\n",
    "reject.shape"
   ]
  }
 ],
 "metadata": {
  "kernelspec": {
   "display_name": "Python 3",
   "language": "python",
   "name": "python3"
  },
  "language_info": {
   "codemirror_mode": {
    "name": "ipython",
    "version": 3
   },
   "file_extension": ".py",
   "mimetype": "text/x-python",
   "name": "python",
   "nbconvert_exporter": "python",
   "pygments_lexer": "ipython3",
   "version": "3.6.3"
  }
 },
 "nbformat": 4,
 "nbformat_minor": 2
}
