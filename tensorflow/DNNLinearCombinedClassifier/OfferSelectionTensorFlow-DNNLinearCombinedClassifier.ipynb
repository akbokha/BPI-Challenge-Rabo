{
 "cells": [
  {
   "cell_type": "markdown",
   "metadata": {},
   "source": [
    "### <font color=\"darkblue\"><i>A predictive model which tries to predict whether customers will accept a loan offer or not. The model uses only features that will be known at the time of sending an offer. Once the performance metrics of the model have been assessed and the performance (e.g. accuracy) is evaluated to be adequate enough, the model can be used by employees before sending the actual offers. If the model predicts that the offer will not be accepted (i.e. will be refused and/or cancelled) with a high probability, the employee can chose to change the offer and/or not send an offer / send multiple offers. This can reduce the company's overhead/resources in the offer sending process.</i></font>"
   ]
  },
  {
   "cell_type": "markdown",
   "metadata": {},
   "source": [
    "### <font color=\"green\">imports, preparation and configuration</font>"
   ]
  },
  {
   "cell_type": "code",
   "execution_count": 1,
   "metadata": {
    "collapsed": true
   },
   "outputs": [],
   "source": [
    "import tensorflow as tf\n",
    "import pandas as pd\n",
    "import numpy as np\n",
    "import seaborn as sns\n",
    "from sklearn.model_selection import train_test_split\n",
    "from sklearn import preprocessing, metrics\n",
    "from sklearn.pipeline import Pipeline\n",
    "import matplotlib.pyplot as plt\n",
    "%matplotlib inline"
   ]
  },
  {
   "cell_type": "code",
   "execution_count": 2,
   "metadata": {},
   "outputs": [
    {
     "data": {
      "text/html": [
       "<script>\n",
       "code_show_err=false; \n",
       "function code_toggle_err() {\n",
       " if (code_show_err){\n",
       " $('div.output_stderr').hide();\n",
       " } else {\n",
       " $('div.output_stderr').show();\n",
       " }\n",
       " code_show_err = !code_show_err\n",
       "} \n",
       "$( document ).ready(code_toggle_err);\n",
       "</script>\n",
       "To toggle on/off output_stderr, click <a href=\"javascript:code_toggle_err()\">here</a>."
      ],
      "text/plain": [
       "<IPython.core.display.HTML object>"
      ]
     },
     "execution_count": 2,
     "metadata": {},
     "output_type": "execute_result"
    }
   ],
   "source": [
    "from IPython.display import HTML\n",
    "HTML('''<script>\n",
    "code_show_err=false; \n",
    "function code_toggle_err() {\n",
    " if (code_show_err){\n",
    " $('div.output_stderr').hide();\n",
    " } else {\n",
    " $('div.output_stderr').show();\n",
    " }\n",
    " code_show_err = !code_show_err\n",
    "} \n",
    "$( document ).ready(code_toggle_err);\n",
    "</script>\n",
    "To toggle on/off output_stderr, click <a href=\"javascript:code_toggle_err()\">here</a>.''')"
   ]
  },
  {
   "cell_type": "code",
   "execution_count": 3,
   "metadata": {},
   "outputs": [
    {
     "data": {
      "text/html": [
       "<div>\n",
       "<style scoped>\n",
       "    .dataframe tbody tr th:only-of-type {\n",
       "        vertical-align: middle;\n",
       "    }\n",
       "\n",
       "    .dataframe tbody tr th {\n",
       "        vertical-align: top;\n",
       "    }\n",
       "\n",
       "    .dataframe thead th {\n",
       "        text-align: right;\n",
       "    }\n",
       "</style>\n",
       "<table border=\"1\" class=\"dataframe\">\n",
       "  <thead>\n",
       "    <tr style=\"text-align: right;\">\n",
       "      <th></th>\n",
       "      <th>A_ID</th>\n",
       "      <th>A_DT_CREATED</th>\n",
       "      <th>A_INIT_REQ_AMT</th>\n",
       "      <th>A_USER_CREATED</th>\n",
       "      <th>A_APPLICATIONTYPE</th>\n",
       "      <th>A_APPLICATIONTYPE_DESC</th>\n",
       "      <th>A_LOANGOALTYPE</th>\n",
       "      <th>A_LOANGOALTYPE_DESC</th>\n",
       "      <th>AS_ID</th>\n",
       "      <th>AS_APPLICATIONSTATE</th>\n",
       "      <th>...</th>\n",
       "      <th>NUMBER_OF_CHILDREN</th>\n",
       "      <th>MARITAL_STATUS</th>\n",
       "      <th>SEX</th>\n",
       "      <th>HOUSING_TYPE</th>\n",
       "      <th>SCE_CREDITSCORE</th>\n",
       "      <th>SCE_ACCEPTED</th>\n",
       "      <th>SCE_ACCEPTED_OVERRIDE</th>\n",
       "      <th>SCE_MAX_AMOUNT</th>\n",
       "      <th>SCE_MAX_AMOUNT_OVERRIDE</th>\n",
       "      <th>INCOMEAMOUNT_YEAR</th>\n",
       "    </tr>\n",
       "  </thead>\n",
       "  <tbody>\n",
       "    <tr>\n",
       "      <th>0</th>\n",
       "      <td>719696</td>\n",
       "      <td>1/1/2017 2:42:29,064000</td>\n",
       "      <td>29000.0</td>\n",
       "      <td>USER_1</td>\n",
       "      <td>520</td>\n",
       "      <td>Nieuw krediet</td>\n",
       "      <td>866.0</td>\n",
       "      <td>Auto</td>\n",
       "      <td>1453642</td>\n",
       "      <td>511</td>\n",
       "      <td>...</td>\n",
       "      <td>0.0</td>\n",
       "      <td>Samenwonend</td>\n",
       "      <td>Vrouw</td>\n",
       "      <td>Koophuis</td>\n",
       "      <td>784.0</td>\n",
       "      <td>1.0</td>\n",
       "      <td>1.0</td>\n",
       "      <td>49340.0</td>\n",
       "      <td>49340.0</td>\n",
       "      <td>41088.0</td>\n",
       "    </tr>\n",
       "    <tr>\n",
       "      <th>1</th>\n",
       "      <td>719696</td>\n",
       "      <td>1/1/2017 2:42:29,064000</td>\n",
       "      <td>29000.0</td>\n",
       "      <td>USER_1</td>\n",
       "      <td>520</td>\n",
       "      <td>Nieuw krediet</td>\n",
       "      <td>866.0</td>\n",
       "      <td>Auto</td>\n",
       "      <td>1454067</td>\n",
       "      <td>513</td>\n",
       "      <td>...</td>\n",
       "      <td>0.0</td>\n",
       "      <td>Samenwonend</td>\n",
       "      <td>Vrouw</td>\n",
       "      <td>Koophuis</td>\n",
       "      <td>784.0</td>\n",
       "      <td>1.0</td>\n",
       "      <td>1.0</td>\n",
       "      <td>49340.0</td>\n",
       "      <td>49340.0</td>\n",
       "      <td>41088.0</td>\n",
       "    </tr>\n",
       "    <tr>\n",
       "      <th>2</th>\n",
       "      <td>719696</td>\n",
       "      <td>1/1/2017 2:42:29,064000</td>\n",
       "      <td>29000.0</td>\n",
       "      <td>USER_1</td>\n",
       "      <td>520</td>\n",
       "      <td>Nieuw krediet</td>\n",
       "      <td>866.0</td>\n",
       "      <td>Auto</td>\n",
       "      <td>1458788</td>\n",
       "      <td>517</td>\n",
       "      <td>...</td>\n",
       "      <td>0.0</td>\n",
       "      <td>Samenwonend</td>\n",
       "      <td>Vrouw</td>\n",
       "      <td>Koophuis</td>\n",
       "      <td>784.0</td>\n",
       "      <td>1.0</td>\n",
       "      <td>1.0</td>\n",
       "      <td>49340.0</td>\n",
       "      <td>49340.0</td>\n",
       "      <td>41088.0</td>\n",
       "    </tr>\n",
       "    <tr>\n",
       "      <th>3</th>\n",
       "      <td>719696</td>\n",
       "      <td>1/1/2017 2:42:29,064000</td>\n",
       "      <td>29000.0</td>\n",
       "      <td>USER_1</td>\n",
       "      <td>520</td>\n",
       "      <td>Nieuw krediet</td>\n",
       "      <td>866.0</td>\n",
       "      <td>Auto</td>\n",
       "      <td>1456650</td>\n",
       "      <td>516</td>\n",
       "      <td>...</td>\n",
       "      <td>0.0</td>\n",
       "      <td>Samenwonend</td>\n",
       "      <td>Vrouw</td>\n",
       "      <td>Koophuis</td>\n",
       "      <td>784.0</td>\n",
       "      <td>1.0</td>\n",
       "      <td>1.0</td>\n",
       "      <td>49340.0</td>\n",
       "      <td>49340.0</td>\n",
       "      <td>41088.0</td>\n",
       "    </tr>\n",
       "    <tr>\n",
       "      <th>4</th>\n",
       "      <td>719696</td>\n",
       "      <td>1/1/2017 2:42:29,064000</td>\n",
       "      <td>29000.0</td>\n",
       "      <td>USER_1</td>\n",
       "      <td>520</td>\n",
       "      <td>Nieuw krediet</td>\n",
       "      <td>866.0</td>\n",
       "      <td>Auto</td>\n",
       "      <td>1453643</td>\n",
       "      <td>512</td>\n",
       "      <td>...</td>\n",
       "      <td>0.0</td>\n",
       "      <td>Samenwonend</td>\n",
       "      <td>Vrouw</td>\n",
       "      <td>Koophuis</td>\n",
       "      <td>784.0</td>\n",
       "      <td>1.0</td>\n",
       "      <td>1.0</td>\n",
       "      <td>49340.0</td>\n",
       "      <td>49340.0</td>\n",
       "      <td>41088.0</td>\n",
       "    </tr>\n",
       "  </tbody>\n",
       "</table>\n",
       "<p>5 rows × 27 columns</p>\n",
       "</div>"
      ],
      "text/plain": [
       "     A_ID             A_DT_CREATED  A_INIT_REQ_AMT A_USER_CREATED  \\\n",
       "0  719696  1/1/2017 2:42:29,064000         29000.0         USER_1   \n",
       "1  719696  1/1/2017 2:42:29,064000         29000.0         USER_1   \n",
       "2  719696  1/1/2017 2:42:29,064000         29000.0         USER_1   \n",
       "3  719696  1/1/2017 2:42:29,064000         29000.0         USER_1   \n",
       "4  719696  1/1/2017 2:42:29,064000         29000.0         USER_1   \n",
       "\n",
       "   A_APPLICATIONTYPE A_APPLICATIONTYPE_DESC  A_LOANGOALTYPE  \\\n",
       "0                520          Nieuw krediet           866.0   \n",
       "1                520          Nieuw krediet           866.0   \n",
       "2                520          Nieuw krediet           866.0   \n",
       "3                520          Nieuw krediet           866.0   \n",
       "4                520          Nieuw krediet           866.0   \n",
       "\n",
       "  A_LOANGOALTYPE_DESC    AS_ID  AS_APPLICATIONSTATE        ...         \\\n",
       "0                Auto  1453642                  511        ...          \n",
       "1                Auto  1454067                  513        ...          \n",
       "2                Auto  1458788                  517        ...          \n",
       "3                Auto  1456650                  516        ...          \n",
       "4                Auto  1453643                  512        ...          \n",
       "\n",
       "  NUMBER_OF_CHILDREN MARITAL_STATUS    SEX HOUSING_TYPE  SCE_CREDITSCORE  \\\n",
       "0                0.0    Samenwonend  Vrouw     Koophuis            784.0   \n",
       "1                0.0    Samenwonend  Vrouw     Koophuis            784.0   \n",
       "2                0.0    Samenwonend  Vrouw     Koophuis            784.0   \n",
       "3                0.0    Samenwonend  Vrouw     Koophuis            784.0   \n",
       "4                0.0    Samenwonend  Vrouw     Koophuis            784.0   \n",
       "\n",
       "   SCE_ACCEPTED SCE_ACCEPTED_OVERRIDE  SCE_MAX_AMOUNT SCE_MAX_AMOUNT_OVERRIDE  \\\n",
       "0           1.0                   1.0         49340.0                 49340.0   \n",
       "1           1.0                   1.0         49340.0                 49340.0   \n",
       "2           1.0                   1.0         49340.0                 49340.0   \n",
       "3           1.0                   1.0         49340.0                 49340.0   \n",
       "4           1.0                   1.0         49340.0                 49340.0   \n",
       "\n",
       "  INCOMEAMOUNT_YEAR  \n",
       "0           41088.0  \n",
       "1           41088.0  \n",
       "2           41088.0  \n",
       "3           41088.0  \n",
       "4           41088.0  \n",
       "\n",
       "[5 rows x 27 columns]"
      ]
     },
     "execution_count": 3,
     "metadata": {},
     "output_type": "execute_result"
    }
   ],
   "source": [
    "offers = pd.read_table(\"../../data/laraData/offer_events.csv\", sep=\";\")\n",
    "applications = pd.read_table(\"../../data/laraData/application_events.csv\", sep=\";\")\n",
    "# all_events = pd.read_table(\"../data/laraData/events.csv\", sep=\";\") not needed at the moment\n",
    "applications.head()"
   ]
  },
  {
   "cell_type": "code",
   "execution_count": 4,
   "metadata": {},
   "outputs": [
    {
     "data": {
      "text/html": [
       "<div>\n",
       "<style scoped>\n",
       "    .dataframe tbody tr th:only-of-type {\n",
       "        vertical-align: middle;\n",
       "    }\n",
       "\n",
       "    .dataframe tbody tr th {\n",
       "        vertical-align: top;\n",
       "    }\n",
       "\n",
       "    .dataframe thead th {\n",
       "        text-align: right;\n",
       "    }\n",
       "</style>\n",
       "<table border=\"1\" class=\"dataframe\">\n",
       "  <thead>\n",
       "    <tr style=\"text-align: right;\">\n",
       "      <th></th>\n",
       "      <th>A_ID</th>\n",
       "      <th>O_ID</th>\n",
       "      <th>O_SCENARIO</th>\n",
       "      <th>O_DT_CREATED</th>\n",
       "      <th>O_AMOUNT</th>\n",
       "      <th>O_CREDITSCORE</th>\n",
       "      <th>O_FIRST_WITHDRAWL_AMOUNT</th>\n",
       "      <th>NUMBER_OF_TERMS</th>\n",
       "      <th>O_MONTHLY_COST</th>\n",
       "      <th>O_ACCEPTED</th>\n",
       "      <th>...</th>\n",
       "      <th>NUMBER_OF_CHILDREN</th>\n",
       "      <th>MARITAL_STATUS</th>\n",
       "      <th>SEX</th>\n",
       "      <th>HOUSING_TYPE</th>\n",
       "      <th>INCOMEAMOUNT_YEAR</th>\n",
       "      <th>SCE_CREDITSCORE</th>\n",
       "      <th>SCE_ACCEPTED</th>\n",
       "      <th>SCE_ACCEPTED_OVERRIDE</th>\n",
       "      <th>SCE_MAX_AMOUNT</th>\n",
       "      <th>SCE_MAX_AMOUNT_OVERRIDE</th>\n",
       "    </tr>\n",
       "  </thead>\n",
       "  <tbody>\n",
       "    <tr>\n",
       "      <th>0</th>\n",
       "      <td>719696</td>\n",
       "      <td>210708</td>\n",
       "      <td>1367858</td>\n",
       "      <td>2/1/2017 10:38:26,536000</td>\n",
       "      <td>29000.0</td>\n",
       "      <td>784.0</td>\n",
       "      <td>26604.0</td>\n",
       "      <td>120</td>\n",
       "      <td>29529</td>\n",
       "      <td>1</td>\n",
       "      <td>...</td>\n",
       "      <td>0</td>\n",
       "      <td>Samenwonend</td>\n",
       "      <td>Vrouw</td>\n",
       "      <td>Koophuis</td>\n",
       "      <td>41088.0</td>\n",
       "      <td>784.0</td>\n",
       "      <td>1.0</td>\n",
       "      <td>1.0</td>\n",
       "      <td>49340.0</td>\n",
       "      <td>49340.0</td>\n",
       "    </tr>\n",
       "    <tr>\n",
       "      <th>1</th>\n",
       "      <td>719696</td>\n",
       "      <td>210708</td>\n",
       "      <td>1367858</td>\n",
       "      <td>2/1/2017 10:38:26,536000</td>\n",
       "      <td>29000.0</td>\n",
       "      <td>784.0</td>\n",
       "      <td>26604.0</td>\n",
       "      <td>120</td>\n",
       "      <td>29529</td>\n",
       "      <td>1</td>\n",
       "      <td>...</td>\n",
       "      <td>0</td>\n",
       "      <td>Samenwonend</td>\n",
       "      <td>Vrouw</td>\n",
       "      <td>Koophuis</td>\n",
       "      <td>41088.0</td>\n",
       "      <td>784.0</td>\n",
       "      <td>1.0</td>\n",
       "      <td>1.0</td>\n",
       "      <td>49340.0</td>\n",
       "      <td>49340.0</td>\n",
       "    </tr>\n",
       "    <tr>\n",
       "      <th>2</th>\n",
       "      <td>719696</td>\n",
       "      <td>210708</td>\n",
       "      <td>1367858</td>\n",
       "      <td>2/1/2017 10:38:26,536000</td>\n",
       "      <td>29000.0</td>\n",
       "      <td>784.0</td>\n",
       "      <td>26604.0</td>\n",
       "      <td>120</td>\n",
       "      <td>29529</td>\n",
       "      <td>1</td>\n",
       "      <td>...</td>\n",
       "      <td>0</td>\n",
       "      <td>Samenwonend</td>\n",
       "      <td>Vrouw</td>\n",
       "      <td>Koophuis</td>\n",
       "      <td>41088.0</td>\n",
       "      <td>784.0</td>\n",
       "      <td>1.0</td>\n",
       "      <td>1.0</td>\n",
       "      <td>49340.0</td>\n",
       "      <td>49340.0</td>\n",
       "    </tr>\n",
       "    <tr>\n",
       "      <th>3</th>\n",
       "      <td>719696</td>\n",
       "      <td>210708</td>\n",
       "      <td>1367858</td>\n",
       "      <td>2/1/2017 10:38:26,536000</td>\n",
       "      <td>29000.0</td>\n",
       "      <td>784.0</td>\n",
       "      <td>26604.0</td>\n",
       "      <td>120</td>\n",
       "      <td>29529</td>\n",
       "      <td>1</td>\n",
       "      <td>...</td>\n",
       "      <td>0</td>\n",
       "      <td>Samenwonend</td>\n",
       "      <td>Vrouw</td>\n",
       "      <td>Koophuis</td>\n",
       "      <td>41088.0</td>\n",
       "      <td>784.0</td>\n",
       "      <td>1.0</td>\n",
       "      <td>1.0</td>\n",
       "      <td>49340.0</td>\n",
       "      <td>49340.0</td>\n",
       "    </tr>\n",
       "    <tr>\n",
       "      <th>4</th>\n",
       "      <td>719697</td>\n",
       "      <td>210793</td>\n",
       "      <td>1367861</td>\n",
       "      <td>2/1/2017 16:08:07,608000</td>\n",
       "      <td>10000.0</td>\n",
       "      <td>NaN</td>\n",
       "      <td>10000.0</td>\n",
       "      <td>44</td>\n",
       "      <td>24958</td>\n",
       "      <td>1</td>\n",
       "      <td>...</td>\n",
       "      <td>0</td>\n",
       "      <td>Alleenstaand</td>\n",
       "      <td>Man</td>\n",
       "      <td>Thuiswonend/ Inwonend</td>\n",
       "      <td>21600.0</td>\n",
       "      <td>708.0</td>\n",
       "      <td>1.0</td>\n",
       "      <td>1.0</td>\n",
       "      <td>235875.0</td>\n",
       "      <td>235875.0</td>\n",
       "    </tr>\n",
       "  </tbody>\n",
       "</table>\n",
       "<p>5 rows × 30 columns</p>\n",
       "</div>"
      ],
      "text/plain": [
       "     A_ID    O_ID  O_SCENARIO              O_DT_CREATED  O_AMOUNT  \\\n",
       "0  719696  210708     1367858  2/1/2017 10:38:26,536000   29000.0   \n",
       "1  719696  210708     1367858  2/1/2017 10:38:26,536000   29000.0   \n",
       "2  719696  210708     1367858  2/1/2017 10:38:26,536000   29000.0   \n",
       "3  719696  210708     1367858  2/1/2017 10:38:26,536000   29000.0   \n",
       "4  719697  210793     1367861  2/1/2017 16:08:07,608000   10000.0   \n",
       "\n",
       "   O_CREDITSCORE  O_FIRST_WITHDRAWL_AMOUNT  NUMBER_OF_TERMS  O_MONTHLY_COST  \\\n",
       "0          784.0                   26604.0              120           29529   \n",
       "1          784.0                   26604.0              120           29529   \n",
       "2          784.0                   26604.0              120           29529   \n",
       "3          784.0                   26604.0              120           29529   \n",
       "4            NaN                   10000.0               44           24958   \n",
       "\n",
       "   O_ACCEPTED           ...            NUMBER_OF_CHILDREN  MARITAL_STATUS  \\\n",
       "0           1           ...                             0     Samenwonend   \n",
       "1           1           ...                             0     Samenwonend   \n",
       "2           1           ...                             0     Samenwonend   \n",
       "3           1           ...                             0     Samenwonend   \n",
       "4           1           ...                             0    Alleenstaand   \n",
       "\n",
       "     SEX           HOUSING_TYPE  INCOMEAMOUNT_YEAR SCE_CREDITSCORE  \\\n",
       "0  Vrouw               Koophuis            41088.0           784.0   \n",
       "1  Vrouw               Koophuis            41088.0           784.0   \n",
       "2  Vrouw               Koophuis            41088.0           784.0   \n",
       "3  Vrouw               Koophuis            41088.0           784.0   \n",
       "4    Man  Thuiswonend/ Inwonend            21600.0           708.0   \n",
       "\n",
       "  SCE_ACCEPTED  SCE_ACCEPTED_OVERRIDE  SCE_MAX_AMOUNT SCE_MAX_AMOUNT_OVERRIDE  \n",
       "0          1.0                    1.0         49340.0                 49340.0  \n",
       "1          1.0                    1.0         49340.0                 49340.0  \n",
       "2          1.0                    1.0         49340.0                 49340.0  \n",
       "3          1.0                    1.0         49340.0                 49340.0  \n",
       "4          1.0                    1.0        235875.0                235875.0  \n",
       "\n",
       "[5 rows x 30 columns]"
      ]
     },
     "execution_count": 4,
     "metadata": {},
     "output_type": "execute_result"
    }
   ],
   "source": [
    "offers.head()"
   ]
  },
  {
   "cell_type": "markdown",
   "metadata": {},
   "source": [
    "O_SELECTED tells us whetehr an offer is accepted(1)/or refused/cancelled (0)"
   ]
  },
  {
   "cell_type": "code",
   "execution_count": 5,
   "metadata": {},
   "outputs": [
    {
     "data": {
      "text/plain": [
       "(118931, 30)"
      ]
     },
     "execution_count": 5,
     "metadata": {},
     "output_type": "execute_result"
    }
   ],
   "source": [
    "made_offers = offers[pd.notnull(offers.O_SELECTED)]\n",
    "made_offers.shape"
   ]
  },
  {
   "cell_type": "code",
   "execution_count": 6,
   "metadata": {},
   "outputs": [
    {
     "data": {
      "text/plain": [
       "33401"
      ]
     },
     "execution_count": 6,
     "metadata": {},
     "output_type": "execute_result"
    }
   ],
   "source": [
    "len(made_offers.O_ID.unique())"
   ]
  },
  {
   "cell_type": "code",
   "execution_count": 7,
   "metadata": {
    "collapsed": true
   },
   "outputs": [],
   "source": [
    "made_offers = (made_offers.loc[(made_offers.event == \"O_Accepted\") | (made_offers.event == \"O_Cancelled\")\n",
    "                | (made_offers.event == \"O_Refused\")])"
   ]
  },
  {
   "cell_type": "code",
   "execution_count": 8,
   "metadata": {},
   "outputs": [
    {
     "data": {
      "text/plain": [
       "(33047, (33047, 30))"
      ]
     },
     "execution_count": 8,
     "metadata": {},
     "output_type": "execute_result"
    }
   ],
   "source": [
    "len(made_offers.O_ID.unique()), made_offers.shape"
   ]
  },
  {
   "cell_type": "code",
   "execution_count": 9,
   "metadata": {},
   "outputs": [
    {
     "data": {
      "text/html": [
       "<div>\n",
       "<style scoped>\n",
       "    .dataframe tbody tr th:only-of-type {\n",
       "        vertical-align: middle;\n",
       "    }\n",
       "\n",
       "    .dataframe tbody tr th {\n",
       "        vertical-align: top;\n",
       "    }\n",
       "\n",
       "    .dataframe thead th {\n",
       "        text-align: right;\n",
       "    }\n",
       "</style>\n",
       "<table border=\"1\" class=\"dataframe\">\n",
       "  <thead>\n",
       "    <tr style=\"text-align: right;\">\n",
       "      <th></th>\n",
       "      <th>A_ID</th>\n",
       "      <th>O_ID</th>\n",
       "      <th>O_SCENARIO</th>\n",
       "      <th>O_DT_CREATED</th>\n",
       "      <th>O_AMOUNT</th>\n",
       "      <th>O_CREDITSCORE</th>\n",
       "      <th>O_FIRST_WITHDRAWL_AMOUNT</th>\n",
       "      <th>NUMBER_OF_TERMS</th>\n",
       "      <th>O_MONTHLY_COST</th>\n",
       "      <th>O_ACCEPTED</th>\n",
       "      <th>...</th>\n",
       "      <th>NUMBER_OF_CHILDREN</th>\n",
       "      <th>MARITAL_STATUS</th>\n",
       "      <th>SEX</th>\n",
       "      <th>HOUSING_TYPE</th>\n",
       "      <th>INCOMEAMOUNT_YEAR</th>\n",
       "      <th>SCE_CREDITSCORE</th>\n",
       "      <th>SCE_ACCEPTED</th>\n",
       "      <th>SCE_ACCEPTED_OVERRIDE</th>\n",
       "      <th>SCE_MAX_AMOUNT</th>\n",
       "      <th>SCE_MAX_AMOUNT_OVERRIDE</th>\n",
       "    </tr>\n",
       "  </thead>\n",
       "  <tbody>\n",
       "    <tr>\n",
       "      <th>0</th>\n",
       "      <td>719696</td>\n",
       "      <td>210708</td>\n",
       "      <td>1367858</td>\n",
       "      <td>2/1/2017 10:38:26,536000</td>\n",
       "      <td>29000.0</td>\n",
       "      <td>784.0</td>\n",
       "      <td>26604.0</td>\n",
       "      <td>120</td>\n",
       "      <td>29529</td>\n",
       "      <td>1</td>\n",
       "      <td>...</td>\n",
       "      <td>0</td>\n",
       "      <td>Samenwonend</td>\n",
       "      <td>Vrouw</td>\n",
       "      <td>Koophuis</td>\n",
       "      <td>41088.0</td>\n",
       "      <td>784.0</td>\n",
       "      <td>1.0</td>\n",
       "      <td>1.0</td>\n",
       "      <td>49340.0</td>\n",
       "      <td>49340.0</td>\n",
       "    </tr>\n",
       "    <tr>\n",
       "      <th>4</th>\n",
       "      <td>719697</td>\n",
       "      <td>210793</td>\n",
       "      <td>1367861</td>\n",
       "      <td>2/1/2017 16:08:07,608000</td>\n",
       "      <td>10000.0</td>\n",
       "      <td>NaN</td>\n",
       "      <td>10000.0</td>\n",
       "      <td>44</td>\n",
       "      <td>24958</td>\n",
       "      <td>1</td>\n",
       "      <td>...</td>\n",
       "      <td>0</td>\n",
       "      <td>Alleenstaand</td>\n",
       "      <td>Man</td>\n",
       "      <td>Thuiswonend/ Inwonend</td>\n",
       "      <td>21600.0</td>\n",
       "      <td>708.0</td>\n",
       "      <td>1.0</td>\n",
       "      <td>1.0</td>\n",
       "      <td>235875.0</td>\n",
       "      <td>235875.0</td>\n",
       "    </tr>\n",
       "    <tr>\n",
       "      <th>8</th>\n",
       "      <td>719697</td>\n",
       "      <td>210794</td>\n",
       "      <td>1367861</td>\n",
       "      <td>2/1/2017 16:09:04,325000</td>\n",
       "      <td>13000.0</td>\n",
       "      <td>NaN</td>\n",
       "      <td>13000.0</td>\n",
       "      <td>57</td>\n",
       "      <td>25717</td>\n",
       "      <td>0</td>\n",
       "      <td>...</td>\n",
       "      <td>0</td>\n",
       "      <td>Alleenstaand</td>\n",
       "      <td>Man</td>\n",
       "      <td>Thuiswonend/ Inwonend</td>\n",
       "      <td>21600.0</td>\n",
       "      <td>708.0</td>\n",
       "      <td>1.0</td>\n",
       "      <td>1.0</td>\n",
       "      <td>235875.0</td>\n",
       "      <td>235875.0</td>\n",
       "    </tr>\n",
       "    <tr>\n",
       "      <th>12</th>\n",
       "      <td>719698</td>\n",
       "      <td>210961</td>\n",
       "      <td>1367866</td>\n",
       "      <td>3/1/2017 16:10:34,510000</td>\n",
       "      <td>8000.0</td>\n",
       "      <td>NaN</td>\n",
       "      <td>8000.0</td>\n",
       "      <td>120</td>\n",
       "      <td>9008</td>\n",
       "      <td>1</td>\n",
       "      <td>...</td>\n",
       "      <td>0</td>\n",
       "      <td>Samenwonend</td>\n",
       "      <td>Man</td>\n",
       "      <td>Thuiswonend/ Inwonend</td>\n",
       "      <td>22800.0</td>\n",
       "      <td>805.0</td>\n",
       "      <td>1.0</td>\n",
       "      <td>1.0</td>\n",
       "      <td>8245.0</td>\n",
       "      <td>8245.0</td>\n",
       "    </tr>\n",
       "    <tr>\n",
       "      <th>15</th>\n",
       "      <td>719699</td>\n",
       "      <td>210814</td>\n",
       "      <td>1367869</td>\n",
       "      <td>2/1/2017 17:22:18,492000</td>\n",
       "      <td>5000.0</td>\n",
       "      <td>719.0</td>\n",
       "      <td>175503.0</td>\n",
       "      <td>60</td>\n",
       "      <td>974</td>\n",
       "      <td>1</td>\n",
       "      <td>...</td>\n",
       "      <td>0</td>\n",
       "      <td>Alleenstaand</td>\n",
       "      <td>Vrouw</td>\n",
       "      <td>Huurhuis / Kamers</td>\n",
       "      <td>18000.0</td>\n",
       "      <td>719.0</td>\n",
       "      <td>1.0</td>\n",
       "      <td>1.0</td>\n",
       "      <td>58375.0</td>\n",
       "      <td>58375.0</td>\n",
       "    </tr>\n",
       "  </tbody>\n",
       "</table>\n",
       "<p>5 rows × 30 columns</p>\n",
       "</div>"
      ],
      "text/plain": [
       "      A_ID    O_ID  O_SCENARIO              O_DT_CREATED  O_AMOUNT  \\\n",
       "0   719696  210708     1367858  2/1/2017 10:38:26,536000   29000.0   \n",
       "4   719697  210793     1367861  2/1/2017 16:08:07,608000   10000.0   \n",
       "8   719697  210794     1367861  2/1/2017 16:09:04,325000   13000.0   \n",
       "12  719698  210961     1367866  3/1/2017 16:10:34,510000    8000.0   \n",
       "15  719699  210814     1367869  2/1/2017 17:22:18,492000    5000.0   \n",
       "\n",
       "    O_CREDITSCORE  O_FIRST_WITHDRAWL_AMOUNT  NUMBER_OF_TERMS  O_MONTHLY_COST  \\\n",
       "0           784.0                   26604.0              120           29529   \n",
       "4             NaN                   10000.0               44           24958   \n",
       "8             NaN                   13000.0               57           25717   \n",
       "12            NaN                    8000.0              120            9008   \n",
       "15          719.0                  175503.0               60             974   \n",
       "\n",
       "    O_ACCEPTED           ...            NUMBER_OF_CHILDREN  MARITAL_STATUS  \\\n",
       "0            1           ...                             0     Samenwonend   \n",
       "4            1           ...                             0    Alleenstaand   \n",
       "8            0           ...                             0    Alleenstaand   \n",
       "12           1           ...                             0     Samenwonend   \n",
       "15           1           ...                             0    Alleenstaand   \n",
       "\n",
       "      SEX           HOUSING_TYPE  INCOMEAMOUNT_YEAR SCE_CREDITSCORE  \\\n",
       "0   Vrouw               Koophuis            41088.0           784.0   \n",
       "4     Man  Thuiswonend/ Inwonend            21600.0           708.0   \n",
       "8     Man  Thuiswonend/ Inwonend            21600.0           708.0   \n",
       "12    Man  Thuiswonend/ Inwonend            22800.0           805.0   \n",
       "15  Vrouw      Huurhuis / Kamers            18000.0           719.0   \n",
       "\n",
       "   SCE_ACCEPTED  SCE_ACCEPTED_OVERRIDE  SCE_MAX_AMOUNT SCE_MAX_AMOUNT_OVERRIDE  \n",
       "0           1.0                    1.0         49340.0                 49340.0  \n",
       "4           1.0                    1.0        235875.0                235875.0  \n",
       "8           1.0                    1.0        235875.0                235875.0  \n",
       "12          1.0                    1.0          8245.0                  8245.0  \n",
       "15          1.0                    1.0         58375.0                 58375.0  \n",
       "\n",
       "[5 rows x 30 columns]"
      ]
     },
     "execution_count": 9,
     "metadata": {},
     "output_type": "execute_result"
    }
   ],
   "source": [
    "made_offers.head()"
   ]
  },
  {
   "cell_type": "markdown",
   "metadata": {},
   "source": [
    "Features that are going to be considered:\n",
    "* Marital status (e.g. married, single, divorced, widowed)\n",
    "* Housing type (e.g. owner occupied property, rental property etc)\n",
    "* Yearly income amount (yearly) (if married and/or living together: yearly income of partners)\n",
    "* Number of children \n",
    "* Sex (Male, Female)\n",
    "* Age (2017 - birthyear)\n",
    "* <b>O_Amount</b> (offered amount by bank; does not need to be equal to request amount by applicant (but this is often the case))\n",
    "* <b>Number of terms</b> (relevant to the applicant)\n",
    "* <b>Monthly cost</b> (relevant to the applicant)\n",
    "* Percentage offered amount of year income (amount / year_income) * 100 \n",
    "* Percentage yearly cost (12 * monthly cost) of year income\n",
    "* Difference between offered amount and inital requested amount\n",
    "\n",
    "The attributes that are made bold, are attributes which the bank can vary from offer to offer (i.e. the variables of the offer). Other attributes have a relation to these attributes (e.g. last three attributes), while the other attributes is simply customer data. The hypothesis is that there are differences between (groups) of customers in the cognitive mechanisms behind the decision making process when faced with an offer."
   ]
  },
  {
   "cell_type": "markdown",
   "metadata": {},
   "source": [
    "Construct age attribute from the applicant's birthyear "
   ]
  },
  {
   "cell_type": "code",
   "execution_count": 10,
   "metadata": {
    "collapsed": true
   },
   "outputs": [],
   "source": [
    "made_offers[\"age\"]= 2017 - made_offers.BIRTHYEAR"
   ]
  },
  {
   "cell_type": "markdown",
   "metadata": {},
   "source": [
    "Percentage offered amount of year income ((offered_amount / year_income) * 100)"
   ]
  },
  {
   "cell_type": "code",
   "execution_count": 11,
   "metadata": {
    "collapsed": true
   },
   "outputs": [],
   "source": [
    "made_offers[\"percentage_amount_income\"] = (made_offers.O_AMOUNT / made_offers.INCOMEAMOUNT_YEAR) * 100"
   ]
  },
  {
   "cell_type": "markdown",
   "metadata": {},
   "source": [
    "Percentage yearly cost (12 * monthly cost) of year income"
   ]
  },
  {
   "cell_type": "code",
   "execution_count": 12,
   "metadata": {
    "collapsed": true
   },
   "outputs": [],
   "source": [
    "made_offers[\"percentage_cost_income\"] = ((made_offers.O_MONTHLY_COST * 12) / made_offers.INCOMEAMOUNT_YEAR) * 100"
   ]
  },
  {
   "cell_type": "markdown",
   "metadata": {},
   "source": [
    "Enrich offer data with application data (e.g. the applicant's initial requested amount , the application type (e.g. new credit, raise limit) and application loan goal (e.g. car, homeimprovements etc.)"
   ]
  },
  {
   "cell_type": "code",
   "execution_count": 13,
   "metadata": {},
   "outputs": [
    {
     "data": {
      "text/html": [
       "<div>\n",
       "<style scoped>\n",
       "    .dataframe tbody tr th:only-of-type {\n",
       "        vertical-align: middle;\n",
       "    }\n",
       "\n",
       "    .dataframe tbody tr th {\n",
       "        vertical-align: top;\n",
       "    }\n",
       "\n",
       "    .dataframe thead th {\n",
       "        text-align: right;\n",
       "    }\n",
       "</style>\n",
       "<table border=\"1\" class=\"dataframe\">\n",
       "  <thead>\n",
       "    <tr style=\"text-align: right;\">\n",
       "      <th></th>\n",
       "      <th>A_ID</th>\n",
       "      <th>A_INIT_REQ_AMT</th>\n",
       "      <th>A_APPLICATIONTYPE_DESC</th>\n",
       "      <th>A_LOANGOALTYPE_DESC</th>\n",
       "    </tr>\n",
       "  </thead>\n",
       "  <tbody>\n",
       "    <tr>\n",
       "      <th>0</th>\n",
       "      <td>719696</td>\n",
       "      <td>29000.0</td>\n",
       "      <td>Nieuw krediet</td>\n",
       "      <td>Auto</td>\n",
       "    </tr>\n",
       "    <tr>\n",
       "      <th>8</th>\n",
       "      <td>719697</td>\n",
       "      <td>10000.0</td>\n",
       "      <td>Nieuw krediet</td>\n",
       "      <td>Auto</td>\n",
       "    </tr>\n",
       "    <tr>\n",
       "      <th>13</th>\n",
       "      <td>719698</td>\n",
       "      <td>15000.0</td>\n",
       "      <td>Nieuw krediet</td>\n",
       "      <td>Woningverbetering</td>\n",
       "    </tr>\n",
       "    <tr>\n",
       "      <th>18</th>\n",
       "      <td>719699</td>\n",
       "      <td>5000.0</td>\n",
       "      <td>Nieuw krediet</td>\n",
       "      <td>Overname lopende leningen</td>\n",
       "    </tr>\n",
       "    <tr>\n",
       "      <th>29</th>\n",
       "      <td>719700</td>\n",
       "      <td>5000.0</td>\n",
       "      <td>Nieuw krediet</td>\n",
       "      <td>Niet gespecificeerd</td>\n",
       "    </tr>\n",
       "  </tbody>\n",
       "</table>\n",
       "</div>"
      ],
      "text/plain": [
       "      A_ID  A_INIT_REQ_AMT A_APPLICATIONTYPE_DESC        A_LOANGOALTYPE_DESC\n",
       "0   719696         29000.0          Nieuw krediet                       Auto\n",
       "8   719697         10000.0          Nieuw krediet                       Auto\n",
       "13  719698         15000.0          Nieuw krediet          Woningverbetering\n",
       "18  719699          5000.0          Nieuw krediet  Overname lopende leningen\n",
       "29  719700          5000.0          Nieuw krediet        Niet gespecificeerd"
      ]
     },
     "execution_count": 13,
     "metadata": {},
     "output_type": "execute_result"
    }
   ],
   "source": [
    "unique_applications = applications.drop_duplicates(subset = 'A_ID')\n",
    "unique_applications = unique_applications[['A_ID', 'A_INIT_REQ_AMT', 'A_APPLICATIONTYPE_DESC', 'A_LOANGOALTYPE_DESC']]\n",
    "unique_applications.head()"
   ]
  },
  {
   "cell_type": "markdown",
   "metadata": {},
   "source": [
    "Enrich offer data with initial requested amount (not necesarilly equal to offered amount), application type and loan goal"
   ]
  },
  {
   "cell_type": "code",
   "execution_count": 14,
   "metadata": {
    "collapsed": true
   },
   "outputs": [],
   "source": [
    "made_offers = made_offers.merge(unique_applications, on = \"A_ID\")"
   ]
  },
  {
   "cell_type": "markdown",
   "metadata": {},
   "source": [
    "Calculate the difference between the offered amount and the initial requested amount"
   ]
  },
  {
   "cell_type": "code",
   "execution_count": 15,
   "metadata": {
    "collapsed": true
   },
   "outputs": [],
   "source": [
    "made_offers[\"diff_req_and_offered_amount\"] = abs(made_offers.A_INIT_REQ_AMT - made_offers.O_AMOUNT)"
   ]
  },
  {
   "cell_type": "markdown",
   "metadata": {},
   "source": [
    "### <font color=\"green\">Configure classification model</font>"
   ]
  },
  {
   "cell_type": "markdown",
   "metadata": {},
   "source": [
    "Target attribute (i.e. label): O_SELECTED"
   ]
  },
  {
   "cell_type": "code",
   "execution_count": null,
   "metadata": {
    "collapsed": true
   },
   "outputs": [],
   "source": [
    "req_amount = tf.contrib.layers.real_valued_column('A_INIT_REQ_AMT')\n",
    "income = tf.contrib.layers.real_valued_column('INCOMEAMOUNT_YEAR')\n",
    "number_of_children = tf.contrib.layers.real_valued_column('NUMBER_OF_CHILDREN')\n",
    "age = tf.contrib.layers.real_valued_column('age')\n",
    "o_amount = tf.contrib.layers.real_valued_column('O_AMOUNT')\n",
    "number_of_terms = tf.contrib.layers.real_valued_column('NUMBER_OF_TERMS')\n",
    "monthly_cost = tf.contrib.layers.real_valued_column('O_MONTHLY_COST')\n",
    "per_amount_income = tf.contrib.layers.real_valued_column('percentage_amount_income')\n",
    "per_cost_income = tf.contrib.layers.real_valued_column('percentage_cost_income')\n",
    "diff_req_and_offered_amount = tf.contrib.layers.real_valued_column(\"diff_req_and_offered_amount\")"
   ]
  },
  {
   "cell_type": "code",
   "execution_count": null,
   "metadata": {
    "collapsed": true
   },
   "outputs": [],
   "source": [
    "loanGoal = tf.feature_column.categorical_column_with_vocabulary_list('A_LOANGOALTYPE_DESC',\n",
    "                                                                           ['Auto', 'Woningverbetering', 'Overname lopende leningen',\n",
    "                                                                            'Tourcaravan / camper', 'Anders, zie toelichting', 'nan',\n",
    "                                                                            'Extra Bestedingsruimte', 'Niet gespecificeerd',\n",
    "                                                                            'Restschuld woning', 'Boot', 'Motor', 'Belastingbetalingen',\n",
    "                                                                            'Zakelijk doel (no go)', 'Schuldsanering (no go)',\n",
    "                                                                            'Verbouwing aan het huis', 'verbouwing meubels/interieur',\n",
    "                                                                            'Verbouwing aan tuin', 'Zakelijk pand (no go)', 'Onderhandse lening'])\n",
    "applicationType = tf.feature_column.categorical_column_with_vocabulary_list('A_APPLICATIONTYPE_DESC',\n",
    "                                                                           ['Nieuw krediet', 'Limietverhoging'])\n",
    "housingType = tf.feature_column.categorical_column_with_vocabulary_list('HOUSING_TYPE',\n",
    "                                                                          ['Koophuis', 'Thuiswonend/ Inwonend', 'Huurhuis / Kamers'])\n",
    "gender = tf.feature_column.categorical_column_with_vocabulary_list('SEX', ['Man', 'Vrouw'])\n",
    "marital_status = tf.feature_column.categorical_column_with_vocabulary_list('MARITAL_STATUS', ['Samenwonend', 'Alleenstaand',\n",
    "                                                                                              'Gehuwd', 'Geregistreerd partnerschap'])"
   ]
  },
  {
   "cell_type": "code",
   "execution_count": null,
   "metadata": {
    "collapsed": true
   },
   "outputs": [],
   "source": [
    "wide_columns = [loanGoal, applicationType, housingType, gender, marital_status]\n",
    "deep_columns = [loanGoal, applicationType, housingType, gender, marital_status,\n",
    "                req_amount, income, number_of_children, age, o_amount ,number_of_terms, monthly_cost, per_amount_income,\n",
    "                per_cost_income, diff_req_and_offered_amount]"
   ]
  },
  {
   "cell_type": "code",
   "execution_count": 16,
   "metadata": {},
   "outputs": [
    {
     "data": {
      "text/plain": [
       "(31346, 15)"
      ]
     },
     "execution_count": 16,
     "metadata": {},
     "output_type": "execute_result"
    }
   ],
   "source": [
    "made_offers = made_offers[['A_INIT_REQ_AMT', 'INCOMEAMOUNT_YEAR', 'NUMBER_OF_CHILDREN', 'age', 'O_AMOUNT', 'NUMBER_OF_TERMS',\n",
    "                           'O_MONTHLY_COST', 'percentage_amount_income', 'percentage_cost_income', 'MARITAL_STATUS',\n",
    "                          \"diff_req_and_offered_amount\", 'A_APPLICATIONTYPE_DESC',\n",
    "                           'HOUSING_TYPE', 'SEX', 'O_SELECTED']]\n",
    "made_offers = made_offers.dropna(how = \"any\")\n",
    "made_offers.shape"
   ]
  },
  {
   "cell_type": "code",
   "execution_count": 17,
   "metadata": {
    "collapsed": true
   },
   "outputs": [],
   "source": [
    "made_offers = made_offers.apply(preprocessing.LabelEncoder().fit_transform)"
   ]
  },
  {
   "cell_type": "code",
   "execution_count": null,
   "metadata": {
    "collapsed": true
   },
   "outputs": [],
   "source": [
    "FEATURES = ['A_INIT_REQ_AMT', 'INCOMEAMOUNT_YEAR', 'NUMBER_OF_CHILDREN', 'age', 'O_AMOUNT', 'NUMBER_OF_TERMS',\n",
    "                           'O_MONTHLY_COST', 'percentage_amount_income', 'percentage_cost_income', 'MARITAL_STATUS',\n",
    "                          \"diff_req_and_offered_amount\", 'A_APPLICATIONTYPE_DESC',\n",
    "                           'HOUSING_TYPE', 'SEX']\n",
    "LABEL = ['O_SELECTED']"
   ]
  },
  {
   "cell_type": "code",
   "execution_count": 18,
   "metadata": {
    "collapsed": true
   },
   "outputs": [],
   "source": [
    "x_features = made_offers.drop('O_SELECTED', axis = 1)"
   ]
  },
  {
   "cell_type": "code",
   "execution_count": 19,
   "metadata": {
    "collapsed": true
   },
   "outputs": [],
   "source": [
    "pred_labels = made_offers[['O_SELECTED']]"
   ]
  },
  {
   "cell_type": "code",
   "execution_count": 20,
   "metadata": {
    "collapsed": true
   },
   "outputs": [],
   "source": [
    "x_train, x_test, y_train, y_test = train_test_split(x_features, pred_labels, test_size = 0.2)"
   ]
  },
  {
   "cell_type": "code",
   "execution_count": 22,
   "metadata": {},
   "outputs": [],
   "source": [
    "input_fn = tf.estimator.inputs.pandas_input_fn(x=x_train,y=y_train,batch_size=10,num_epochs=1000,shuffle=True)"
   ]
  },
  {
   "cell_type": "code",
   "execution_count": 24,
   "metadata": {},
   "outputs": [
    {
     "name": "stdout",
     "output_type": "stream",
     "text": [
      "WARNING:tensorflow:float64 is not supported by many models, consider casting to float32.\n"
     ]
    }
   ],
   "source": [
    "feat_cols = tf.contrib.learn.infer_real_valued_columns_from_input(x_train)"
   ]
  },
  {
   "cell_type": "code",
   "execution_count": null,
   "metadata": {},
   "outputs": [],
   "source": [
    "feature_columns = tf.contrib.learn.infer_real_valued_columns_from_input(x_train)"
   ]
  },
  {
   "cell_type": "code",
   "execution_count": 29,
   "metadata": {},
   "outputs": [
    {
     "name": "stdout",
     "output_type": "stream",
     "text": [
      "INFO:tensorflow:Using default config.\n",
      "WARNING:tensorflow:Using temporary folder as model directory: C:\\Users\\s158881\\AppData\\Local\\Temp\\tmprseinbes\n",
      "INFO:tensorflow:Using config: {'_model_dir': 'C:\\\\Users\\\\s158881\\\\AppData\\\\Local\\\\Temp\\\\tmprseinbes', '_tf_random_seed': 1, '_save_summary_steps': 100, '_save_checkpoints_secs': 600, '_save_checkpoints_steps': None, '_session_config': None, '_keep_checkpoint_max': 5, '_keep_checkpoint_every_n_hours': 10000, '_log_step_count_steps': 100}\n"
     ]
    }
   ],
   "source": [
    "classifier = tf.estimator.DNNClassifier(feature_columns = feat_cols,\n",
    "                                                      hidden_units = [10, 20, 10], n_classes = 2)"
   ]
  },
  {
   "cell_type": "code",
   "execution_count": 33,
   "metadata": {},
   "outputs": [
    {
     "ename": "ValueError",
     "evalue": "Feature  is not in features dictionary.",
     "output_type": "error",
     "traceback": [
      "\u001b[1;31m---------------------------------------------------------------------------\u001b[0m",
      "\u001b[1;31mValueError\u001b[0m                                Traceback (most recent call last)",
      "\u001b[1;32m<ipython-input-33-f2d8ab773429>\u001b[0m in \u001b[0;36m<module>\u001b[1;34m()\u001b[0m\n\u001b[1;32m----> 1\u001b[1;33m \u001b[0mclassifier\u001b[0m\u001b[1;33m.\u001b[0m\u001b[0mtrain\u001b[0m\u001b[1;33m(\u001b[0m\u001b[0minput_fn\u001b[0m \u001b[1;33m=\u001b[0m \u001b[0minput_fn\u001b[0m \u001b[1;33m,\u001b[0m \u001b[0msteps\u001b[0m \u001b[1;33m=\u001b[0m \u001b[0mint\u001b[0m\u001b[1;33m(\u001b[0m\u001b[1;36m1e4\u001b[0m\u001b[1;33m)\u001b[0m\u001b[1;33m)\u001b[0m\u001b[1;33m\u001b[0m\u001b[0m\n\u001b[0m",
      "\u001b[1;32mC:\\ProgramData\\Anaconda3\\lib\\site-packages\\tensorflow\\python\\estimator\\estimator.py\u001b[0m in \u001b[0;36mtrain\u001b[1;34m(self, input_fn, hooks, steps, max_steps)\u001b[0m\n\u001b[0;32m    239\u001b[0m       \u001b[0mhooks\u001b[0m\u001b[1;33m.\u001b[0m\u001b[0mappend\u001b[0m\u001b[1;33m(\u001b[0m\u001b[0mtraining\u001b[0m\u001b[1;33m.\u001b[0m\u001b[0mStopAtStepHook\u001b[0m\u001b[1;33m(\u001b[0m\u001b[0msteps\u001b[0m\u001b[1;33m,\u001b[0m \u001b[0mmax_steps\u001b[0m\u001b[1;33m)\u001b[0m\u001b[1;33m)\u001b[0m\u001b[1;33m\u001b[0m\u001b[0m\n\u001b[0;32m    240\u001b[0m \u001b[1;33m\u001b[0m\u001b[0m\n\u001b[1;32m--> 241\u001b[1;33m     \u001b[0mloss\u001b[0m \u001b[1;33m=\u001b[0m \u001b[0mself\u001b[0m\u001b[1;33m.\u001b[0m\u001b[0m_train_model\u001b[0m\u001b[1;33m(\u001b[0m\u001b[0minput_fn\u001b[0m\u001b[1;33m=\u001b[0m\u001b[0minput_fn\u001b[0m\u001b[1;33m,\u001b[0m \u001b[0mhooks\u001b[0m\u001b[1;33m=\u001b[0m\u001b[0mhooks\u001b[0m\u001b[1;33m)\u001b[0m\u001b[1;33m\u001b[0m\u001b[0m\n\u001b[0m\u001b[0;32m    242\u001b[0m     \u001b[0mlogging\u001b[0m\u001b[1;33m.\u001b[0m\u001b[0minfo\u001b[0m\u001b[1;33m(\u001b[0m\u001b[1;34m'Loss for final step: %s.'\u001b[0m\u001b[1;33m,\u001b[0m \u001b[0mloss\u001b[0m\u001b[1;33m)\u001b[0m\u001b[1;33m\u001b[0m\u001b[0m\n\u001b[0;32m    243\u001b[0m     \u001b[1;32mreturn\u001b[0m \u001b[0mself\u001b[0m\u001b[1;33m\u001b[0m\u001b[0m\n",
      "\u001b[1;32mC:\\ProgramData\\Anaconda3\\lib\\site-packages\\tensorflow\\python\\estimator\\estimator.py\u001b[0m in \u001b[0;36m_train_model\u001b[1;34m(self, input_fn, hooks)\u001b[0m\n\u001b[0;32m    628\u001b[0m           input_fn, model_fn_lib.ModeKeys.TRAIN)\n\u001b[0;32m    629\u001b[0m       estimator_spec = self._call_model_fn(features, labels,\n\u001b[1;32m--> 630\u001b[1;33m                                            model_fn_lib.ModeKeys.TRAIN)\n\u001b[0m\u001b[0;32m    631\u001b[0m       \u001b[0mops\u001b[0m\u001b[1;33m.\u001b[0m\u001b[0madd_to_collection\u001b[0m\u001b[1;33m(\u001b[0m\u001b[0mops\u001b[0m\u001b[1;33m.\u001b[0m\u001b[0mGraphKeys\u001b[0m\u001b[1;33m.\u001b[0m\u001b[0mLOSSES\u001b[0m\u001b[1;33m,\u001b[0m \u001b[0mestimator_spec\u001b[0m\u001b[1;33m.\u001b[0m\u001b[0mloss\u001b[0m\u001b[1;33m)\u001b[0m\u001b[1;33m\u001b[0m\u001b[0m\n\u001b[0;32m    632\u001b[0m       \u001b[0mall_hooks\u001b[0m\u001b[1;33m.\u001b[0m\u001b[0mextend\u001b[0m\u001b[1;33m(\u001b[0m\u001b[0mhooks\u001b[0m\u001b[1;33m)\u001b[0m\u001b[1;33m\u001b[0m\u001b[0m\n",
      "\u001b[1;32mC:\\ProgramData\\Anaconda3\\lib\\site-packages\\tensorflow\\python\\estimator\\estimator.py\u001b[0m in \u001b[0;36m_call_model_fn\u001b[1;34m(self, features, labels, mode)\u001b[0m\n\u001b[0;32m    613\u001b[0m     \u001b[1;32mif\u001b[0m \u001b[1;34m'config'\u001b[0m \u001b[1;32min\u001b[0m \u001b[0mmodel_fn_args\u001b[0m\u001b[1;33m:\u001b[0m\u001b[1;33m\u001b[0m\u001b[0m\n\u001b[0;32m    614\u001b[0m       \u001b[0mkwargs\u001b[0m\u001b[1;33m[\u001b[0m\u001b[1;34m'config'\u001b[0m\u001b[1;33m]\u001b[0m \u001b[1;33m=\u001b[0m \u001b[0mself\u001b[0m\u001b[1;33m.\u001b[0m\u001b[0mconfig\u001b[0m\u001b[1;33m\u001b[0m\u001b[0m\n\u001b[1;32m--> 615\u001b[1;33m     \u001b[0mmodel_fn_results\u001b[0m \u001b[1;33m=\u001b[0m \u001b[0mself\u001b[0m\u001b[1;33m.\u001b[0m\u001b[0m_model_fn\u001b[0m\u001b[1;33m(\u001b[0m\u001b[0mfeatures\u001b[0m\u001b[1;33m=\u001b[0m\u001b[0mfeatures\u001b[0m\u001b[1;33m,\u001b[0m \u001b[1;33m**\u001b[0m\u001b[0mkwargs\u001b[0m\u001b[1;33m)\u001b[0m\u001b[1;33m\u001b[0m\u001b[0m\n\u001b[0m\u001b[0;32m    616\u001b[0m \u001b[1;33m\u001b[0m\u001b[0m\n\u001b[0;32m    617\u001b[0m     \u001b[1;32mif\u001b[0m \u001b[1;32mnot\u001b[0m \u001b[0misinstance\u001b[0m\u001b[1;33m(\u001b[0m\u001b[0mmodel_fn_results\u001b[0m\u001b[1;33m,\u001b[0m \u001b[0mmodel_fn_lib\u001b[0m\u001b[1;33m.\u001b[0m\u001b[0mEstimatorSpec\u001b[0m\u001b[1;33m)\u001b[0m\u001b[1;33m:\u001b[0m\u001b[1;33m\u001b[0m\u001b[0m\n",
      "\u001b[1;32mC:\\ProgramData\\Anaconda3\\lib\\site-packages\\tensorflow\\python\\estimator\\canned\\dnn.py\u001b[0m in \u001b[0;36m_model_fn\u001b[1;34m(features, labels, mode, config)\u001b[0m\n\u001b[0;32m    269\u001b[0m           \u001b[0mdropout\u001b[0m\u001b[1;33m=\u001b[0m\u001b[0mdropout\u001b[0m\u001b[1;33m,\u001b[0m\u001b[1;33m\u001b[0m\u001b[0m\n\u001b[0;32m    270\u001b[0m           \u001b[0minput_layer_partitioner\u001b[0m\u001b[1;33m=\u001b[0m\u001b[0minput_layer_partitioner\u001b[0m\u001b[1;33m,\u001b[0m\u001b[1;33m\u001b[0m\u001b[0m\n\u001b[1;32m--> 271\u001b[1;33m           config=config)\n\u001b[0m\u001b[0;32m    272\u001b[0m     super(DNNClassifier, self).__init__(\n\u001b[0;32m    273\u001b[0m         model_fn=_model_fn, model_dir=model_dir, config=config)\n",
      "\u001b[1;32mC:\\ProgramData\\Anaconda3\\lib\\site-packages\\tensorflow\\python\\estimator\\canned\\dnn.py\u001b[0m in \u001b[0;36m_dnn_model_fn\u001b[1;34m(features, labels, mode, head, hidden_units, feature_columns, optimizer, activation_fn, dropout, input_layer_partitioner, config)\u001b[0m\n\u001b[0;32m    100\u001b[0m       net = feature_column_lib.input_layer(\n\u001b[0;32m    101\u001b[0m           \u001b[0mfeatures\u001b[0m\u001b[1;33m=\u001b[0m\u001b[0mfeatures\u001b[0m\u001b[1;33m,\u001b[0m\u001b[1;33m\u001b[0m\u001b[0m\n\u001b[1;32m--> 102\u001b[1;33m           feature_columns=feature_columns)\n\u001b[0m\u001b[0;32m    103\u001b[0m \u001b[1;33m\u001b[0m\u001b[0m\n\u001b[0;32m    104\u001b[0m     \u001b[1;32mfor\u001b[0m \u001b[0mlayer_id\u001b[0m\u001b[1;33m,\u001b[0m \u001b[0mnum_hidden_units\u001b[0m \u001b[1;32min\u001b[0m \u001b[0menumerate\u001b[0m\u001b[1;33m(\u001b[0m\u001b[0mhidden_units\u001b[0m\u001b[1;33m)\u001b[0m\u001b[1;33m:\u001b[0m\u001b[1;33m\u001b[0m\u001b[0m\n",
      "\u001b[1;32mC:\\ProgramData\\Anaconda3\\lib\\site-packages\\tensorflow\\python\\feature_column\\feature_column.py\u001b[0m in \u001b[0;36minput_layer\u001b[1;34m(features, feature_columns, weight_collections, trainable)\u001b[0m\n\u001b[0;32m    228\u001b[0m             \u001b[0mbuilder\u001b[0m\u001b[1;33m,\u001b[0m\u001b[1;33m\u001b[0m\u001b[0m\n\u001b[0;32m    229\u001b[0m             \u001b[0mweight_collections\u001b[0m\u001b[1;33m=\u001b[0m\u001b[0mweight_collections\u001b[0m\u001b[1;33m,\u001b[0m\u001b[1;33m\u001b[0m\u001b[0m\n\u001b[1;32m--> 230\u001b[1;33m             trainable=trainable)\n\u001b[0m\u001b[0;32m    231\u001b[0m         \u001b[0mnum_elements\u001b[0m \u001b[1;33m=\u001b[0m \u001b[0mcolumn\u001b[0m\u001b[1;33m.\u001b[0m\u001b[0m_variable_shape\u001b[0m\u001b[1;33m.\u001b[0m\u001b[0mnum_elements\u001b[0m\u001b[1;33m(\u001b[0m\u001b[1;33m)\u001b[0m  \u001b[1;31m# pylint: disable=protected-access\u001b[0m\u001b[1;33m\u001b[0m\u001b[0m\n\u001b[0;32m    232\u001b[0m         \u001b[0mbatch_size\u001b[0m \u001b[1;33m=\u001b[0m \u001b[0marray_ops\u001b[0m\u001b[1;33m.\u001b[0m\u001b[0mshape\u001b[0m\u001b[1;33m(\u001b[0m\u001b[0mtensor\u001b[0m\u001b[1;33m)\u001b[0m\u001b[1;33m[\u001b[0m\u001b[1;36m0\u001b[0m\u001b[1;33m]\u001b[0m\u001b[1;33m\u001b[0m\u001b[0m\n",
      "\u001b[1;32mC:\\ProgramData\\Anaconda3\\lib\\site-packages\\tensorflow\\contrib\\layers\\python\\layers\\feature_column.py\u001b[0m in \u001b[0;36m_get_dense_tensor\u001b[1;34m(***failed resolving arguments***)\u001b[0m\n\u001b[0;32m   1811\u001b[0m     \u001b[1;32mdel\u001b[0m \u001b[0mweight_collections\u001b[0m\u001b[1;33m\u001b[0m\u001b[0m\n\u001b[0;32m   1812\u001b[0m     \u001b[1;32mdel\u001b[0m \u001b[0mtrainable\u001b[0m\u001b[1;33m\u001b[0m\u001b[0m\n\u001b[1;32m-> 1813\u001b[1;33m     \u001b[1;32mreturn\u001b[0m \u001b[0minputs\u001b[0m\u001b[1;33m.\u001b[0m\u001b[0mget\u001b[0m\u001b[1;33m(\u001b[0m\u001b[0mself\u001b[0m\u001b[1;33m)\u001b[0m\u001b[1;33m\u001b[0m\u001b[0m\n\u001b[0m\u001b[0;32m   1814\u001b[0m \u001b[1;33m\u001b[0m\u001b[0m\n\u001b[0;32m   1815\u001b[0m   \u001b[1;32mdef\u001b[0m \u001b[0m_transform_feature\u001b[0m\u001b[1;33m(\u001b[0m\u001b[0mself\u001b[0m\u001b[1;33m,\u001b[0m \u001b[0minputs\u001b[0m\u001b[1;33m)\u001b[0m\u001b[1;33m:\u001b[0m\u001b[1;33m\u001b[0m\u001b[0m\n",
      "\u001b[1;32mC:\\ProgramData\\Anaconda3\\lib\\site-packages\\tensorflow\\python\\feature_column\\feature_column.py\u001b[0m in \u001b[0;36mget\u001b[1;34m(self, key)\u001b[0m\n\u001b[0;32m   1531\u001b[0m     \u001b[0mcolumn\u001b[0m \u001b[1;33m=\u001b[0m \u001b[0mkey\u001b[0m\u001b[1;33m\u001b[0m\u001b[0m\n\u001b[0;32m   1532\u001b[0m     \u001b[0mlogging\u001b[0m\u001b[1;33m.\u001b[0m\u001b[0mdebug\u001b[0m\u001b[1;33m(\u001b[0m\u001b[1;34m'Transforming feature_column %s.'\u001b[0m\u001b[1;33m,\u001b[0m \u001b[0mcolumn\u001b[0m\u001b[1;33m)\u001b[0m\u001b[1;33m\u001b[0m\u001b[0m\n\u001b[1;32m-> 1533\u001b[1;33m     \u001b[0mtransformed\u001b[0m \u001b[1;33m=\u001b[0m \u001b[0mcolumn\u001b[0m\u001b[1;33m.\u001b[0m\u001b[0m_transform_feature\u001b[0m\u001b[1;33m(\u001b[0m\u001b[0mself\u001b[0m\u001b[1;33m)\u001b[0m  \u001b[1;31m# pylint: disable=protected-access\u001b[0m\u001b[1;33m\u001b[0m\u001b[0m\n\u001b[0m\u001b[0;32m   1534\u001b[0m     \u001b[1;32mif\u001b[0m \u001b[0mtransformed\u001b[0m \u001b[1;32mis\u001b[0m \u001b[1;32mNone\u001b[0m\u001b[1;33m:\u001b[0m\u001b[1;33m\u001b[0m\u001b[0m\n\u001b[0;32m   1535\u001b[0m       \u001b[1;32mraise\u001b[0m \u001b[0mValueError\u001b[0m\u001b[1;33m(\u001b[0m\u001b[1;34m'Column {} is not supported.'\u001b[0m\u001b[1;33m.\u001b[0m\u001b[0mformat\u001b[0m\u001b[1;33m(\u001b[0m\u001b[0mcolumn\u001b[0m\u001b[1;33m.\u001b[0m\u001b[0mname\u001b[0m\u001b[1;33m)\u001b[0m\u001b[1;33m)\u001b[0m\u001b[1;33m\u001b[0m\u001b[0m\n",
      "\u001b[1;32mC:\\ProgramData\\Anaconda3\\lib\\site-packages\\tensorflow\\contrib\\layers\\python\\layers\\feature_column.py\u001b[0m in \u001b[0;36m_transform_feature\u001b[1;34m(self, inputs)\u001b[0m\n\u001b[0;32m   1815\u001b[0m   \u001b[1;32mdef\u001b[0m \u001b[0m_transform_feature\u001b[0m\u001b[1;33m(\u001b[0m\u001b[0mself\u001b[0m\u001b[1;33m,\u001b[0m \u001b[0minputs\u001b[0m\u001b[1;33m)\u001b[0m\u001b[1;33m:\u001b[0m\u001b[1;33m\u001b[0m\u001b[0m\n\u001b[0;32m   1816\u001b[0m     return math_ops.to_float(\n\u001b[1;32m-> 1817\u001b[1;33m         self._normalized_input_tensor(inputs.get(self.name)))\n\u001b[0m\u001b[0;32m   1818\u001b[0m \u001b[1;33m\u001b[0m\u001b[0m\n\u001b[0;32m   1819\u001b[0m   \u001b[1;33m@\u001b[0m\u001b[0mproperty\u001b[0m\u001b[1;33m\u001b[0m\u001b[0m\n",
      "\u001b[1;32mC:\\ProgramData\\Anaconda3\\lib\\site-packages\\tensorflow\\python\\feature_column\\feature_column.py\u001b[0m in \u001b[0;36mget\u001b[1;34m(self, key)\u001b[0m\n\u001b[0;32m   1527\u001b[0m \u001b[1;33m\u001b[0m\u001b[0m\n\u001b[0;32m   1528\u001b[0m     \u001b[1;32mif\u001b[0m \u001b[1;32mnot\u001b[0m \u001b[0misinstance\u001b[0m\u001b[1;33m(\u001b[0m\u001b[0mkey\u001b[0m\u001b[1;33m,\u001b[0m \u001b[0m_FeatureColumn\u001b[0m\u001b[1;33m)\u001b[0m\u001b[1;33m:\u001b[0m\u001b[1;33m\u001b[0m\u001b[0m\n\u001b[1;32m-> 1529\u001b[1;33m       \u001b[1;32mraise\u001b[0m \u001b[0mValueError\u001b[0m\u001b[1;33m(\u001b[0m\u001b[1;34m'Feature {} is not in features dictionary.'\u001b[0m\u001b[1;33m.\u001b[0m\u001b[0mformat\u001b[0m\u001b[1;33m(\u001b[0m\u001b[0mkey\u001b[0m\u001b[1;33m)\u001b[0m\u001b[1;33m)\u001b[0m\u001b[1;33m\u001b[0m\u001b[0m\n\u001b[0m\u001b[0;32m   1530\u001b[0m \u001b[1;33m\u001b[0m\u001b[0m\n\u001b[0;32m   1531\u001b[0m     \u001b[0mcolumn\u001b[0m \u001b[1;33m=\u001b[0m \u001b[0mkey\u001b[0m\u001b[1;33m\u001b[0m\u001b[0m\n",
      "\u001b[1;31mValueError\u001b[0m: Feature  is not in features dictionary."
     ]
    }
   ],
   "source": [
    "classifier.train(input_fn = input_fn , steps = int(1e4))"
   ]
  },
  {
   "cell_type": "code",
   "execution_count": null,
   "metadata": {
    "collapsed": true
   },
   "outputs": [],
   "source": [
    "evaluation_model_function = tf.estimator.inputs.pandas_input_fn(x = x_test, y = y_test, batch_size = 100,\n",
    "                                                               num_epochs = 1, shuffle = False)"
   ]
  },
  {
   "cell_type": "code",
   "execution_count": null,
   "metadata": {},
   "outputs": [],
   "source": [
    "results = model.evaluate(evaluation_model_function)\n",
    "results"
   ]
  }
 ],
 "metadata": {
  "kernelspec": {
   "display_name": "Python 3",
   "language": "python",
   "name": "python3"
  },
  "language_info": {
   "codemirror_mode": {
    "name": "ipython",
    "version": 3
   },
   "file_extension": ".py",
   "mimetype": "text/x-python",
   "name": "python",
   "nbconvert_exporter": "python",
   "pygments_lexer": "ipython3",
   "version": "3.6.3"
  }
 },
 "nbformat": 4,
 "nbformat_minor": 2
}
