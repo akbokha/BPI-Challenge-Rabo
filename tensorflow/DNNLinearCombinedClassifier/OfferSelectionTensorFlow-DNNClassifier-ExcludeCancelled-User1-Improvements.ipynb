{
 "cells": [
  {
   "cell_type": "markdown",
   "metadata": {},
   "source": [
    "### <font color=\"darkblue\"><i>A predictive model which tries to predict whether customers will accept a loan offer or not. The model uses only features that will be known at the time of sending an offer. Once the performance metrics of the model have been assessed and the performance (e.g. accuracy) is evaluated to be adequate enough, the model can be used by employees before sending the actual offers. If the model predicts that the offer will not be accepted (i.e. will be refused and/or cancelled) with a high probability, the employee can chose to change the offer and/or not send an offer / send multiple offers. This can reduce the company's overhead/resources in the offer sending process.</i></font>"
   ]
  },
  {
   "cell_type": "markdown",
   "metadata": {},
   "source": [
    "### <font color=\"green\">imports, preparation and configuration</font>"
   ]
  },
  {
   "cell_type": "code",
   "execution_count": 1,
   "metadata": {
    "collapsed": true
   },
   "outputs": [],
   "source": [
    "import tensorflow as tf\n",
    "import pandas as pd\n",
    "import numpy as np\n",
    "import seaborn as sns\n",
    "from sklearn.model_selection import train_test_split\n",
    "from sklearn import preprocessing, metrics\n",
    "from sklearn.pipeline import Pipeline\n",
    "import matplotlib.pyplot as plt\n",
    "%matplotlib inline"
   ]
  },
  {
   "cell_type": "code",
   "execution_count": 2,
   "metadata": {},
   "outputs": [
    {
     "data": {
      "text/html": [
       "<script>\n",
       "code_show_err=false; \n",
       "function code_toggle_err() {\n",
       " if (code_show_err){\n",
       " $('div.output_stderr').hide();\n",
       " } else {\n",
       " $('div.output_stderr').show();\n",
       " }\n",
       " code_show_err = !code_show_err\n",
       "} \n",
       "$( document ).ready(code_toggle_err);\n",
       "</script>\n",
       "To toggle on/off output_stderr, click <a href=\"javascript:code_toggle_err()\">here</a>."
      ],
      "text/plain": [
       "<IPython.core.display.HTML object>"
      ]
     },
     "execution_count": 2,
     "metadata": {},
     "output_type": "execute_result"
    }
   ],
   "source": [
    "from IPython.display import HTML\n",
    "HTML('''<script>\n",
    "code_show_err=false; \n",
    "function code_toggle_err() {\n",
    " if (code_show_err){\n",
    " $('div.output_stderr').hide();\n",
    " } else {\n",
    " $('div.output_stderr').show();\n",
    " }\n",
    " code_show_err = !code_show_err\n",
    "} \n",
    "$( document ).ready(code_toggle_err);\n",
    "</script>\n",
    "To toggle on/off output_stderr, click <a href=\"javascript:code_toggle_err()\">here</a>.''')"
   ]
  },
  {
   "cell_type": "code",
   "execution_count": 3,
   "metadata": {},
   "outputs": [
    {
     "data": {
      "text/html": [
       "<div>\n",
       "<style scoped>\n",
       "    .dataframe tbody tr th:only-of-type {\n",
       "        vertical-align: middle;\n",
       "    }\n",
       "\n",
       "    .dataframe tbody tr th {\n",
       "        vertical-align: top;\n",
       "    }\n",
       "\n",
       "    .dataframe thead th {\n",
       "        text-align: right;\n",
       "    }\n",
       "</style>\n",
       "<table border=\"1\" class=\"dataframe\">\n",
       "  <thead>\n",
       "    <tr style=\"text-align: right;\">\n",
       "      <th></th>\n",
       "      <th>A_ID</th>\n",
       "      <th>O_ID</th>\n",
       "      <th>O_SCENARIO</th>\n",
       "      <th>O_DT_CREATED</th>\n",
       "      <th>O_AMOUNT</th>\n",
       "      <th>O_CREDITSCORE</th>\n",
       "      <th>O_FIRST_WITHDRAWL_AMOUNT</th>\n",
       "      <th>NUMBER_OF_TERMS</th>\n",
       "      <th>O_MONTHLY_COST</th>\n",
       "      <th>O_ACCEPTED</th>\n",
       "      <th>...</th>\n",
       "      <th>NUMBER_OF_CHILDREN</th>\n",
       "      <th>MARITAL_STATUS</th>\n",
       "      <th>SEX</th>\n",
       "      <th>HOUSING_TYPE</th>\n",
       "      <th>INCOMEAMOUNT_YEAR</th>\n",
       "      <th>SCE_CREDITSCORE</th>\n",
       "      <th>SCE_ACCEPTED</th>\n",
       "      <th>SCE_ACCEPTED_OVERRIDE</th>\n",
       "      <th>SCE_MAX_AMOUNT</th>\n",
       "      <th>SCE_MAX_AMOUNT_OVERRIDE</th>\n",
       "    </tr>\n",
       "  </thead>\n",
       "  <tbody>\n",
       "    <tr>\n",
       "      <th>0</th>\n",
       "      <td>719696</td>\n",
       "      <td>210708</td>\n",
       "      <td>1367858</td>\n",
       "      <td>2/1/2017 10:38:26,536000</td>\n",
       "      <td>29000.0</td>\n",
       "      <td>784.0</td>\n",
       "      <td>26604.0</td>\n",
       "      <td>120</td>\n",
       "      <td>29529</td>\n",
       "      <td>1</td>\n",
       "      <td>...</td>\n",
       "      <td>0</td>\n",
       "      <td>Samenwonend</td>\n",
       "      <td>Vrouw</td>\n",
       "      <td>Koophuis</td>\n",
       "      <td>41088.0</td>\n",
       "      <td>784.0</td>\n",
       "      <td>1.0</td>\n",
       "      <td>1.0</td>\n",
       "      <td>49340.0</td>\n",
       "      <td>49340.0</td>\n",
       "    </tr>\n",
       "    <tr>\n",
       "      <th>1</th>\n",
       "      <td>719696</td>\n",
       "      <td>210708</td>\n",
       "      <td>1367858</td>\n",
       "      <td>2/1/2017 10:38:26,536000</td>\n",
       "      <td>29000.0</td>\n",
       "      <td>784.0</td>\n",
       "      <td>26604.0</td>\n",
       "      <td>120</td>\n",
       "      <td>29529</td>\n",
       "      <td>1</td>\n",
       "      <td>...</td>\n",
       "      <td>0</td>\n",
       "      <td>Samenwonend</td>\n",
       "      <td>Vrouw</td>\n",
       "      <td>Koophuis</td>\n",
       "      <td>41088.0</td>\n",
       "      <td>784.0</td>\n",
       "      <td>1.0</td>\n",
       "      <td>1.0</td>\n",
       "      <td>49340.0</td>\n",
       "      <td>49340.0</td>\n",
       "    </tr>\n",
       "    <tr>\n",
       "      <th>2</th>\n",
       "      <td>719696</td>\n",
       "      <td>210708</td>\n",
       "      <td>1367858</td>\n",
       "      <td>2/1/2017 10:38:26,536000</td>\n",
       "      <td>29000.0</td>\n",
       "      <td>784.0</td>\n",
       "      <td>26604.0</td>\n",
       "      <td>120</td>\n",
       "      <td>29529</td>\n",
       "      <td>1</td>\n",
       "      <td>...</td>\n",
       "      <td>0</td>\n",
       "      <td>Samenwonend</td>\n",
       "      <td>Vrouw</td>\n",
       "      <td>Koophuis</td>\n",
       "      <td>41088.0</td>\n",
       "      <td>784.0</td>\n",
       "      <td>1.0</td>\n",
       "      <td>1.0</td>\n",
       "      <td>49340.0</td>\n",
       "      <td>49340.0</td>\n",
       "    </tr>\n",
       "    <tr>\n",
       "      <th>3</th>\n",
       "      <td>719696</td>\n",
       "      <td>210708</td>\n",
       "      <td>1367858</td>\n",
       "      <td>2/1/2017 10:38:26,536000</td>\n",
       "      <td>29000.0</td>\n",
       "      <td>784.0</td>\n",
       "      <td>26604.0</td>\n",
       "      <td>120</td>\n",
       "      <td>29529</td>\n",
       "      <td>1</td>\n",
       "      <td>...</td>\n",
       "      <td>0</td>\n",
       "      <td>Samenwonend</td>\n",
       "      <td>Vrouw</td>\n",
       "      <td>Koophuis</td>\n",
       "      <td>41088.0</td>\n",
       "      <td>784.0</td>\n",
       "      <td>1.0</td>\n",
       "      <td>1.0</td>\n",
       "      <td>49340.0</td>\n",
       "      <td>49340.0</td>\n",
       "    </tr>\n",
       "    <tr>\n",
       "      <th>4</th>\n",
       "      <td>719697</td>\n",
       "      <td>210793</td>\n",
       "      <td>1367861</td>\n",
       "      <td>2/1/2017 16:08:07,608000</td>\n",
       "      <td>10000.0</td>\n",
       "      <td>NaN</td>\n",
       "      <td>10000.0</td>\n",
       "      <td>44</td>\n",
       "      <td>24958</td>\n",
       "      <td>1</td>\n",
       "      <td>...</td>\n",
       "      <td>0</td>\n",
       "      <td>Alleenstaand</td>\n",
       "      <td>Man</td>\n",
       "      <td>Thuiswonend/ Inwonend</td>\n",
       "      <td>21600.0</td>\n",
       "      <td>708.0</td>\n",
       "      <td>1.0</td>\n",
       "      <td>1.0</td>\n",
       "      <td>235875.0</td>\n",
       "      <td>235875.0</td>\n",
       "    </tr>\n",
       "  </tbody>\n",
       "</table>\n",
       "<p>5 rows × 30 columns</p>\n",
       "</div>"
      ],
      "text/plain": [
       "     A_ID    O_ID  O_SCENARIO              O_DT_CREATED  O_AMOUNT  \\\n",
       "0  719696  210708     1367858  2/1/2017 10:38:26,536000   29000.0   \n",
       "1  719696  210708     1367858  2/1/2017 10:38:26,536000   29000.0   \n",
       "2  719696  210708     1367858  2/1/2017 10:38:26,536000   29000.0   \n",
       "3  719696  210708     1367858  2/1/2017 10:38:26,536000   29000.0   \n",
       "4  719697  210793     1367861  2/1/2017 16:08:07,608000   10000.0   \n",
       "\n",
       "   O_CREDITSCORE  O_FIRST_WITHDRAWL_AMOUNT  NUMBER_OF_TERMS  O_MONTHLY_COST  \\\n",
       "0          784.0                   26604.0              120           29529   \n",
       "1          784.0                   26604.0              120           29529   \n",
       "2          784.0                   26604.0              120           29529   \n",
       "3          784.0                   26604.0              120           29529   \n",
       "4            NaN                   10000.0               44           24958   \n",
       "\n",
       "   O_ACCEPTED           ...            NUMBER_OF_CHILDREN  MARITAL_STATUS  \\\n",
       "0           1           ...                             0     Samenwonend   \n",
       "1           1           ...                             0     Samenwonend   \n",
       "2           1           ...                             0     Samenwonend   \n",
       "3           1           ...                             0     Samenwonend   \n",
       "4           1           ...                             0    Alleenstaand   \n",
       "\n",
       "     SEX           HOUSING_TYPE  INCOMEAMOUNT_YEAR SCE_CREDITSCORE  \\\n",
       "0  Vrouw               Koophuis            41088.0           784.0   \n",
       "1  Vrouw               Koophuis            41088.0           784.0   \n",
       "2  Vrouw               Koophuis            41088.0           784.0   \n",
       "3  Vrouw               Koophuis            41088.0           784.0   \n",
       "4    Man  Thuiswonend/ Inwonend            21600.0           708.0   \n",
       "\n",
       "  SCE_ACCEPTED  SCE_ACCEPTED_OVERRIDE  SCE_MAX_AMOUNT SCE_MAX_AMOUNT_OVERRIDE  \n",
       "0          1.0                    1.0         49340.0                 49340.0  \n",
       "1          1.0                    1.0         49340.0                 49340.0  \n",
       "2          1.0                    1.0         49340.0                 49340.0  \n",
       "3          1.0                    1.0         49340.0                 49340.0  \n",
       "4          1.0                    1.0        235875.0                235875.0  \n",
       "\n",
       "[5 rows x 30 columns]"
      ]
     },
     "execution_count": 3,
     "metadata": {},
     "output_type": "execute_result"
    }
   ],
   "source": [
    "offers = pd.read_table(\"../../data/laraData/offer_events.csv\", sep=\";\")\n",
    "applications = pd.read_table(\"../../data/laraData/application_events.csv\", sep=\";\")\n",
    "# all_events = pd.read_table(\"../data/laraData/events.csv\", sep=\";\") not needed at the moment\n",
    "offers.head()"
   ]
  },
  {
   "cell_type": "markdown",
   "metadata": {},
   "source": [
    "O_SELECTED tells us whetehr an offer is accepted(1)/or refused/cancelled (0)"
   ]
  },
  {
   "cell_type": "code",
   "execution_count": 4,
   "metadata": {},
   "outputs": [
    {
     "data": {
      "text/plain": [
       "(118931, 30)"
      ]
     },
     "execution_count": 4,
     "metadata": {},
     "output_type": "execute_result"
    }
   ],
   "source": [
    "made_offers = offers[pd.notnull(offers.O_SELECTED)]\n",
    "made_offers.shape"
   ]
  },
  {
   "cell_type": "code",
   "execution_count": 5,
   "metadata": {},
   "outputs": [
    {
     "data": {
      "text/plain": [
       "33401"
      ]
     },
     "execution_count": 5,
     "metadata": {},
     "output_type": "execute_result"
    }
   ],
   "source": [
    "len(made_offers.O_ID.unique())"
   ]
  },
  {
   "cell_type": "code",
   "execution_count": 6,
   "metadata": {
    "collapsed": true
   },
   "outputs": [],
   "source": [
    "made_offers['OS_DT_CREATED'] =  pd.to_datetime(made_offers['OS_DT_CREATED'], format = \"%d/%m/%Y %H:%M:%S,%f\")\n",
    "made_offers['O_DT_CREATED'] =  pd.to_datetime(made_offers['O_DT_CREATED'], format = \"%d/%m/%Y %H:%M:%S,%f\")"
   ]
  },
  {
   "cell_type": "code",
   "execution_count": 7,
   "metadata": {
    "collapsed": true
   },
   "outputs": [],
   "source": [
    "made_offers[\"time_diff_since_created\"] =  (made_offers['O_DT_CREATED'] -\n",
    "                                             made_offers['OS_DT_CREATED']).abs()  / np.timedelta64(1, 'D')"
   ]
  },
  {
   "cell_type": "code",
   "execution_count": 8,
   "metadata": {
    "collapsed": true
   },
   "outputs": [],
   "source": [
    "made_offers = (made_offers.loc[\n",
    "    (made_offers.event == \"O_Accepted\") | \n",
    "    (made_offers.event == \"O_Refused\") |\n",
    "    ((made_offers.event == \"O_Cancelled\") & (made_offers.OS_USER_CREATED != 'USER_1'))])"
   ]
  },
  {
   "cell_type": "code",
   "execution_count": 9,
   "metadata": {},
   "outputs": [
    {
     "data": {
      "text/plain": [
       "(26310, (26310, 31))"
      ]
     },
     "execution_count": 9,
     "metadata": {},
     "output_type": "execute_result"
    }
   ],
   "source": [
    "len(made_offers.O_ID.unique()), made_offers.shape"
   ]
  },
  {
   "cell_type": "markdown",
   "metadata": {},
   "source": [
    "Features that are going to be considered:\n",
    "* Marital status (e.g. married, single, divorced, widowed)\n",
    "* Housing type (e.g. owner occupied property, rental property etc)\n",
    "* Yearly income amount (yearly) (if married and/or living together: yearly income of partners)\n",
    "* Number of children \n",
    "* Sex (Male, Female)\n",
    "* Age (2017 - birthyear)\n",
    "* <b>O_Amount</b> (offered amount by bank; does not need to be equal to request amount by applicant (but this is often the case))\n",
    "* <b>Number of terms</b> (relevant to the applicant)\n",
    "* <b>Monthly cost</b> (relevant to the applicant)\n",
    "* Percentage offered amount of year income (amount / year_income) * 100 \n",
    "* Percentage yearly cost (12 * monthly cost) of year income\n",
    "* Difference between offered amount and inital requested amount\n",
    "\n",
    "The attributes that are made bold, are attributes which the bank can vary from offer to offer (i.e. the variables of the offer). Other attributes have a relation to these attributes (e.g. last three attributes), while the other attributes is simply customer data. The hypothesis is that there are differences between (groups) of customers in the cognitive mechanisms behind the decision making process when faced with an offer."
   ]
  },
  {
   "cell_type": "markdown",
   "metadata": {},
   "source": [
    "Construct age attribute from the applicant's birthyear "
   ]
  },
  {
   "cell_type": "code",
   "execution_count": 10,
   "metadata": {
    "collapsed": true
   },
   "outputs": [],
   "source": [
    "made_offers[\"age\"]= 2017 - made_offers.BIRTHYEAR"
   ]
  },
  {
   "cell_type": "markdown",
   "metadata": {},
   "source": [
    "Percentage offered amount of year income ((offered_amount / year_income) * 100)"
   ]
  },
  {
   "cell_type": "code",
   "execution_count": 11,
   "metadata": {
    "collapsed": true
   },
   "outputs": [],
   "source": [
    "made_offers[\"percentage_amount_income\"] = (made_offers.O_AMOUNT / made_offers.INCOMEAMOUNT_YEAR) * 100"
   ]
  },
  {
   "cell_type": "markdown",
   "metadata": {},
   "source": [
    "Percentage yearly cost (12 * monthly cost) of year income"
   ]
  },
  {
   "cell_type": "code",
   "execution_count": 12,
   "metadata": {
    "collapsed": true
   },
   "outputs": [],
   "source": [
    "made_offers[\"percentage_cost_income\"] = ((made_offers.O_MONTHLY_COST * 12) / made_offers.INCOMEAMOUNT_YEAR) * 100"
   ]
  },
  {
   "cell_type": "markdown",
   "metadata": {},
   "source": [
    "Enrich offer data with application data (e.g. the applicant's initial requested amount , the application type (e.g. new credit, raise limit) and application loan goal (e.g. car, homeimprovements etc.)"
   ]
  },
  {
   "cell_type": "code",
   "execution_count": 13,
   "metadata": {
    "collapsed": true
   },
   "outputs": [],
   "source": [
    "unique_applications = applications.drop_duplicates(subset = 'A_ID')\n",
    "unique_applications = unique_applications[['A_ID', 'A_INIT_REQ_AMT', 'A_APPLICATIONTYPE_DESC', 'A_LOANGOALTYPE_DESC']]"
   ]
  },
  {
   "cell_type": "markdown",
   "metadata": {},
   "source": [
    "Enrich offer data with initial requested amount (not necesarilly equal to offered amount), application type and loan goal"
   ]
  },
  {
   "cell_type": "code",
   "execution_count": 14,
   "metadata": {
    "collapsed": true
   },
   "outputs": [],
   "source": [
    "made_offers = made_offers.merge(unique_applications, on = \"A_ID\")"
   ]
  },
  {
   "cell_type": "markdown",
   "metadata": {},
   "source": [
    "Calculate the difference between the offered amount and the initial requested amount"
   ]
  },
  {
   "cell_type": "code",
   "execution_count": 15,
   "metadata": {
    "collapsed": true
   },
   "outputs": [],
   "source": [
    "made_offers[\"diff_req_and_offered_amount\"] = abs(made_offers.A_INIT_REQ_AMT - made_offers.O_AMOUNT)"
   ]
  },
  {
   "cell_type": "markdown",
   "metadata": {},
   "source": [
    "### <font color=\"green\">Configure classification model</font>"
   ]
  },
  {
   "cell_type": "markdown",
   "metadata": {},
   "source": [
    "Target attribute (i.e. label): O_SELECTED"
   ]
  },
  {
   "cell_type": "code",
   "execution_count": 16,
   "metadata": {
    "collapsed": true
   },
   "outputs": [],
   "source": [
    "income = tf.contrib.layers.real_valued_column('INCOMEAMOUNT_YEAR')\n",
    "age = tf.contrib.layers.real_valued_column(\"age\")\n",
    "o_amount = tf.contrib.layers.real_valued_column('O_AMOUNT')\n",
    "number_of_terms = tf.contrib.layers.real_valued_column('NUMBER_OF_TERMS')\n",
    "monthly_cost = tf.contrib.layers.real_valued_column('O_MONTHLY_COST')\n",
    "diff_req_and_offered_amount = tf.contrib.layers.real_valued_column(\"diff_req_and_offered_amount\")"
   ]
  },
  {
   "cell_type": "code",
   "execution_count": 17,
   "metadata": {
    "collapsed": true
   },
   "outputs": [],
   "source": [
    "income_buckets = tf.contrib.layers.bucketized_column(income, boundaries=[0, 19982, 33791, 67072, 1250000])"
   ]
  },
  {
   "cell_type": "code",
   "execution_count": 18,
   "metadata": {
    "collapsed": true
   },
   "outputs": [],
   "source": [
    "age_buckets = tf.contrib.layers.bucketized_column(age, boundaries=[18, 23, 28, 33, 38, 42, 47, 52, 57, 65, 75])"
   ]
  },
  {
   "cell_type": "code",
   "execution_count": 19,
   "metadata": {
    "collapsed": true
   },
   "outputs": [],
   "source": [
    "loanGoal = tf.contrib.layers.sparse_column_with_keys(column_name = 'A_LOANGOALTYPE_DESC',\n",
    "                                                                       keys = ['Auto', 'Woningverbetering', 'Overname lopende leningen',\n",
    "                                                                            'Tourcaravan / camper', 'Anders, zie toelichting', 'nan',\n",
    "                                                                            'Extra Bestedingsruimte', 'Niet gespecificeerd',\n",
    "                                                                            'Restschuld woning', 'Boot', 'Motor', 'Belastingbetalingen',\n",
    "                                                                            'Zakelijk doel (no go)', 'Schuldsanering (no go)',\n",
    "                                                                            'Verbouwing aan het huis', 'verbouwing meubels/interieur',\n",
    "                                                                            'Verbouwing aan tuin', 'Zakelijk pand (no go)', 'Onderhandse lening'])\n",
    "applicationType = tf.contrib.layers.sparse_column_with_keys(column_name = 'A_APPLICATIONTYPE_DESC',\n",
    "                                                                        keys = ['Nieuw krediet', 'Limietverhoging'])\n",
    "housingType = tf.contrib.layers.sparse_column_with_keys(column_name = 'HOUSING_TYPE',\n",
    "                                                                       keys = ['Koophuis', 'Thuiswonend/ Inwonend', 'Huurhuis / Kamers'])\n",
    "gender = tf.contrib.layers.sparse_column_with_keys(column_name = 'SEX', keys = ['Man', 'Vrouw'])\n",
    "marital_status = tf.contrib.layers.sparse_column_with_keys(column_name = 'MARITAL_STATUS', keys = ['Samenwonend', 'Alleenstaand',\n",
    "                                                                                              'Gehuwd', 'Geregistreerd partnerschap'])"
   ]
  },
  {
   "cell_type": "code",
   "execution_count": 20,
   "metadata": {},
   "outputs": [
    {
     "name": "stdout",
     "output_type": "stream",
     "text": [
      "WARNING:tensorflow:The default stddev value of initializer will change from \"1/sqrt(vocab_size)\" to \"1/sqrt(dimension)\" after 2017/02/25.\n",
      "WARNING:tensorflow:The default stddev value of initializer will change from \"1/sqrt(vocab_size)\" to \"1/sqrt(dimension)\" after 2017/02/25.\n",
      "WARNING:tensorflow:The default stddev value of initializer will change from \"1/sqrt(vocab_size)\" to \"1/sqrt(dimension)\" after 2017/02/25.\n",
      "WARNING:tensorflow:The default stddev value of initializer will change from \"1/sqrt(vocab_size)\" to \"1/sqrt(dimension)\" after 2017/02/25.\n",
      "WARNING:tensorflow:The default stddev value of initializer will change from \"1/sqrt(vocab_size)\" to \"1/sqrt(dimension)\" after 2017/02/25.\n"
     ]
    }
   ],
   "source": [
    "wide_columns = [loanGoal, applicationType, housingType, gender, marital_status, age_buckets, income_buckets]\n",
    "deep_columns = [\n",
    "    tf.contrib.layers.embedding_column(loanGoal, dimension=8),\n",
    "    tf.contrib.layers.embedding_column(applicationType, dimension=8),\n",
    "    tf.contrib.layers.embedding_column(housingType, dimension=8),\n",
    "    tf.contrib.layers.embedding_column(gender, dimension=8),\n",
    "    tf.contrib.layers.embedding_column(marital_status, dimension=8),\n",
    "    income, age, o_amount, number_of_terms, monthly_cost, diff_req_and_offered_amount\n",
    "]"
   ]
  },
  {
   "cell_type": "code",
   "execution_count": 21,
   "metadata": {},
   "outputs": [
    {
     "name": "stdout",
     "output_type": "stream",
     "text": [
      "WARNING:tensorflow:From <ipython-input-21-ff5e82ff0026>:2: calling DNNLinearCombinedClassifier.__init__ (from tensorflow.contrib.learn.python.learn.estimators.dnn_linear_combined) with fix_global_step_increment_bug=False is deprecated and will be removed after 2017-04-15.\n",
      "Instructions for updating:\n",
      "Please set fix_global_step_increment_bug=True and update training steps in your pipeline. See pydoc for details.\n",
      "INFO:tensorflow:Using default config.\n",
      "WARNING:tensorflow:Using temporary folder as model directory: C:\\Users\\s158881\\AppData\\Local\\Temp\\tmp9hdipdjw\n",
      "INFO:tensorflow:Using config: {'_task_type': None, '_task_id': 0, '_cluster_spec': <tensorflow.python.training.server_lib.ClusterSpec object at 0x0000025A586C69B0>, '_master': '', '_num_ps_replicas': 0, '_num_worker_replicas': 0, '_environment': 'local', '_is_chief': True, '_evaluation_master': '', '_tf_config': gpu_options {\n",
      "  per_process_gpu_memory_fraction: 1\n",
      "}\n",
      ", '_tf_random_seed': None, '_save_summary_steps': 100, '_save_checkpoints_secs': 600, '_log_step_count_steps': 100, '_session_config': None, '_save_checkpoints_steps': None, '_keep_checkpoint_max': 5, '_keep_checkpoint_every_n_hours': 10000, '_model_dir': 'C:\\\\Users\\\\s158881\\\\AppData\\\\Local\\\\Temp\\\\tmp9hdipdjw'}\n"
     ]
    }
   ],
   "source": [
    "m = tf.contrib.learn.DNNLinearCombinedClassifier (linear_feature_columns = wide_columns,\n",
    "                                                 dnn_feature_columns = deep_columns, dnn_hidden_units = [32, 16, 32])"
   ]
  },
  {
   "cell_type": "code",
   "execution_count": 22,
   "metadata": {
    "collapsed": true
   },
   "outputs": [],
   "source": [
    "COLUMNS = ['INCOMEAMOUNT_YEAR', 'age', 'O_AMOUNT', 'NUMBER_OF_TERMS', 'O_MONTHLY_COST', 'diff_req_and_offered_amount', \n",
    "          'A_LOANGOALTYPE_DESC', 'A_APPLICATIONTYPE_DESC', 'HOUSING_TYPE', 'SEX', 'MARITAL_STATUS', 'O_SELECTED']\n",
    "LABEL = ['O_SELECTED']\n",
    "CATEGORICAL = ['A_LOANGOALTYPE_DESC', 'A_APPLICATIONTYPE_DESC', 'HOUSING_TYPE', 'SEX', 'MARITAL_STATUS']\n",
    "CONTINUOUS = ['INCOMEAMOUNT_YEAR', 'age', 'O_AMOUNT', 'NUMBER_OF_TERMS', 'O_MONTHLY_COST', 'diff_req_and_offered_amount']"
   ]
  },
  {
   "cell_type": "code",
   "execution_count": 23,
   "metadata": {},
   "outputs": [
    {
     "data": {
      "text/plain": [
       "(24603, 12)"
      ]
     },
     "execution_count": 23,
     "metadata": {},
     "output_type": "execute_result"
    }
   ],
   "source": [
    "made_offers = made_offers[['INCOMEAMOUNT_YEAR', 'age', 'O_AMOUNT', 'NUMBER_OF_TERMS', 'O_MONTHLY_COST', 'diff_req_and_offered_amount', \n",
    "          'A_LOANGOALTYPE_DESC', 'A_APPLICATIONTYPE_DESC', 'HOUSING_TYPE', 'SEX', 'MARITAL_STATUS', 'O_SELECTED']]\n",
    "made_offers = made_offers.dropna(how = \"any\")\n",
    "made_offers.shape"
   ]
  },
  {
   "cell_type": "code",
   "execution_count": 24,
   "metadata": {
    "collapsed": true
   },
   "outputs": [],
   "source": [
    "# made_offers = made_offers.apply(preprocessing.LabelEncoder().fit_transform)"
   ]
  },
  {
   "cell_type": "code",
   "execution_count": 25,
   "metadata": {
    "collapsed": true
   },
   "outputs": [],
   "source": [
    "train, test = train_test_split(made_offers, test_size = 0.2, random_state = 700)"
   ]
  },
  {
   "cell_type": "code",
   "execution_count": 26,
   "metadata": {
    "collapsed": true
   },
   "outputs": [],
   "source": [
    "def input_fn(df): #to tensor\n",
    "    continuous_cols = {k: tf.constant(df[k].values,\n",
    "                                     shape = [df[k].size, 1])\n",
    "                      for k in CONTINUOUS}\n",
    "    \n",
    "    categorical_cols = { # df[k].size = num of row\n",
    "        k: tf.SparseTensor(\n",
    "            indices=[[i,0] for i in range(df[k].size)],  \n",
    "            values=df[k].values, \n",
    "            dense_shape=[df[k].size,1]) for k in CATEGORICAL}\n",
    "    feature_cols = dict(continuous_cols)\n",
    "    feature_cols.update(categorical_cols)\n",
    "    label = tf.constant(df[LABEL].values)\n",
    "    return feature_cols, label\n",
    "def train_input_fn():\n",
    "    return input_fn(train)\n",
    "def test_input_fn():\n",
    "    return input_fn(test)"
   ]
  },
  {
   "cell_type": "code",
   "execution_count": 27,
   "metadata": {},
   "outputs": [
    {
     "name": "stdout",
     "output_type": "stream",
     "text": [
      "WARNING:tensorflow:From C:\\ProgramData\\Anaconda3\\lib\\site-packages\\tensorflow\\contrib\\learn\\python\\learn\\estimators\\head.py:642: scalar_summary (from tensorflow.python.ops.logging_ops) is deprecated and will be removed after 2016-11-30.\n",
      "Instructions for updating:\n",
      "Please switch to tf.summary.scalar. Note that tf.summary.scalar uses the node name instead of the tag. This means that TensorFlow will automatically de-duplicate summary names based on the scope they are created in. Also, passing a tensor or list of tags to a scalar summary op is no longer supported.\n",
      "WARNING:tensorflow:Casting <dtype: 'int64'> labels to bool.\n",
      "WARNING:tensorflow:Casting <dtype: 'int64'> labels to bool.\n",
      "INFO:tensorflow:Create CheckpointSaverHook.\n",
      "INFO:tensorflow:Saving checkpoints for 2 into C:\\Users\\s158881\\AppData\\Local\\Temp\\tmp9hdipdjw\\model.ckpt.\n",
      "INFO:tensorflow:loss = 618.522, step = 2\n",
      "INFO:tensorflow:global_step/sec: 21.9629\n",
      "INFO:tensorflow:global_step/sec: 23.0841\n",
      "INFO:tensorflow:loss = 1.02839, step = 202 (8.881 sec)\n",
      "INFO:tensorflow:global_step/sec: 25.0329\n",
      "INFO:tensorflow:global_step/sec: 24.1263\n",
      "INFO:tensorflow:loss = 0.658075, step = 402 (8.141 sec)\n",
      "INFO:tensorflow:global_step/sec: 24.457\n",
      "INFO:tensorflow:global_step/sec: 24.7477\n",
      "INFO:tensorflow:loss = 0.624959, step = 602 (8.130 sec)\n",
      "INFO:tensorflow:global_step/sec: 24.2081\n",
      "INFO:tensorflow:global_step/sec: 23.6636\n",
      "INFO:tensorflow:loss = 0.618828, step = 802 (8.356 sec)\n",
      "INFO:tensorflow:global_step/sec: 24.529\n",
      "INFO:tensorflow:Saving checkpoints for 1000 into C:\\Users\\s158881\\AppData\\Local\\Temp\\tmp9hdipdjw\\model.ckpt.\n",
      "INFO:tensorflow:Loss for final step: 0.615361.\n"
     ]
    },
    {
     "data": {
      "text/plain": [
       "DNNLinearCombinedClassifier(params={'head': <tensorflow.contrib.learn.python.learn.estimators.head._BinaryLogisticHead object at 0x0000025A5BEB6E10>, 'linear_feature_columns': (_SparseColumnKeys(column_name='A_LOANGOALTYPE_DESC', is_integerized=False, bucket_size=None, lookup_config=_SparseIdLookupConfig(vocabulary_file=None, keys=('Auto', 'Woningverbetering', 'Overname lopende leningen', 'Tourcaravan / camper', 'Anders, zie toelichting', 'nan', 'Extra Bestedingsruimte', 'Niet gespecificeerd', 'Restschuld woning', 'Boot', 'Motor', 'Belastingbetalingen', 'Zakelijk doel (no go)', 'Schuldsanering (no go)', 'Verbouwing aan het huis', 'verbouwing meubels/interieur', 'Verbouwing aan tuin', 'Zakelijk pand (no go)', 'Onderhandse lening'), num_oov_buckets=0, vocab_size=19, default_value=-1), combiner='sum', dtype=tf.string), _SparseColumnKeys(column_name='A_APPLICATIONTYPE_DESC', is_integerized=False, bucket_size=None, lookup_config=_SparseIdLookupConfig(vocabulary_file=None, keys=('Nieuw krediet', 'Limietverhoging'), num_oov_buckets=0, vocab_size=2, default_value=-1), combiner='sum', dtype=tf.string), _SparseColumnKeys(column_name='HOUSING_TYPE', is_integerized=False, bucket_size=None, lookup_config=_SparseIdLookupConfig(vocabulary_file=None, keys=('Koophuis', 'Thuiswonend/ Inwonend', 'Huurhuis / Kamers'), num_oov_buckets=0, vocab_size=3, default_value=-1), combiner='sum', dtype=tf.string), _SparseColumnKeys(column_name='SEX', is_integerized=False, bucket_size=None, lookup_config=_SparseIdLookupConfig(vocabulary_file=None, keys=('Man', 'Vrouw'), num_oov_buckets=0, vocab_size=2, default_value=-1), combiner='sum', dtype=tf.string), _SparseColumnKeys(column_name='MARITAL_STATUS', is_integerized=False, bucket_size=None, lookup_config=_SparseIdLookupConfig(vocabulary_file=None, keys=('Samenwonend', 'Alleenstaand', 'Gehuwd', 'Geregistreerd partnerschap'), num_oov_buckets=0, vocab_size=4, default_value=-1), combiner='sum', dtype=tf.string), _BucketizedColumn(source_column=_RealValuedColumn(column_name='age', dimension=1, default_value=None, dtype=tf.float32, normalizer=None), boundaries=(18, 23, 28, 33, 38, 42, 47, 52, 57, 65, 75)), _BucketizedColumn(source_column=_RealValuedColumn(column_name='INCOMEAMOUNT_YEAR', dimension=1, default_value=None, dtype=tf.float32, normalizer=None), boundaries=(0, 19982, 33791, 67072, 1250000))), 'linear_optimizer': None, 'joint_linear_weights': False, 'dnn_feature_columns': (_EmbeddingColumn(sparse_id_column=_SparseColumnKeys(column_name='A_LOANGOALTYPE_DESC', is_integerized=False, bucket_size=None, lookup_config=_SparseIdLookupConfig(vocabulary_file=None, keys=('Auto', 'Woningverbetering', 'Overname lopende leningen', 'Tourcaravan / camper', 'Anders, zie toelichting', 'nan', 'Extra Bestedingsruimte', 'Niet gespecificeerd', 'Restschuld woning', 'Boot', 'Motor', 'Belastingbetalingen', 'Zakelijk doel (no go)', 'Schuldsanering (no go)', 'Verbouwing aan het huis', 'verbouwing meubels/interieur', 'Verbouwing aan tuin', 'Zakelijk pand (no go)', 'Onderhandse lening'), num_oov_buckets=0, vocab_size=19, default_value=-1), combiner='sum', dtype=tf.string), dimension=8, combiner='mean', initializer=<tensorflow.python.ops.init_ops.TruncatedNormal object at 0x0000025A60426DA0>, ckpt_to_load_from=None, tensor_name_in_ckpt=None, shared_embedding_name=None, shared_vocab_size=None, max_norm=None, trainable=True), _EmbeddingColumn(sparse_id_column=_SparseColumnKeys(column_name='A_APPLICATIONTYPE_DESC', is_integerized=False, bucket_size=None, lookup_config=_SparseIdLookupConfig(vocabulary_file=None, keys=('Nieuw krediet', 'Limietverhoging'), num_oov_buckets=0, vocab_size=2, default_value=-1), combiner='sum', dtype=tf.string), dimension=8, combiner='mean', initializer=<tensorflow.python.ops.init_ops.TruncatedNormal object at 0x0000025A60426C18>, ckpt_to_load_from=None, tensor_name_in_ckpt=None, shared_embedding_name=None, shared_vocab_size=None, max_norm=None, trainable=True), _EmbeddingColumn(sparse_id_column=_SparseColumnKeys(column_name='HOUSING_TYPE', is_integerized=False, bucket_size=None, lookup_config=_SparseIdLookupConfig(vocabulary_file=None, keys=('Koophuis', 'Thuiswonend/ Inwonend', 'Huurhuis / Kamers'), num_oov_buckets=0, vocab_size=3, default_value=-1), combiner='sum', dtype=tf.string), dimension=8, combiner='mean', initializer=<tensorflow.python.ops.init_ops.TruncatedNormal object at 0x0000025A60426F60>, ckpt_to_load_from=None, tensor_name_in_ckpt=None, shared_embedding_name=None, shared_vocab_size=None, max_norm=None, trainable=True), _EmbeddingColumn(sparse_id_column=_SparseColumnKeys(column_name='SEX', is_integerized=False, bucket_size=None, lookup_config=_SparseIdLookupConfig(vocabulary_file=None, keys=('Man', 'Vrouw'), num_oov_buckets=0, vocab_size=2, default_value=-1), combiner='sum', dtype=tf.string), dimension=8, combiner='mean', initializer=<tensorflow.python.ops.init_ops.TruncatedNormal object at 0x0000025A60426EF0>, ckpt_to_load_from=None, tensor_name_in_ckpt=None, shared_embedding_name=None, shared_vocab_size=None, max_norm=None, trainable=True), _EmbeddingColumn(sparse_id_column=_SparseColumnKeys(column_name='MARITAL_STATUS', is_integerized=False, bucket_size=None, lookup_config=_SparseIdLookupConfig(vocabulary_file=None, keys=('Samenwonend', 'Alleenstaand', 'Gehuwd', 'Geregistreerd partnerschap'), num_oov_buckets=0, vocab_size=4, default_value=-1), combiner='sum', dtype=tf.string), dimension=8, combiner='mean', initializer=<tensorflow.python.ops.init_ops.TruncatedNormal object at 0x0000025A60426DD8>, ckpt_to_load_from=None, tensor_name_in_ckpt=None, shared_embedding_name=None, shared_vocab_size=None, max_norm=None, trainable=True), _RealValuedColumn(column_name='INCOMEAMOUNT_YEAR', dimension=1, default_value=None, dtype=tf.float32, normalizer=None), _RealValuedColumn(column_name='age', dimension=1, default_value=None, dtype=tf.float32, normalizer=None), _RealValuedColumn(column_name='O_AMOUNT', dimension=1, default_value=None, dtype=tf.float32, normalizer=None), _RealValuedColumn(column_name='NUMBER_OF_TERMS', dimension=1, default_value=None, dtype=tf.float32, normalizer=None), _RealValuedColumn(column_name='O_MONTHLY_COST', dimension=1, default_value=None, dtype=tf.float32, normalizer=None), _RealValuedColumn(column_name='diff_req_and_offered_amount', dimension=1, default_value=None, dtype=tf.float32, normalizer=None)), 'dnn_optimizer': None, 'dnn_hidden_units': [32, 16, 32], 'dnn_activation_fn': <function relu at 0x0000025A5447AB70>, 'dnn_dropout': None, 'gradient_clip_norm': None, 'embedding_lr_multipliers': None, 'input_layer_partitioner': None, 'fix_global_step_increment_bug': False})"
      ]
     },
     "execution_count": 27,
     "metadata": {},
     "output_type": "execute_result"
    }
   ],
   "source": [
    "m.fit(input_fn = train_input_fn, steps = 1000)"
   ]
  },
  {
   "cell_type": "code",
   "execution_count": 28,
   "metadata": {},
   "outputs": [
    {
     "name": "stdout",
     "output_type": "stream",
     "text": [
      "WARNING:tensorflow:From C:\\ProgramData\\Anaconda3\\lib\\site-packages\\tensorflow\\contrib\\learn\\python\\learn\\estimators\\head.py:642: scalar_summary (from tensorflow.python.ops.logging_ops) is deprecated and will be removed after 2016-11-30.\n",
      "Instructions for updating:\n",
      "Please switch to tf.summary.scalar. Note that tf.summary.scalar uses the node name instead of the tag. This means that TensorFlow will automatically de-duplicate summary names based on the scope they are created in. Also, passing a tensor or list of tags to a scalar summary op is no longer supported.\n",
      "WARNING:tensorflow:Casting <dtype: 'int64'> labels to bool.\n",
      "WARNING:tensorflow:Casting <dtype: 'int64'> labels to bool.\n",
      "INFO:tensorflow:Starting evaluation at 2017-12-11-13:35:57\n",
      "INFO:tensorflow:Restoring parameters from C:\\Users\\s158881\\AppData\\Local\\Temp\\tmp9hdipdjw\\model.ckpt-1000\n",
      "INFO:tensorflow:Evaluation [1/1]\n",
      "INFO:tensorflow:Finished evaluation at 2017-12-11-13:35:59\n",
      "INFO:tensorflow:Saving dict for global step 1000: accuracy = 0.678927, accuracy/baseline_label_mean = 0.681162, accuracy/threshold_0.500000_mean = 0.678927, auc = 0.547812, auc_precision_recall = 0.726101, global_step = 1000, labels/actual_label_mean = 0.681162, labels/prediction_mean = 0.683432, loss = 0.776906, precision/positive_threshold_0.500000_mean = 0.681186, recall/positive_threshold_0.500000_mean = 0.993735\n",
      "Term0, accuracy: 0.678927\n",
      "Term1, accuracy/baseline_label_mean: 0.681162\n",
      "Term2, accuracy/threshold_0.500000_mean: 0.678927\n",
      "Term3, auc: 0.547812\n",
      "Term4, auc_precision_recall: 0.726101\n",
      "Term5, global_step: 1000\n",
      "Term6, labels/actual_label_mean: 0.681162\n",
      "Term7, labels/prediction_mean: 0.683432\n",
      "Term8, loss: 0.776906\n",
      "Term9, precision/positive_threshold_0.500000_mean: 0.681186\n",
      "Term10, recall/positive_threshold_0.500000_mean: 0.993735\n"
     ]
    }
   ],
   "source": [
    "result = m.evaluate(input_fn=test_input_fn, steps=1)\n",
    "for i, key in enumerate(sorted(result)):\n",
    "    print (\"Term%d, %s: %s\" %(i,key, result[key]))"
   ]
  }
 ],
 "metadata": {
  "kernelspec": {
   "display_name": "Python 3",
   "language": "python",
   "name": "python3"
  },
  "language_info": {
   "codemirror_mode": {
    "name": "ipython",
    "version": 3
   },
   "file_extension": ".py",
   "mimetype": "text/x-python",
   "name": "python",
   "nbconvert_exporter": "python",
   "pygments_lexer": "ipython3",
   "version": "3.6.3"
  }
 },
 "nbformat": 4,
 "nbformat_minor": 2
}
