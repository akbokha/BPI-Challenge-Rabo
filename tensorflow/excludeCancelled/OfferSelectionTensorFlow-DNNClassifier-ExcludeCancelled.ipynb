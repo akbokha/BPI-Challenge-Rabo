{
 "cells": [
  {
   "cell_type": "markdown",
   "metadata": {},
   "source": [
    "### <font color=\"darkblue\"><i>A predictive model which tries to predict whether customers will accept a loan offer or not. The model uses only features that will be known at the time of sending an offer. Once the performance metrics of the model have been assessed and the performance (e.g. accuracy) is evaluated to be adequate enough, the model can be used by employees before sending the actual offers. If the model predicts that the offer will not be accepted (i.e. will be refused and/or cancelled) with a high probability, the employee can chose to change the offer and/or not send an offer / send multiple offers. This can reduce the company's overhead/resources in the offer sending process.</i></font>"
   ]
  },
  {
   "cell_type": "markdown",
   "metadata": {},
   "source": [
    "### <font color=\"green\">imports, preparation and configuration</font>"
   ]
  },
  {
   "cell_type": "code",
   "execution_count": 1,
   "metadata": {
    "collapsed": true
   },
   "outputs": [],
   "source": [
    "import tensorflow as tf\n",
    "import pandas as pd\n",
    "import numpy as np\n",
    "import seaborn as sns\n",
    "from sklearn.model_selection import train_test_split\n",
    "from sklearn import preprocessing, metrics\n",
    "from sklearn.pipeline import Pipeline\n",
    "import matplotlib.pyplot as plt\n",
    "%matplotlib inline"
   ]
  },
  {
   "cell_type": "code",
   "execution_count": 2,
   "metadata": {},
   "outputs": [
    {
     "data": {
      "text/html": [
       "<script>\n",
       "code_show_err=false; \n",
       "function code_toggle_err() {\n",
       " if (code_show_err){\n",
       " $('div.output_stderr').hide();\n",
       " } else {\n",
       " $('div.output_stderr').show();\n",
       " }\n",
       " code_show_err = !code_show_err\n",
       "} \n",
       "$( document ).ready(code_toggle_err);\n",
       "</script>\n",
       "To toggle on/off output_stderr, click <a href=\"javascript:code_toggle_err()\">here</a>."
      ],
      "text/plain": [
       "<IPython.core.display.HTML object>"
      ]
     },
     "execution_count": 2,
     "metadata": {},
     "output_type": "execute_result"
    }
   ],
   "source": [
    "from IPython.display import HTML\n",
    "HTML('''<script>\n",
    "code_show_err=false; \n",
    "function code_toggle_err() {\n",
    " if (code_show_err){\n",
    " $('div.output_stderr').hide();\n",
    " } else {\n",
    " $('div.output_stderr').show();\n",
    " }\n",
    " code_show_err = !code_show_err\n",
    "} \n",
    "$( document ).ready(code_toggle_err);\n",
    "</script>\n",
    "To toggle on/off output_stderr, click <a href=\"javascript:code_toggle_err()\">here</a>.''')"
   ]
  },
  {
   "cell_type": "code",
   "execution_count": 3,
   "metadata": {},
   "outputs": [
    {
     "data": {
      "text/html": [
       "<div>\n",
       "<style scoped>\n",
       "    .dataframe tbody tr th:only-of-type {\n",
       "        vertical-align: middle;\n",
       "    }\n",
       "\n",
       "    .dataframe tbody tr th {\n",
       "        vertical-align: top;\n",
       "    }\n",
       "\n",
       "    .dataframe thead th {\n",
       "        text-align: right;\n",
       "    }\n",
       "</style>\n",
       "<table border=\"1\" class=\"dataframe\">\n",
       "  <thead>\n",
       "    <tr style=\"text-align: right;\">\n",
       "      <th></th>\n",
       "      <th>A_ID</th>\n",
       "      <th>A_DT_CREATED</th>\n",
       "      <th>A_INIT_REQ_AMT</th>\n",
       "      <th>A_USER_CREATED</th>\n",
       "      <th>A_APPLICATIONTYPE</th>\n",
       "      <th>A_APPLICATIONTYPE_DESC</th>\n",
       "      <th>A_LOANGOALTYPE</th>\n",
       "      <th>A_LOANGOALTYPE_DESC</th>\n",
       "      <th>AS_ID</th>\n",
       "      <th>AS_APPLICATIONSTATE</th>\n",
       "      <th>...</th>\n",
       "      <th>NUMBER_OF_CHILDREN</th>\n",
       "      <th>MARITAL_STATUS</th>\n",
       "      <th>SEX</th>\n",
       "      <th>HOUSING_TYPE</th>\n",
       "      <th>SCE_CREDITSCORE</th>\n",
       "      <th>SCE_ACCEPTED</th>\n",
       "      <th>SCE_ACCEPTED_OVERRIDE</th>\n",
       "      <th>SCE_MAX_AMOUNT</th>\n",
       "      <th>SCE_MAX_AMOUNT_OVERRIDE</th>\n",
       "      <th>INCOMEAMOUNT_YEAR</th>\n",
       "    </tr>\n",
       "  </thead>\n",
       "  <tbody>\n",
       "    <tr>\n",
       "      <th>0</th>\n",
       "      <td>719696</td>\n",
       "      <td>1/1/2017 2:42:29,064000</td>\n",
       "      <td>29000.0</td>\n",
       "      <td>USER_1</td>\n",
       "      <td>520</td>\n",
       "      <td>Nieuw krediet</td>\n",
       "      <td>866.0</td>\n",
       "      <td>Auto</td>\n",
       "      <td>1453642</td>\n",
       "      <td>511</td>\n",
       "      <td>...</td>\n",
       "      <td>0.0</td>\n",
       "      <td>Samenwonend</td>\n",
       "      <td>Vrouw</td>\n",
       "      <td>Koophuis</td>\n",
       "      <td>784.0</td>\n",
       "      <td>1.0</td>\n",
       "      <td>1.0</td>\n",
       "      <td>49340.0</td>\n",
       "      <td>49340.0</td>\n",
       "      <td>41088.0</td>\n",
       "    </tr>\n",
       "    <tr>\n",
       "      <th>1</th>\n",
       "      <td>719696</td>\n",
       "      <td>1/1/2017 2:42:29,064000</td>\n",
       "      <td>29000.0</td>\n",
       "      <td>USER_1</td>\n",
       "      <td>520</td>\n",
       "      <td>Nieuw krediet</td>\n",
       "      <td>866.0</td>\n",
       "      <td>Auto</td>\n",
       "      <td>1454067</td>\n",
       "      <td>513</td>\n",
       "      <td>...</td>\n",
       "      <td>0.0</td>\n",
       "      <td>Samenwonend</td>\n",
       "      <td>Vrouw</td>\n",
       "      <td>Koophuis</td>\n",
       "      <td>784.0</td>\n",
       "      <td>1.0</td>\n",
       "      <td>1.0</td>\n",
       "      <td>49340.0</td>\n",
       "      <td>49340.0</td>\n",
       "      <td>41088.0</td>\n",
       "    </tr>\n",
       "    <tr>\n",
       "      <th>2</th>\n",
       "      <td>719696</td>\n",
       "      <td>1/1/2017 2:42:29,064000</td>\n",
       "      <td>29000.0</td>\n",
       "      <td>USER_1</td>\n",
       "      <td>520</td>\n",
       "      <td>Nieuw krediet</td>\n",
       "      <td>866.0</td>\n",
       "      <td>Auto</td>\n",
       "      <td>1458788</td>\n",
       "      <td>517</td>\n",
       "      <td>...</td>\n",
       "      <td>0.0</td>\n",
       "      <td>Samenwonend</td>\n",
       "      <td>Vrouw</td>\n",
       "      <td>Koophuis</td>\n",
       "      <td>784.0</td>\n",
       "      <td>1.0</td>\n",
       "      <td>1.0</td>\n",
       "      <td>49340.0</td>\n",
       "      <td>49340.0</td>\n",
       "      <td>41088.0</td>\n",
       "    </tr>\n",
       "    <tr>\n",
       "      <th>3</th>\n",
       "      <td>719696</td>\n",
       "      <td>1/1/2017 2:42:29,064000</td>\n",
       "      <td>29000.0</td>\n",
       "      <td>USER_1</td>\n",
       "      <td>520</td>\n",
       "      <td>Nieuw krediet</td>\n",
       "      <td>866.0</td>\n",
       "      <td>Auto</td>\n",
       "      <td>1456650</td>\n",
       "      <td>516</td>\n",
       "      <td>...</td>\n",
       "      <td>0.0</td>\n",
       "      <td>Samenwonend</td>\n",
       "      <td>Vrouw</td>\n",
       "      <td>Koophuis</td>\n",
       "      <td>784.0</td>\n",
       "      <td>1.0</td>\n",
       "      <td>1.0</td>\n",
       "      <td>49340.0</td>\n",
       "      <td>49340.0</td>\n",
       "      <td>41088.0</td>\n",
       "    </tr>\n",
       "    <tr>\n",
       "      <th>4</th>\n",
       "      <td>719696</td>\n",
       "      <td>1/1/2017 2:42:29,064000</td>\n",
       "      <td>29000.0</td>\n",
       "      <td>USER_1</td>\n",
       "      <td>520</td>\n",
       "      <td>Nieuw krediet</td>\n",
       "      <td>866.0</td>\n",
       "      <td>Auto</td>\n",
       "      <td>1453643</td>\n",
       "      <td>512</td>\n",
       "      <td>...</td>\n",
       "      <td>0.0</td>\n",
       "      <td>Samenwonend</td>\n",
       "      <td>Vrouw</td>\n",
       "      <td>Koophuis</td>\n",
       "      <td>784.0</td>\n",
       "      <td>1.0</td>\n",
       "      <td>1.0</td>\n",
       "      <td>49340.0</td>\n",
       "      <td>49340.0</td>\n",
       "      <td>41088.0</td>\n",
       "    </tr>\n",
       "  </tbody>\n",
       "</table>\n",
       "<p>5 rows × 27 columns</p>\n",
       "</div>"
      ],
      "text/plain": [
       "     A_ID             A_DT_CREATED  A_INIT_REQ_AMT A_USER_CREATED  \\\n",
       "0  719696  1/1/2017 2:42:29,064000         29000.0         USER_1   \n",
       "1  719696  1/1/2017 2:42:29,064000         29000.0         USER_1   \n",
       "2  719696  1/1/2017 2:42:29,064000         29000.0         USER_1   \n",
       "3  719696  1/1/2017 2:42:29,064000         29000.0         USER_1   \n",
       "4  719696  1/1/2017 2:42:29,064000         29000.0         USER_1   \n",
       "\n",
       "   A_APPLICATIONTYPE A_APPLICATIONTYPE_DESC  A_LOANGOALTYPE  \\\n",
       "0                520          Nieuw krediet           866.0   \n",
       "1                520          Nieuw krediet           866.0   \n",
       "2                520          Nieuw krediet           866.0   \n",
       "3                520          Nieuw krediet           866.0   \n",
       "4                520          Nieuw krediet           866.0   \n",
       "\n",
       "  A_LOANGOALTYPE_DESC    AS_ID  AS_APPLICATIONSTATE        ...         \\\n",
       "0                Auto  1453642                  511        ...          \n",
       "1                Auto  1454067                  513        ...          \n",
       "2                Auto  1458788                  517        ...          \n",
       "3                Auto  1456650                  516        ...          \n",
       "4                Auto  1453643                  512        ...          \n",
       "\n",
       "  NUMBER_OF_CHILDREN MARITAL_STATUS    SEX HOUSING_TYPE  SCE_CREDITSCORE  \\\n",
       "0                0.0    Samenwonend  Vrouw     Koophuis            784.0   \n",
       "1                0.0    Samenwonend  Vrouw     Koophuis            784.0   \n",
       "2                0.0    Samenwonend  Vrouw     Koophuis            784.0   \n",
       "3                0.0    Samenwonend  Vrouw     Koophuis            784.0   \n",
       "4                0.0    Samenwonend  Vrouw     Koophuis            784.0   \n",
       "\n",
       "   SCE_ACCEPTED SCE_ACCEPTED_OVERRIDE  SCE_MAX_AMOUNT SCE_MAX_AMOUNT_OVERRIDE  \\\n",
       "0           1.0                   1.0         49340.0                 49340.0   \n",
       "1           1.0                   1.0         49340.0                 49340.0   \n",
       "2           1.0                   1.0         49340.0                 49340.0   \n",
       "3           1.0                   1.0         49340.0                 49340.0   \n",
       "4           1.0                   1.0         49340.0                 49340.0   \n",
       "\n",
       "  INCOMEAMOUNT_YEAR  \n",
       "0           41088.0  \n",
       "1           41088.0  \n",
       "2           41088.0  \n",
       "3           41088.0  \n",
       "4           41088.0  \n",
       "\n",
       "[5 rows x 27 columns]"
      ]
     },
     "execution_count": 3,
     "metadata": {},
     "output_type": "execute_result"
    }
   ],
   "source": [
    "offers = pd.read_table(\"../data/laraData/offer_events.csv\", sep=\";\")\n",
    "applications = pd.read_table(\"../data/laraData/application_events.csv\", sep=\";\")\n",
    "# all_events = pd.read_table(\"../data/laraData/events.csv\", sep=\";\") not needed at the moment\n",
    "applications.head()"
   ]
  },
  {
   "cell_type": "code",
   "execution_count": 4,
   "metadata": {},
   "outputs": [
    {
     "data": {
      "text/html": [
       "<div>\n",
       "<style scoped>\n",
       "    .dataframe tbody tr th:only-of-type {\n",
       "        vertical-align: middle;\n",
       "    }\n",
       "\n",
       "    .dataframe tbody tr th {\n",
       "        vertical-align: top;\n",
       "    }\n",
       "\n",
       "    .dataframe thead th {\n",
       "        text-align: right;\n",
       "    }\n",
       "</style>\n",
       "<table border=\"1\" class=\"dataframe\">\n",
       "  <thead>\n",
       "    <tr style=\"text-align: right;\">\n",
       "      <th></th>\n",
       "      <th>A_ID</th>\n",
       "      <th>O_ID</th>\n",
       "      <th>O_SCENARIO</th>\n",
       "      <th>O_DT_CREATED</th>\n",
       "      <th>O_AMOUNT</th>\n",
       "      <th>O_CREDITSCORE</th>\n",
       "      <th>O_FIRST_WITHDRAWL_AMOUNT</th>\n",
       "      <th>NUMBER_OF_TERMS</th>\n",
       "      <th>O_MONTHLY_COST</th>\n",
       "      <th>O_ACCEPTED</th>\n",
       "      <th>...</th>\n",
       "      <th>NUMBER_OF_CHILDREN</th>\n",
       "      <th>MARITAL_STATUS</th>\n",
       "      <th>SEX</th>\n",
       "      <th>HOUSING_TYPE</th>\n",
       "      <th>INCOMEAMOUNT_YEAR</th>\n",
       "      <th>SCE_CREDITSCORE</th>\n",
       "      <th>SCE_ACCEPTED</th>\n",
       "      <th>SCE_ACCEPTED_OVERRIDE</th>\n",
       "      <th>SCE_MAX_AMOUNT</th>\n",
       "      <th>SCE_MAX_AMOUNT_OVERRIDE</th>\n",
       "    </tr>\n",
       "  </thead>\n",
       "  <tbody>\n",
       "    <tr>\n",
       "      <th>0</th>\n",
       "      <td>719696</td>\n",
       "      <td>210708</td>\n",
       "      <td>1367858</td>\n",
       "      <td>2/1/2017 10:38:26,536000</td>\n",
       "      <td>29000.0</td>\n",
       "      <td>784.0</td>\n",
       "      <td>26604.0</td>\n",
       "      <td>120</td>\n",
       "      <td>29529</td>\n",
       "      <td>1</td>\n",
       "      <td>...</td>\n",
       "      <td>0</td>\n",
       "      <td>Samenwonend</td>\n",
       "      <td>Vrouw</td>\n",
       "      <td>Koophuis</td>\n",
       "      <td>41088.0</td>\n",
       "      <td>784.0</td>\n",
       "      <td>1.0</td>\n",
       "      <td>1.0</td>\n",
       "      <td>49340.0</td>\n",
       "      <td>49340.0</td>\n",
       "    </tr>\n",
       "    <tr>\n",
       "      <th>1</th>\n",
       "      <td>719696</td>\n",
       "      <td>210708</td>\n",
       "      <td>1367858</td>\n",
       "      <td>2/1/2017 10:38:26,536000</td>\n",
       "      <td>29000.0</td>\n",
       "      <td>784.0</td>\n",
       "      <td>26604.0</td>\n",
       "      <td>120</td>\n",
       "      <td>29529</td>\n",
       "      <td>1</td>\n",
       "      <td>...</td>\n",
       "      <td>0</td>\n",
       "      <td>Samenwonend</td>\n",
       "      <td>Vrouw</td>\n",
       "      <td>Koophuis</td>\n",
       "      <td>41088.0</td>\n",
       "      <td>784.0</td>\n",
       "      <td>1.0</td>\n",
       "      <td>1.0</td>\n",
       "      <td>49340.0</td>\n",
       "      <td>49340.0</td>\n",
       "    </tr>\n",
       "    <tr>\n",
       "      <th>2</th>\n",
       "      <td>719696</td>\n",
       "      <td>210708</td>\n",
       "      <td>1367858</td>\n",
       "      <td>2/1/2017 10:38:26,536000</td>\n",
       "      <td>29000.0</td>\n",
       "      <td>784.0</td>\n",
       "      <td>26604.0</td>\n",
       "      <td>120</td>\n",
       "      <td>29529</td>\n",
       "      <td>1</td>\n",
       "      <td>...</td>\n",
       "      <td>0</td>\n",
       "      <td>Samenwonend</td>\n",
       "      <td>Vrouw</td>\n",
       "      <td>Koophuis</td>\n",
       "      <td>41088.0</td>\n",
       "      <td>784.0</td>\n",
       "      <td>1.0</td>\n",
       "      <td>1.0</td>\n",
       "      <td>49340.0</td>\n",
       "      <td>49340.0</td>\n",
       "    </tr>\n",
       "    <tr>\n",
       "      <th>3</th>\n",
       "      <td>719696</td>\n",
       "      <td>210708</td>\n",
       "      <td>1367858</td>\n",
       "      <td>2/1/2017 10:38:26,536000</td>\n",
       "      <td>29000.0</td>\n",
       "      <td>784.0</td>\n",
       "      <td>26604.0</td>\n",
       "      <td>120</td>\n",
       "      <td>29529</td>\n",
       "      <td>1</td>\n",
       "      <td>...</td>\n",
       "      <td>0</td>\n",
       "      <td>Samenwonend</td>\n",
       "      <td>Vrouw</td>\n",
       "      <td>Koophuis</td>\n",
       "      <td>41088.0</td>\n",
       "      <td>784.0</td>\n",
       "      <td>1.0</td>\n",
       "      <td>1.0</td>\n",
       "      <td>49340.0</td>\n",
       "      <td>49340.0</td>\n",
       "    </tr>\n",
       "    <tr>\n",
       "      <th>4</th>\n",
       "      <td>719697</td>\n",
       "      <td>210793</td>\n",
       "      <td>1367861</td>\n",
       "      <td>2/1/2017 16:08:07,608000</td>\n",
       "      <td>10000.0</td>\n",
       "      <td>NaN</td>\n",
       "      <td>10000.0</td>\n",
       "      <td>44</td>\n",
       "      <td>24958</td>\n",
       "      <td>1</td>\n",
       "      <td>...</td>\n",
       "      <td>0</td>\n",
       "      <td>Alleenstaand</td>\n",
       "      <td>Man</td>\n",
       "      <td>Thuiswonend/ Inwonend</td>\n",
       "      <td>21600.0</td>\n",
       "      <td>708.0</td>\n",
       "      <td>1.0</td>\n",
       "      <td>1.0</td>\n",
       "      <td>235875.0</td>\n",
       "      <td>235875.0</td>\n",
       "    </tr>\n",
       "  </tbody>\n",
       "</table>\n",
       "<p>5 rows × 30 columns</p>\n",
       "</div>"
      ],
      "text/plain": [
       "     A_ID    O_ID  O_SCENARIO              O_DT_CREATED  O_AMOUNT  \\\n",
       "0  719696  210708     1367858  2/1/2017 10:38:26,536000   29000.0   \n",
       "1  719696  210708     1367858  2/1/2017 10:38:26,536000   29000.0   \n",
       "2  719696  210708     1367858  2/1/2017 10:38:26,536000   29000.0   \n",
       "3  719696  210708     1367858  2/1/2017 10:38:26,536000   29000.0   \n",
       "4  719697  210793     1367861  2/1/2017 16:08:07,608000   10000.0   \n",
       "\n",
       "   O_CREDITSCORE  O_FIRST_WITHDRAWL_AMOUNT  NUMBER_OF_TERMS  O_MONTHLY_COST  \\\n",
       "0          784.0                   26604.0              120           29529   \n",
       "1          784.0                   26604.0              120           29529   \n",
       "2          784.0                   26604.0              120           29529   \n",
       "3          784.0                   26604.0              120           29529   \n",
       "4            NaN                   10000.0               44           24958   \n",
       "\n",
       "   O_ACCEPTED           ...            NUMBER_OF_CHILDREN  MARITAL_STATUS  \\\n",
       "0           1           ...                             0     Samenwonend   \n",
       "1           1           ...                             0     Samenwonend   \n",
       "2           1           ...                             0     Samenwonend   \n",
       "3           1           ...                             0     Samenwonend   \n",
       "4           1           ...                             0    Alleenstaand   \n",
       "\n",
       "     SEX           HOUSING_TYPE  INCOMEAMOUNT_YEAR SCE_CREDITSCORE  \\\n",
       "0  Vrouw               Koophuis            41088.0           784.0   \n",
       "1  Vrouw               Koophuis            41088.0           784.0   \n",
       "2  Vrouw               Koophuis            41088.0           784.0   \n",
       "3  Vrouw               Koophuis            41088.0           784.0   \n",
       "4    Man  Thuiswonend/ Inwonend            21600.0           708.0   \n",
       "\n",
       "  SCE_ACCEPTED  SCE_ACCEPTED_OVERRIDE  SCE_MAX_AMOUNT SCE_MAX_AMOUNT_OVERRIDE  \n",
       "0          1.0                    1.0         49340.0                 49340.0  \n",
       "1          1.0                    1.0         49340.0                 49340.0  \n",
       "2          1.0                    1.0         49340.0                 49340.0  \n",
       "3          1.0                    1.0         49340.0                 49340.0  \n",
       "4          1.0                    1.0        235875.0                235875.0  \n",
       "\n",
       "[5 rows x 30 columns]"
      ]
     },
     "execution_count": 4,
     "metadata": {},
     "output_type": "execute_result"
    }
   ],
   "source": [
    "offers.head()"
   ]
  },
  {
   "cell_type": "markdown",
   "metadata": {},
   "source": [
    "O_SELECTED tells us whetehr an offer is accepted(1)/or refused/cancelled (0)"
   ]
  },
  {
   "cell_type": "code",
   "execution_count": 5,
   "metadata": {},
   "outputs": [
    {
     "data": {
      "text/plain": [
       "(118931, 30)"
      ]
     },
     "execution_count": 5,
     "metadata": {},
     "output_type": "execute_result"
    }
   ],
   "source": [
    "made_offers = offers[pd.notnull(offers.O_SELECTED)]\n",
    "made_offers.shape"
   ]
  },
  {
   "cell_type": "code",
   "execution_count": 6,
   "metadata": {},
   "outputs": [
    {
     "data": {
      "text/plain": [
       "<matplotlib.axes._subplots.AxesSubplot at 0x156c208b438>"
      ]
     },
     "execution_count": 6,
     "metadata": {},
     "output_type": "execute_result"
    },
    {
     "data": {
      "image/png": "[encoded data removed]",
      "text/plain": [
       "<matplotlib.figure.Figure at 0x156cacc2d30>"
      ]
     },
     "metadata": {},
     "output_type": "display_data"
    }
   ],
   "source": [
    "made_offers.OS_OFFERSTATE_DESC.hist()"
   ]
  },
  {
   "cell_type": "code",
   "execution_count": 7,
   "metadata": {},
   "outputs": [
    {
     "data": {
      "text/plain": [
       "33401"
      ]
     },
     "execution_count": 7,
     "metadata": {},
     "output_type": "execute_result"
    }
   ],
   "source": [
    "len(made_offers.O_ID.unique())"
   ]
  },
  {
   "cell_type": "code",
   "execution_count": 8,
   "metadata": {
    "collapsed": true
   },
   "outputs": [],
   "source": [
    "cancelled = made_offers.copy()"
   ]
  },
  {
   "cell_type": "code",
   "execution_count": 9,
   "metadata": {
    "collapsed": true
   },
   "outputs": [],
   "source": [
    "are_cancelled = cancelled[cancelled.event == 'O_Cancelled'].O_ID.unique()"
   ]
  },
  {
   "cell_type": "code",
   "execution_count": 10,
   "metadata": {
    "collapsed": true
   },
   "outputs": [],
   "source": [
    "cancelled[\"is_cancelled\"] = np.nan\n",
    "cancelled[\"is_cancelled\"] = cancelled[cancelled.O_ID.isin(are_cancelled)]\n",
    "cancelled.loc[(cancelled['is_cancelled'] > 0), 'is_cancelled'] = True\n",
    "cancelled[['is_cancelled']] = cancelled[['is_cancelled']].fillna(value = False)"
   ]
  },
  {
   "cell_type": "code",
   "execution_count": 11,
   "metadata": {},
   "outputs": [
    {
     "data": {
      "text/plain": [
       "<matplotlib.axes._subplots.AxesSubplot at 0x156d4ed4978>"
      ]
     },
     "execution_count": 11,
     "metadata": {},
     "output_type": "execute_result"
    },
    {
     "data": {
      "image/png": "[encoded data removed]",
      "text/plain": [
       "<matplotlib.figure.Figure at 0x156c344f748>"
      ]
     },
     "metadata": {},
     "output_type": "display_data"
    }
   ],
   "source": [
    "corr = cancelled.corr()\n",
    "sns.heatmap(corr, \n",
    "            xticklabels=corr.columns.values,\n",
    "            yticklabels=corr.columns.values)"
   ]
  },
  {
   "cell_type": "code",
   "execution_count": 12,
   "metadata": {},
   "outputs": [
    {
     "data": {
      "text/plain": [
       "0.6174000050449421"
      ]
     },
     "execution_count": 12,
     "metadata": {},
     "output_type": "execute_result"
    }
   ],
   "source": [
    "len(cancelled[cancelled.O_SELECTED == 1]) / len(cancelled.O_SELECTED == 0)"
   ]
  },
  {
   "cell_type": "code",
   "execution_count": 13,
   "metadata": {},
   "outputs": [
    {
     "data": {
      "text/plain": [
       "array([210708, 210793, 210794, ..., 244839, 244719, 244720], dtype=int64)"
      ]
     },
     "execution_count": 13,
     "metadata": {},
     "output_type": "execute_result"
    }
   ],
   "source": [
    "cancelled.O_ID.unique()"
   ]
  },
  {
   "cell_type": "code",
   "execution_count": 14,
   "metadata": {
    "collapsed": true
   },
   "outputs": [],
   "source": [
    "made_offers = (made_offers.loc[(made_offers.event == \"O_Accepted\") \n",
    "                | (made_offers.event == \"O_Refused\")])"
   ]
  },
  {
   "cell_type": "code",
   "execution_count": 15,
   "metadata": {
    "collapsed": true
   },
   "outputs": [],
   "source": [
    "made_offers.O_SELECTED = np.where(made_offers['event'] == \"O_Accepted\", 1, 0)"
   ]
  },
  {
   "cell_type": "code",
   "execution_count": 16,
   "metadata": {},
   "outputs": [
    {
     "data": {
      "text/plain": [
       "(18102, (18102, 30))"
      ]
     },
     "execution_count": 16,
     "metadata": {},
     "output_type": "execute_result"
    }
   ],
   "source": [
    "len(made_offers.O_ID.unique()), made_offers.shape"
   ]
  },
  {
   "cell_type": "code",
   "execution_count": 17,
   "metadata": {},
   "outputs": [
    {
     "data": {
      "text/html": [
       "<div>\n",
       "<style scoped>\n",
       "    .dataframe tbody tr th:only-of-type {\n",
       "        vertical-align: middle;\n",
       "    }\n",
       "\n",
       "    .dataframe tbody tr th {\n",
       "        vertical-align: top;\n",
       "    }\n",
       "\n",
       "    .dataframe thead th {\n",
       "        text-align: right;\n",
       "    }\n",
       "</style>\n",
       "<table border=\"1\" class=\"dataframe\">\n",
       "  <thead>\n",
       "    <tr style=\"text-align: right;\">\n",
       "      <th></th>\n",
       "      <th>A_ID</th>\n",
       "      <th>O_ID</th>\n",
       "      <th>O_SCENARIO</th>\n",
       "      <th>O_DT_CREATED</th>\n",
       "      <th>O_AMOUNT</th>\n",
       "      <th>O_CREDITSCORE</th>\n",
       "      <th>O_FIRST_WITHDRAWL_AMOUNT</th>\n",
       "      <th>NUMBER_OF_TERMS</th>\n",
       "      <th>O_MONTHLY_COST</th>\n",
       "      <th>O_ACCEPTED</th>\n",
       "      <th>...</th>\n",
       "      <th>NUMBER_OF_CHILDREN</th>\n",
       "      <th>MARITAL_STATUS</th>\n",
       "      <th>SEX</th>\n",
       "      <th>HOUSING_TYPE</th>\n",
       "      <th>INCOMEAMOUNT_YEAR</th>\n",
       "      <th>SCE_CREDITSCORE</th>\n",
       "      <th>SCE_ACCEPTED</th>\n",
       "      <th>SCE_ACCEPTED_OVERRIDE</th>\n",
       "      <th>SCE_MAX_AMOUNT</th>\n",
       "      <th>SCE_MAX_AMOUNT_OVERRIDE</th>\n",
       "    </tr>\n",
       "  </thead>\n",
       "  <tbody>\n",
       "    <tr>\n",
       "      <th>0</th>\n",
       "      <td>719696</td>\n",
       "      <td>210708</td>\n",
       "      <td>1367858</td>\n",
       "      <td>2/1/2017 10:38:26,536000</td>\n",
       "      <td>29000.0</td>\n",
       "      <td>784.0</td>\n",
       "      <td>26604.0</td>\n",
       "      <td>120</td>\n",
       "      <td>29529</td>\n",
       "      <td>1</td>\n",
       "      <td>...</td>\n",
       "      <td>0</td>\n",
       "      <td>Samenwonend</td>\n",
       "      <td>Vrouw</td>\n",
       "      <td>Koophuis</td>\n",
       "      <td>41088.0</td>\n",
       "      <td>784.0</td>\n",
       "      <td>1.0</td>\n",
       "      <td>1.0</td>\n",
       "      <td>49340.0</td>\n",
       "      <td>49340.0</td>\n",
       "    </tr>\n",
       "    <tr>\n",
       "      <th>15</th>\n",
       "      <td>719699</td>\n",
       "      <td>210814</td>\n",
       "      <td>1367869</td>\n",
       "      <td>2/1/2017 17:22:18,492000</td>\n",
       "      <td>5000.0</td>\n",
       "      <td>719.0</td>\n",
       "      <td>175503.0</td>\n",
       "      <td>60</td>\n",
       "      <td>974</td>\n",
       "      <td>1</td>\n",
       "      <td>...</td>\n",
       "      <td>0</td>\n",
       "      <td>Alleenstaand</td>\n",
       "      <td>Vrouw</td>\n",
       "      <td>Huurhuis / Kamers</td>\n",
       "      <td>18000.0</td>\n",
       "      <td>719.0</td>\n",
       "      <td>1.0</td>\n",
       "      <td>1.0</td>\n",
       "      <td>58375.0</td>\n",
       "      <td>58375.0</td>\n",
       "    </tr>\n",
       "    <tr>\n",
       "      <th>23</th>\n",
       "      <td>719701</td>\n",
       "      <td>211658</td>\n",
       "      <td>1367878</td>\n",
       "      <td>9/1/2017 15:32:34,085000</td>\n",
       "      <td>22000.0</td>\n",
       "      <td>776.0</td>\n",
       "      <td>22000.0</td>\n",
       "      <td>120</td>\n",
       "      <td>22603</td>\n",
       "      <td>0</td>\n",
       "      <td>...</td>\n",
       "      <td>0</td>\n",
       "      <td>Alleenstaand</td>\n",
       "      <td>Man</td>\n",
       "      <td>Huurhuis / Kamers</td>\n",
       "      <td>27330.0</td>\n",
       "      <td>776.0</td>\n",
       "      <td>1.0</td>\n",
       "      <td>1.0</td>\n",
       "      <td>324765.0</td>\n",
       "      <td>33778.0</td>\n",
       "    </tr>\n",
       "    <tr>\n",
       "      <th>29</th>\n",
       "      <td>719702</td>\n",
       "      <td>210833</td>\n",
       "      <td>1367880</td>\n",
       "      <td>2/1/2017 19:42:25,280000</td>\n",
       "      <td>13000.0</td>\n",
       "      <td>NaN</td>\n",
       "      <td>3500.0</td>\n",
       "      <td>134</td>\n",
       "      <td>130</td>\n",
       "      <td>0</td>\n",
       "      <td>...</td>\n",
       "      <td>0</td>\n",
       "      <td>Alleenstaand</td>\n",
       "      <td>Man</td>\n",
       "      <td>Thuiswonend/ Inwonend</td>\n",
       "      <td>19224.0</td>\n",
       "      <td>683.0</td>\n",
       "      <td>1.0</td>\n",
       "      <td>1.0</td>\n",
       "      <td>151725.0</td>\n",
       "      <td>151725.0</td>\n",
       "    </tr>\n",
       "    <tr>\n",
       "      <th>35</th>\n",
       "      <td>719705</td>\n",
       "      <td>210832</td>\n",
       "      <td>1367893</td>\n",
       "      <td>2/1/2017 19:42:21,339000</td>\n",
       "      <td>10500.0</td>\n",
       "      <td>982.0</td>\n",
       "      <td>10500.0</td>\n",
       "      <td>60</td>\n",
       "      <td>19853</td>\n",
       "      <td>1</td>\n",
       "      <td>...</td>\n",
       "      <td>0</td>\n",
       "      <td>Gehuwd</td>\n",
       "      <td>Vrouw</td>\n",
       "      <td>Koophuis</td>\n",
       "      <td>48282.0</td>\n",
       "      <td>982.0</td>\n",
       "      <td>1.0</td>\n",
       "      <td>1.0</td>\n",
       "      <td>791635.0</td>\n",
       "      <td>81545.0</td>\n",
       "    </tr>\n",
       "  </tbody>\n",
       "</table>\n",
       "<p>5 rows × 30 columns</p>\n",
       "</div>"
      ],
      "text/plain": [
       "      A_ID    O_ID  O_SCENARIO              O_DT_CREATED  O_AMOUNT  \\\n",
       "0   719696  210708     1367858  2/1/2017 10:38:26,536000   29000.0   \n",
       "15  719699  210814     1367869  2/1/2017 17:22:18,492000    5000.0   \n",
       "23  719701  211658     1367878  9/1/2017 15:32:34,085000   22000.0   \n",
       "29  719702  210833     1367880  2/1/2017 19:42:25,280000   13000.0   \n",
       "35  719705  210832     1367893  2/1/2017 19:42:21,339000   10500.0   \n",
       "\n",
       "    O_CREDITSCORE  O_FIRST_WITHDRAWL_AMOUNT  NUMBER_OF_TERMS  O_MONTHLY_COST  \\\n",
       "0           784.0                   26604.0              120           29529   \n",
       "15          719.0                  175503.0               60             974   \n",
       "23          776.0                   22000.0              120           22603   \n",
       "29            NaN                    3500.0              134             130   \n",
       "35          982.0                   10500.0               60           19853   \n",
       "\n",
       "    O_ACCEPTED           ...            NUMBER_OF_CHILDREN  MARITAL_STATUS  \\\n",
       "0            1           ...                             0     Samenwonend   \n",
       "15           1           ...                             0    Alleenstaand   \n",
       "23           0           ...                             0    Alleenstaand   \n",
       "29           0           ...                             0    Alleenstaand   \n",
       "35           1           ...                             0          Gehuwd   \n",
       "\n",
       "      SEX           HOUSING_TYPE  INCOMEAMOUNT_YEAR SCE_CREDITSCORE  \\\n",
       "0   Vrouw               Koophuis            41088.0           784.0   \n",
       "15  Vrouw      Huurhuis / Kamers            18000.0           719.0   \n",
       "23    Man      Huurhuis / Kamers            27330.0           776.0   \n",
       "29    Man  Thuiswonend/ Inwonend            19224.0           683.0   \n",
       "35  Vrouw               Koophuis            48282.0           982.0   \n",
       "\n",
       "   SCE_ACCEPTED  SCE_ACCEPTED_OVERRIDE  SCE_MAX_AMOUNT SCE_MAX_AMOUNT_OVERRIDE  \n",
       "0           1.0                    1.0         49340.0                 49340.0  \n",
       "15          1.0                    1.0         58375.0                 58375.0  \n",
       "23          1.0                    1.0        324765.0                 33778.0  \n",
       "29          1.0                    1.0        151725.0                151725.0  \n",
       "35          1.0                    1.0        791635.0                 81545.0  \n",
       "\n",
       "[5 rows x 30 columns]"
      ]
     },
     "execution_count": 17,
     "metadata": {},
     "output_type": "execute_result"
    }
   ],
   "source": [
    "made_offers.head()"
   ]
  },
  {
   "cell_type": "markdown",
   "metadata": {},
   "source": [
    "Features that are going to be considered:\n",
    "* Marital status (e.g. married, single, divorced, widowed)\n",
    "* Housing type (e.g. owner occupied property, rental property etc)\n",
    "* Yearly income amount (yearly) (if married and/or living together: yearly income of partners)\n",
    "* Number of children \n",
    "* Sex (Male, Female)\n",
    "* Age (2017 - birthyear)\n",
    "* <b>O_Amount</b> (offered amount by bank; does not need to be equal to request amount by applicant (but this is often the case))\n",
    "* <b>Number of terms</b> (relevant to the applicant)\n",
    "* <b>Monthly cost</b> (relevant to the applicant)\n",
    "* Percentage offered amount of year income (amount / year_income) * 100 \n",
    "* Percentage yearly cost (12 * monthly cost) of year income\n",
    "* Difference between offered amount and inital requested amount\n",
    "\n",
    "The attributes that are made bold, are attributes which the bank can vary from offer to offer (i.e. the variables of the offer). Other attributes have a relation to these attributes (e.g. last three attributes), while the other attributes is simply customer data. The hypothesis is that there are differences between (groups) of customers in the cognitive mechanisms behind the decision making process when faced with an offer."
   ]
  },
  {
   "cell_type": "markdown",
   "metadata": {},
   "source": [
    "Construct age attribute from the applicant's birthyear "
   ]
  },
  {
   "cell_type": "code",
   "execution_count": 18,
   "metadata": {
    "collapsed": true
   },
   "outputs": [],
   "source": [
    "made_offers[\"age\"]= 2017 - made_offers.BIRTHYEAR"
   ]
  },
  {
   "cell_type": "markdown",
   "metadata": {},
   "source": [
    "Percentage offered amount of year income ((offered_amount / year_income) * 100)"
   ]
  },
  {
   "cell_type": "code",
   "execution_count": 19,
   "metadata": {
    "collapsed": true
   },
   "outputs": [],
   "source": [
    "made_offers[\"percentage_amount_income\"] = (made_offers.O_AMOUNT / made_offers.INCOMEAMOUNT_YEAR) * 100"
   ]
  },
  {
   "cell_type": "markdown",
   "metadata": {},
   "source": [
    "Percentage yearly cost (12 * monthly cost) of year income"
   ]
  },
  {
   "cell_type": "code",
   "execution_count": 20,
   "metadata": {
    "collapsed": true
   },
   "outputs": [],
   "source": [
    "made_offers[\"percentage_cost_income\"] = ((made_offers.O_MONTHLY_COST * 12) / made_offers.INCOMEAMOUNT_YEAR) * 100"
   ]
  },
  {
   "cell_type": "markdown",
   "metadata": {},
   "source": [
    "Enrich offer data with application data (e.g. the applicant's initial requested amount , the application type (e.g. new credit, raise limit) and application loan goal (e.g. car, homeimprovements etc.)"
   ]
  },
  {
   "cell_type": "code",
   "execution_count": 21,
   "metadata": {},
   "outputs": [
    {
     "data": {
      "text/html": [
       "<div>\n",
       "<style scoped>\n",
       "    .dataframe tbody tr th:only-of-type {\n",
       "        vertical-align: middle;\n",
       "    }\n",
       "\n",
       "    .dataframe tbody tr th {\n",
       "        vertical-align: top;\n",
       "    }\n",
       "\n",
       "    .dataframe thead th {\n",
       "        text-align: right;\n",
       "    }\n",
       "</style>\n",
       "<table border=\"1\" class=\"dataframe\">\n",
       "  <thead>\n",
       "    <tr style=\"text-align: right;\">\n",
       "      <th></th>\n",
       "      <th>A_ID</th>\n",
       "      <th>A_INIT_REQ_AMT</th>\n",
       "      <th>A_APPLICATIONTYPE_DESC</th>\n",
       "      <th>A_LOANGOALTYPE_DESC</th>\n",
       "    </tr>\n",
       "  </thead>\n",
       "  <tbody>\n",
       "    <tr>\n",
       "      <th>0</th>\n",
       "      <td>719696</td>\n",
       "      <td>29000.0</td>\n",
       "      <td>Nieuw krediet</td>\n",
       "      <td>Auto</td>\n",
       "    </tr>\n",
       "    <tr>\n",
       "      <th>8</th>\n",
       "      <td>719697</td>\n",
       "      <td>10000.0</td>\n",
       "      <td>Nieuw krediet</td>\n",
       "      <td>Auto</td>\n",
       "    </tr>\n",
       "    <tr>\n",
       "      <th>13</th>\n",
       "      <td>719698</td>\n",
       "      <td>15000.0</td>\n",
       "      <td>Nieuw krediet</td>\n",
       "      <td>Woningverbetering</td>\n",
       "    </tr>\n",
       "    <tr>\n",
       "      <th>18</th>\n",
       "      <td>719699</td>\n",
       "      <td>5000.0</td>\n",
       "      <td>Nieuw krediet</td>\n",
       "      <td>Overname lopende leningen</td>\n",
       "    </tr>\n",
       "    <tr>\n",
       "      <th>29</th>\n",
       "      <td>719700</td>\n",
       "      <td>5000.0</td>\n",
       "      <td>Nieuw krediet</td>\n",
       "      <td>Niet gespecificeerd</td>\n",
       "    </tr>\n",
       "  </tbody>\n",
       "</table>\n",
       "</div>"
      ],
      "text/plain": [
       "      A_ID  A_INIT_REQ_AMT A_APPLICATIONTYPE_DESC        A_LOANGOALTYPE_DESC\n",
       "0   719696         29000.0          Nieuw krediet                       Auto\n",
       "8   719697         10000.0          Nieuw krediet                       Auto\n",
       "13  719698         15000.0          Nieuw krediet          Woningverbetering\n",
       "18  719699          5000.0          Nieuw krediet  Overname lopende leningen\n",
       "29  719700          5000.0          Nieuw krediet        Niet gespecificeerd"
      ]
     },
     "execution_count": 21,
     "metadata": {},
     "output_type": "execute_result"
    }
   ],
   "source": [
    "unique_applications = applications.drop_duplicates(subset = 'A_ID')\n",
    "unique_applications = unique_applications[['A_ID', 'A_INIT_REQ_AMT', 'A_APPLICATIONTYPE_DESC', 'A_LOANGOALTYPE_DESC']]\n",
    "unique_applications.head()"
   ]
  },
  {
   "cell_type": "markdown",
   "metadata": {},
   "source": [
    "Enrich offer data with initial requested amount (not necesarilly equal to offered amount), application type and loan goal"
   ]
  },
  {
   "cell_type": "code",
   "execution_count": 22,
   "metadata": {
    "collapsed": true
   },
   "outputs": [],
   "source": [
    "made_offers = made_offers.merge(unique_applications, on = \"A_ID\")"
   ]
  },
  {
   "cell_type": "markdown",
   "metadata": {},
   "source": [
    "Calculate the difference between the offered amount and the initial requested amount"
   ]
  },
  {
   "cell_type": "code",
   "execution_count": 23,
   "metadata": {
    "collapsed": true
   },
   "outputs": [],
   "source": [
    "made_offers[\"diff_req_and_offered_amount\"] = abs(made_offers.A_INIT_REQ_AMT - made_offers.O_AMOUNT)"
   ]
  },
  {
   "cell_type": "code",
   "execution_count": 24,
   "metadata": {},
   "outputs": [
    {
     "data": {
      "text/plain": [
       "<matplotlib.axes._subplots.AxesSubplot at 0x156c7f83ef0>"
      ]
     },
     "execution_count": 24,
     "metadata": {},
     "output_type": "execute_result"
    },
    {
     "data": {
      "image/png": "[encoded data removed]",
      "text/plain": [
       "<matplotlib.figure.Figure at 0x156c3513a90>"
      ]
     },
     "metadata": {},
     "output_type": "display_data"
    }
   ],
   "source": [
    "corr = made_offers.corr()\n",
    "sns.heatmap(corr, \n",
    "            xticklabels=corr.columns.values,\n",
    "            yticklabels=corr.columns.values)"
   ]
  },
  {
   "cell_type": "markdown",
   "metadata": {},
   "source": [
    "### <font color=\"green\">Configure classification model</font>"
   ]
  },
  {
   "cell_type": "markdown",
   "metadata": {},
   "source": [
    "Target attribute (i.e. label): O_SELECTED"
   ]
  },
  {
   "cell_type": "code",
   "execution_count": 25,
   "metadata": {
    "collapsed": true
   },
   "outputs": [],
   "source": [
    "req_amount = tf.feature_column.numeric_column('A_INIT_REQ_AMT')\n",
    "income = tf.feature_column.numeric_column('INCOMEAMOUNT_YEAR')\n",
    "number_of_children = tf.feature_column.numeric_column('NUMBER_OF_CHILDREN')\n",
    "age = tf.feature_column.numeric_column('age')\n",
    "o_amount = tf.feature_column.numeric_column('O_AMOUNT')\n",
    "number_of_terms = tf.feature_column.numeric_column('NUMBER_OF_TERMS')\n",
    "monthly_cost = tf.feature_column.numeric_column('O_MONTHLY_COST')\n",
    "per_amount_income = tf.feature_column.numeric_column('percentage_amount_income')\n",
    "per_cost_income = tf.feature_column.numeric_column('percentage_cost_income')\n",
    "diff_req_and_offered_amount = tf.feature_column.numeric_column(\"diff_req_and_offered_amount\")"
   ]
  },
  {
   "cell_type": "code",
   "execution_count": 26,
   "metadata": {},
   "outputs": [
    {
     "data": {
      "text/plain": [
       "array(['Nieuw krediet', 'Limietverhoging'], dtype=object)"
      ]
     },
     "execution_count": 26,
     "metadata": {},
     "output_type": "execute_result"
    }
   ],
   "source": [
    "made_offers.A_APPLICATIONTYPE_DESC.unique()"
   ]
  },
  {
   "cell_type": "code",
   "execution_count": 27,
   "metadata": {},
   "outputs": [
    {
     "data": {
      "text/plain": [
       "array(['Auto', 'Overname lopende leningen', 'Woningverbetering',\n",
       "       'Anders, zie toelichting', nan, 'Extra Bestedingsruimte',\n",
       "       'Restschuld woning', 'Niet gespecificeerd', 'Boot',\n",
       "       'Tourcaravan / camper', 'Motor', 'Belastingbetalingen',\n",
       "       'Zakelijk doel (no go)', 'Verbouwing aan het huis',\n",
       "       'verbouwing meubels/interieur', 'Verbouwing aan tuin',\n",
       "       'Onderhandse lening'], dtype=object)"
      ]
     },
     "execution_count": 27,
     "metadata": {},
     "output_type": "execute_result"
    }
   ],
   "source": [
    "made_offers.A_LOANGOALTYPE_DESC.unique()"
   ]
  },
  {
   "cell_type": "code",
   "execution_count": 28,
   "metadata": {},
   "outputs": [
    {
     "data": {
      "text/plain": [
       "array(['Koophuis', 'Huurhuis / Kamers', 'Thuiswonend/ Inwonend'], dtype=object)"
      ]
     },
     "execution_count": 28,
     "metadata": {},
     "output_type": "execute_result"
    }
   ],
   "source": [
    "made_offers.HOUSING_TYPE.unique()"
   ]
  },
  {
   "cell_type": "code",
   "execution_count": 29,
   "metadata": {},
   "outputs": [
    {
     "data": {
      "text/plain": [
       "array(['Samenwonend', 'Alleenstaand', 'Gehuwd',\n",
       "       'Geregistreerd partnerschap'], dtype=object)"
      ]
     },
     "execution_count": 29,
     "metadata": {},
     "output_type": "execute_result"
    }
   ],
   "source": [
    "made_offers.MARITAL_STATUS.unique()"
   ]
  },
  {
   "cell_type": "code",
   "execution_count": 30,
   "metadata": {
    "collapsed": true
   },
   "outputs": [],
   "source": [
    "loanGoal = tf.feature_column.categorical_column_with_vocabulary_list('A_LOANGOALTYPE_DESC',\n",
    "                                                                           ['Auto', 'Woningverbetering', 'Overname lopende leningen',\n",
    "                                                                            'Tourcaravan / camper', 'Anders, zie toelichting', 'nan',\n",
    "                                                                            'Extra Bestedingsruimte', 'Niet gespecificeerd',\n",
    "                                                                            'Restschuld woning', 'Boot', 'Motor', 'Belastingbetalingen',\n",
    "                                                                            'Zakelijk doel (no go)', 'Schuldsanering (no go)',\n",
    "                                                                            'Verbouwing aan het huis', 'verbouwing meubels/interieur',\n",
    "                                                                            'Verbouwing aan tuin', 'Zakelijk pand (no go)', 'Onderhandse lening'])\n",
    "applicationType = tf.feature_column.categorical_column_with_vocabulary_list('A_APPLICATIONTYPE_DESC',\n",
    "                                                                           ['Nieuw krediet', 'Limietverhoging'])\n",
    "housingType = tf.feature_column.categorical_column_with_vocabulary_list('HOUSING_TYPE',\n",
    "                                                                          ['Koophuis', 'Thuiswonend/ Inwonend', 'Huurhuis / Kamers'])\n",
    "gender = tf.feature_column.categorical_column_with_vocabulary_list('SEX', ['Man', 'Vrouw'])\n",
    "marital_status = tf.feature_column.categorical_column_with_vocabulary_list('MARITAL_STATUS', ['Samenwonend', 'Alleenstaand',\n",
    "                                                                                              'Gehuwd', 'Geregistreerd partnerschap'])"
   ]
  },
  {
   "cell_type": "code",
   "execution_count": 31,
   "metadata": {},
   "outputs": [
    {
     "data": {
      "text/plain": [
       "(16889, 11)"
      ]
     },
     "execution_count": 31,
     "metadata": {},
     "output_type": "execute_result"
    }
   ],
   "source": [
    "made_offers = made_offers[['NUMBER_OF_CHILDREN','NUMBER_OF_TERMS',\n",
    "                           'O_MONTHLY_COST', 'percentage_amount_income', 'percentage_cost_income', 'MARITAL_STATUS',\n",
    "                          \"diff_req_and_offered_amount\", 'A_LOANGOALTYPE_DESC', 'A_APPLICATIONTYPE_DESC',\n",
    "                           'SEX', 'O_SELECTED']]\n",
    "made_offers = made_offers.dropna(how = \"any\")\n",
    "made_offers.shape"
   ]
  },
  {
   "cell_type": "code",
   "execution_count": 32,
   "metadata": {
    "collapsed": true
   },
   "outputs": [],
   "source": [
    "made_offers = made_offers.apply(preprocessing.LabelEncoder().fit_transform)"
   ]
  },
  {
   "cell_type": "code",
   "execution_count": 33,
   "metadata": {
    "collapsed": true
   },
   "outputs": [],
   "source": [
    "x_features = made_offers.drop('O_SELECTED', axis = 1)"
   ]
  },
  {
   "cell_type": "code",
   "execution_count": 34,
   "metadata": {
    "collapsed": true
   },
   "outputs": [],
   "source": [
    "pred_labels = made_offers['O_SELECTED']\n",
    "pred_labels = preprocessing.LabelEncoder().fit_transform(pred_labels)"
   ]
  },
  {
   "cell_type": "code",
   "execution_count": 35,
   "metadata": {
    "collapsed": true
   },
   "outputs": [],
   "source": [
    "feat_cols = [tf.contrib.layers.real_valued_column(\"\", dimension= x_features.shape[1])]"
   ]
  },
  {
   "cell_type": "code",
   "execution_count": 36,
   "metadata": {
    "collapsed": true
   },
   "outputs": [],
   "source": [
    "x_train, x_test, y_train, y_test = train_test_split(x_features.as_matrix(), pred_labels, test_size = 0.2, random_state = 700)"
   ]
  },
  {
   "cell_type": "code",
   "execution_count": 37,
   "metadata": {},
   "outputs": [
    {
     "name": "stdout",
     "output_type": "stream",
     "text": [
      "INFO:tensorflow:Using default config.\n",
      "INFO:tensorflow:Using config: {'_task_type': None, '_task_id': 0, '_cluster_spec': <tensorflow.python.training.server_lib.ClusterSpec object at 0x00000156CE9FC710>, '_master': '', '_num_ps_replicas': 0, '_num_worker_replicas': 0, '_environment': 'local', '_is_chief': True, '_evaluation_master': '', '_tf_config': gpu_options {\n",
      "  per_process_gpu_memory_fraction: 1\n",
      "}\n",
      ", '_tf_random_seed': None, '_save_summary_steps': 100, '_save_checkpoints_secs': 600, '_log_step_count_steps': 100, '_session_config': None, '_save_checkpoints_steps': None, '_keep_checkpoint_max': 5, '_keep_checkpoint_every_n_hours': 10000, '_model_dir': 'tf_model'}\n"
     ]
    }
   ],
   "source": [
    "classifier = tf.contrib.learn.DNNClassifier(feature_columns = feat_cols, hidden_units= [64, 32, 16],\n",
    "                                            n_classes = 2, model_dir  =\"tf_model\")"
   ]
  },
  {
   "cell_type": "code",
   "execution_count": 38,
   "metadata": {
    "collapsed": true
   },
   "outputs": [],
   "source": [
    "pipe_tf = Pipeline([('std_scl', preprocessing.StandardScaler()), ('dnn', classifier)])"
   ]
  },
  {
   "cell_type": "code",
   "execution_count": 39,
   "metadata": {},
   "outputs": [
    {
     "name": "stdout",
     "output_type": "stream",
     "text": [
      "WARNING:tensorflow:From C:\\ProgramData\\Anaconda3\\lib\\site-packages\\sklearn\\pipeline.py:270: calling BaseEstimator.fit (from tensorflow.contrib.learn.python.learn.estimators.estimator) with x is deprecated and will be removed after 2016-12-01.\n",
      "Instructions for updating:\n",
      "Estimator is decoupled from Scikit Learn interface by moving into\n",
      "separate class SKCompat. Arguments x, y and batch_size are only\n",
      "available in the SKCompat class, Estimator will only accept input_fn.\n",
      "Example conversion:\n",
      "  est = Estimator(...) -> est = SKCompat(Estimator(...))\n",
      "WARNING:tensorflow:From C:\\ProgramData\\Anaconda3\\lib\\site-packages\\sklearn\\pipeline.py:270: calling BaseEstimator.fit (from tensorflow.contrib.learn.python.learn.estimators.estimator) with y is deprecated and will be removed after 2016-12-01.\n",
      "Instructions for updating:\n",
      "Estimator is decoupled from Scikit Learn interface by moving into\n",
      "separate class SKCompat. Arguments x, y and batch_size are only\n",
      "available in the SKCompat class, Estimator will only accept input_fn.\n",
      "Example conversion:\n",
      "  est = Estimator(...) -> est = SKCompat(Estimator(...))\n",
      "WARNING:tensorflow:float64 is not supported by many models, consider casting to float32.\n"
     ]
    },
    {
     "name": "stderr",
     "output_type": "stream",
     "text": [
      "C:\\ProgramData\\Anaconda3\\lib\\site-packages\\sklearn\\utils\\validation.py:429: DataConversionWarning: Data with input dtype int64 was converted to float64 by StandardScaler.\n",
      "  warnings.warn(msg, _DataConversionWarning)\n"
     ]
    },
    {
     "name": "stdout",
     "output_type": "stream",
     "text": [
      "WARNING:tensorflow:From C:\\ProgramData\\Anaconda3\\lib\\site-packages\\tensorflow\\contrib\\learn\\python\\learn\\estimators\\head.py:642: scalar_summary (from tensorflow.python.ops.logging_ops) is deprecated and will be removed after 2016-11-30.\n",
      "Instructions for updating:\n",
      "Please switch to tf.summary.scalar. Note that tf.summary.scalar uses the node name instead of the tag. This means that TensorFlow will automatically de-duplicate summary names based on the scope they are created in. Also, passing a tensor or list of tags to a scalar summary op is no longer supported.\n",
      "WARNING:tensorflow:Casting <dtype: 'int64'> labels to bool.\n",
      "WARNING:tensorflow:Casting <dtype: 'int64'> labels to bool.\n",
      "INFO:tensorflow:Create CheckpointSaverHook.\n",
      "INFO:tensorflow:Restoring parameters from tf_model\\model.ckpt-2000\n",
      "INFO:tensorflow:Saving checkpoints for 2001 into tf_model\\model.ckpt.\n",
      "INFO:tensorflow:loss = 0.454038, step = 2001\n",
      "INFO:tensorflow:global_step/sec: 28.9475\n",
      "INFO:tensorflow:loss = 0.451653, step = 2101 (3.470 sec)\n",
      "INFO:tensorflow:global_step/sec: 28.2644\n",
      "INFO:tensorflow:loss = 0.451626, step = 2201 (3.522 sec)\n",
      "INFO:tensorflow:global_step/sec: 29.8523\n",
      "INFO:tensorflow:loss = 0.448687, step = 2301 (3.365 sec)\n",
      "INFO:tensorflow:global_step/sec: 27.231\n",
      "INFO:tensorflow:loss = 0.449991, step = 2401 (3.657 sec)\n",
      "INFO:tensorflow:global_step/sec: 27.2433\n",
      "INFO:tensorflow:loss = 0.446781, step = 2501 (3.674 sec)\n",
      "INFO:tensorflow:global_step/sec: 28.6377\n",
      "INFO:tensorflow:loss = 0.448728, step = 2601 (3.489 sec)\n",
      "INFO:tensorflow:global_step/sec: 25.8148\n",
      "INFO:tensorflow:loss = 0.445064, step = 2701 (3.874 sec)\n",
      "INFO:tensorflow:global_step/sec: 27.6384\n",
      "INFO:tensorflow:loss = 0.446262, step = 2801 (3.618 sec)\n",
      "INFO:tensorflow:global_step/sec: 27.5084\n",
      "INFO:tensorflow:loss = 0.443297, step = 2901 (3.635 sec)\n",
      "INFO:tensorflow:global_step/sec: 27.7814\n",
      "INFO:tensorflow:loss = 0.444672, step = 3001 (3.615 sec)\n",
      "INFO:tensorflow:global_step/sec: 25.4551\n",
      "INFO:tensorflow:loss = 0.442489, step = 3101 (3.913 sec)\n",
      "INFO:tensorflow:global_step/sec: 28.0746\n",
      "INFO:tensorflow:loss = 0.441699, step = 3201 (3.578 sec)\n",
      "INFO:tensorflow:global_step/sec: 27.6626\n",
      "INFO:tensorflow:loss = 0.441962, step = 3301 (3.615 sec)\n",
      "INFO:tensorflow:global_step/sec: 27.604\n",
      "INFO:tensorflow:loss = 0.438979, step = 3401 (3.607 sec)\n",
      "INFO:tensorflow:global_step/sec: 27.8742\n",
      "INFO:tensorflow:loss = 0.438949, step = 3501 (3.588 sec)\n",
      "INFO:tensorflow:global_step/sec: 27.5671\n",
      "INFO:tensorflow:loss = 0.439045, step = 3601 (3.628 sec)\n",
      "INFO:tensorflow:global_step/sec: 28.4979\n",
      "INFO:tensorflow:loss = 0.437326, step = 3701 (3.525 sec)\n",
      "INFO:tensorflow:global_step/sec: 27.2622\n",
      "INFO:tensorflow:loss = 0.435894, step = 3801 (3.668 sec)\n",
      "INFO:tensorflow:global_step/sec: 26.4114\n",
      "INFO:tensorflow:loss = 0.437741, step = 3901 (3.771 sec)\n",
      "INFO:tensorflow:Saving checkpoints for 4000 into tf_model\\model.ckpt.\n",
      "INFO:tensorflow:Loss for final step: 0.435246.\n"
     ]
    },
    {
     "data": {
      "text/plain": [
       "Pipeline(steps=[('std_scl', StandardScaler(copy=True, with_mean=True, with_std=True)), ('dnn', DNNClassifier(params={'head': <tensorflow.contrib.learn.python.learn.estimators.head._BinaryLogisticHead object at 0x00000156C7B79390>, 'hidden_units': [64, 32, 16], 'feature_columns': (_RealValuedColumn(column_nam...'gradient_clip_norm': None, 'embedding_lr_multipliers': None, 'input_layer_min_slice_size': None}))])"
      ]
     },
     "execution_count": 39,
     "metadata": {},
     "output_type": "execute_result"
    }
   ],
   "source": [
    "pipe_tf.fit(x_train, y_train, dnn__steps = 2000)"
   ]
  },
  {
   "cell_type": "code",
   "execution_count": 40,
   "metadata": {},
   "outputs": [
    {
     "name": "stdout",
     "output_type": "stream",
     "text": [
      "WARNING:tensorflow:From C:\\ProgramData\\Anaconda3\\lib\\site-packages\\tensorflow\\python\\util\\deprecation.py:355: calling DNNClassifier.predict (from tensorflow.contrib.learn.python.learn.estimators.dnn) with outputs=None is deprecated and will be removed after 2017-03-01.\n",
      "Instructions for updating:\n",
      "Please switch to predict_classes, or set `outputs` argument.\n",
      "WARNING:tensorflow:From C:\\ProgramData\\Anaconda3\\lib\\site-packages\\tensorflow\\contrib\\learn\\python\\learn\\estimators\\dnn.py:452: calling BaseEstimator.predict (from tensorflow.contrib.learn.python.learn.estimators.estimator) with x is deprecated and will be removed after 2016-12-01.\n",
      "Instructions for updating:\n",
      "Estimator is decoupled from Scikit Learn interface by moving into\n",
      "separate class SKCompat. Arguments x, y and batch_size are only\n",
      "available in the SKCompat class, Estimator will only accept input_fn.\n",
      "Example conversion:\n",
      "  est = Estimator(...) -> est = SKCompat(Estimator(...))\n",
      "WARNING:tensorflow:float64 is not supported by many models, consider casting to float32.\n"
     ]
    },
    {
     "name": "stderr",
     "output_type": "stream",
     "text": [
      "C:\\ProgramData\\Anaconda3\\lib\\site-packages\\sklearn\\utils\\validation.py:429: DataConversionWarning: Data with input dtype int64 was converted to float64 by StandardScaler.\n",
      "  warnings.warn(msg, _DataConversionWarning)\n"
     ]
    },
    {
     "name": "stdout",
     "output_type": "stream",
     "text": [
      "INFO:tensorflow:Restoring parameters from tf_model\\model.ckpt-4000\n",
      "Accuracy: 0.769982\n"
     ]
    }
   ],
   "source": [
    "score = metrics.accuracy_score(y_test, list(pipe_tf.predict(x_test)))\n",
    "print('Accuracy: {0:f}'.format(score))"
   ]
  },
  {
   "cell_type": "code",
   "execution_count": 41,
   "metadata": {},
   "outputs": [
    {
     "name": "stdout",
     "output_type": "stream",
     "text": [
      "WARNING:tensorflow:From C:\\ProgramData\\Anaconda3\\lib\\site-packages\\tensorflow\\python\\util\\deprecation.py:355: calling DNNClassifier.predict (from tensorflow.contrib.learn.python.learn.estimators.dnn) with outputs=None is deprecated and will be removed after 2017-03-01.\n",
      "Instructions for updating:\n",
      "Please switch to predict_classes, or set `outputs` argument.\n",
      "WARNING:tensorflow:From C:\\ProgramData\\Anaconda3\\lib\\site-packages\\tensorflow\\contrib\\learn\\python\\learn\\estimators\\dnn.py:452: calling BaseEstimator.predict (from tensorflow.contrib.learn.python.learn.estimators.estimator) with x is deprecated and will be removed after 2016-12-01.\n",
      "Instructions for updating:\n",
      "Estimator is decoupled from Scikit Learn interface by moving into\n",
      "separate class SKCompat. Arguments x, y and batch_size are only\n",
      "available in the SKCompat class, Estimator will only accept input_fn.\n",
      "Example conversion:\n",
      "  est = Estimator(...) -> est = SKCompat(Estimator(...))\n",
      "WARNING:tensorflow:float64 is not supported by many models, consider casting to float32.\n"
     ]
    },
    {
     "name": "stderr",
     "output_type": "stream",
     "text": [
      "C:\\ProgramData\\Anaconda3\\lib\\site-packages\\sklearn\\utils\\validation.py:429: DataConversionWarning: Data with input dtype int64 was converted to float64 by StandardScaler.\n",
      "  warnings.warn(msg, _DataConversionWarning)\n"
     ]
    },
    {
     "name": "stdout",
     "output_type": "stream",
     "text": [
      "INFO:tensorflow:Restoring parameters from tf_model\\model.ckpt-4000\n"
     ]
    },
    {
     "data": {
      "text/plain": [
       "<matplotlib.axes._subplots.AxesSubplot at 0x156d564c2e8>"
      ]
     },
     "execution_count": 41,
     "metadata": {},
     "output_type": "execute_result"
    },
    {
     "data": {
      "image/png": "[encoded data removed]",
      "text/plain": [
       "<matplotlib.figure.Figure at 0x156d5081da0>"
      ]
     },
     "metadata": {},
     "output_type": "display_data"
    }
   ],
   "source": [
    "confusion_matrix = metrics.confusion_matrix(y_test, list(pipe_tf.predict(x_test)))\n",
    "plt.figure(figsize = (10,7))\n",
    "sns.heatmap(confusion_matrix, annot=True)"
   ]
  },
  {
   "cell_type": "code",
   "execution_count": 42,
   "metadata": {},
   "outputs": [
    {
     "name": "stdout",
     "output_type": "stream",
     "text": [
      "WARNING:tensorflow:From C:\\ProgramData\\Anaconda3\\lib\\site-packages\\tensorflow\\python\\util\\deprecation.py:355: calling DNNClassifier.predict (from tensorflow.contrib.learn.python.learn.estimators.dnn) with outputs=None is deprecated and will be removed after 2017-03-01.\n",
      "Instructions for updating:\n",
      "Please switch to predict_classes, or set `outputs` argument.\n",
      "WARNING:tensorflow:From C:\\ProgramData\\Anaconda3\\lib\\site-packages\\tensorflow\\contrib\\learn\\python\\learn\\estimators\\dnn.py:452: calling BaseEstimator.predict (from tensorflow.contrib.learn.python.learn.estimators.estimator) with x is deprecated and will be removed after 2016-12-01.\n",
      "Instructions for updating:\n",
      "Estimator is decoupled from Scikit Learn interface by moving into\n",
      "separate class SKCompat. Arguments x, y and batch_size are only\n",
      "available in the SKCompat class, Estimator will only accept input_fn.\n",
      "Example conversion:\n",
      "  est = Estimator(...) -> est = SKCompat(Estimator(...))\n",
      "WARNING:tensorflow:float64 is not supported by many models, consider casting to float32.\n"
     ]
    },
    {
     "name": "stderr",
     "output_type": "stream",
     "text": [
      "C:\\ProgramData\\Anaconda3\\lib\\site-packages\\sklearn\\utils\\validation.py:429: DataConversionWarning: Data with input dtype int64 was converted to float64 by StandardScaler.\n",
      "  warnings.warn(msg, _DataConversionWarning)\n"
     ]
    },
    {
     "name": "stdout",
     "output_type": "stream",
     "text": [
      "INFO:tensorflow:Restoring parameters from tf_model\\model.ckpt-4000\n"
     ]
    },
    {
     "data": {
      "text/plain": [
       "array([[ 351,  514],\n",
       "       [ 263, 2250]])"
      ]
     },
     "execution_count": 42,
     "metadata": {},
     "output_type": "execute_result"
    }
   ],
   "source": [
    "metrics.confusion_matrix(y_test, list(pipe_tf.predict(x_test)))"
   ]
  }
 ],
 "metadata": {
  "kernelspec": {
   "display_name": "Python 3",
   "language": "python",
   "name": "python3"
  },
  "language_info": {
   "codemirror_mode": {
    "name": "ipython",
    "version": 3
   },
   "file_extension": ".py",
   "mimetype": "text/x-python",
   "name": "python",
   "nbconvert_exporter": "python",
   "pygments_lexer": "ipython3",
   "version": "3.6.3"
  }
 },
 "nbformat": 4,
 "nbformat_minor": 2
}
